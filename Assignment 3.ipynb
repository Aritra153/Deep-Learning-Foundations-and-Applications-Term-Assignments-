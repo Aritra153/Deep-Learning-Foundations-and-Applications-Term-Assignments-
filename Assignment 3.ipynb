{
  "cells": [
    {
      "cell_type": "code",
      "execution_count": 1,
      "metadata": {
        "id": "ptB0c8FnxAo2"
      },
      "outputs": [],
      "source": [
        "import numpy as np\n",
        "from sklearn.datasets import fetch_california_housing\n",
        "import matplotlib.pyplot as plt\n",
        "import torch"
      ]
    },
    {
      "cell_type": "code",
      "execution_count": 2,
      "metadata": {
        "colab": {
          "base_uri": "https://localhost:8080/"
        },
        "id": "_xw7zfJgxKLN",
        "outputId": "e106f128-7706-4701-91ea-8dbcdd435c24"
      },
      "outputs": [
        {
          "output_type": "stream",
          "name": "stdout",
          "text": [
            "(20640, 8)\n"
          ]
        }
      ],
      "source": [
        "housing_data = fetch_california_housing()\n",
        "print(housing_data.data.shape)"
      ]
    },
    {
      "cell_type": "markdown",
      "metadata": {
        "id": "E4jjesRX1aob"
      },
      "source": [
        "The above Output shows that it is a dataset with 20640 training examples and 8 features"
      ]
    },
    {
      "cell_type": "code",
      "execution_count": 3,
      "metadata": {
        "colab": {
          "base_uri": "https://localhost:8080/"
        },
        "id": "Zlnuu7pS0F08",
        "outputId": "37dbe04f-31fd-4945-9646-39750793e404"
      },
      "outputs": [
        {
          "output_type": "stream",
          "name": "stdout",
          "text": [
            "['MedInc', 'HouseAge', 'AveRooms', 'AveBedrms', 'Population', 'AveOccup', 'Latitude', 'Longitude']\n"
          ]
        }
      ],
      "source": [
        "print(housing_data.feature_names)"
      ]
    },
    {
      "cell_type": "markdown",
      "metadata": {
        "id": "E_DBpqOoJ7UT"
      },
      "source": [
        "The cell below converts all the features into a list format"
      ]
    },
    {
      "cell_type": "code",
      "execution_count": 4,
      "metadata": {
        "id": "QxuzVoUn0Rfg"
      },
      "outputs": [],
      "source": [
        "\n",
        "features_list=housing_data.feature_names"
      ]
    },
    {
      "cell_type": "markdown",
      "metadata": {
        "id": "HOvQXalsKiZE"
      },
      "source": [
        "If I want to view all the 20640 values corresponding to a particular feature in list format, I can use the below command"
      ]
    },
    {
      "cell_type": "code",
      "execution_count": 5,
      "metadata": {
        "colab": {
          "base_uri": "https://localhost:8080/"
        },
        "id": "xj1qTTO34DJs",
        "outputId": "a86cd893-0deb-41bd-b5ae-80c395872d92"
      },
      "outputs": [
        {
          "output_type": "stream",
          "name": "stdout",
          "text": [
            "[8.3252 8.3014 7.2574 ... 1.7    1.8672 2.3886]\n"
          ]
        }
      ],
      "source": [
        "median_income_feature = housing_data.data[:,features_list.index(features_list[0])]\n",
        "print(median_income_feature)"
      ]
    },
    {
      "cell_type": "markdown",
      "metadata": {
        "id": "1JAblZQJ8Wsj"
      },
      "source": [
        "Next, I will create the input array by stacking all the training examples(20640) along with the 8 input features. The input array size will be (8,20640) in this case. The function set_input does this task"
      ]
    },
    {
      "cell_type": "code",
      "execution_count": 7,
      "metadata": {
        "id": "xYbCOqfv4OdM"
      },
      "outputs": [],
      "source": [
        "input_arr=np.zeros((8,20640))"
      ]
    },
    {
      "cell_type": "code",
      "execution_count": 8,
      "metadata": {
        "id": "9pH3xw-h_TVW"
      },
      "outputs": [],
      "source": [
        "def set_input(features_list,input_arr):\n",
        "  x=input_arr.shape[0]\n",
        "  y=input_arr.shape[1]\n",
        "  for i in range(x):\n",
        "    for j in range(y):\n",
        "      input_arr[i][j]=housing_data.data[:,features_list.index(features_list[i])][j]\n",
        "  return input_arr\n",
        "\n"
      ]
    },
    {
      "cell_type": "code",
      "execution_count": 9,
      "metadata": {
        "id": "i-pcRJzGGDuo"
      },
      "outputs": [],
      "source": [
        "input_arr=set_input(features_list,input_arr)"
      ]
    },
    {
      "cell_type": "code",
      "execution_count": 10,
      "metadata": {
        "colab": {
          "base_uri": "https://localhost:8080/"
        },
        "id": "SGTXz5EIGQIm",
        "outputId": "bd4e5651-b8df-4e32-b1d0-44c9a0048853"
      },
      "outputs": [
        {
          "output_type": "execute_result",
          "data": {
            "text/plain": [
              "array([[   8.3252    ,    8.3014    ,    7.2574    , ...,    1.7       ,\n",
              "           1.8672    ,    2.3886    ],\n",
              "       [  41.        ,   21.        ,   52.        , ...,   17.        ,\n",
              "          18.        ,   16.        ],\n",
              "       [   6.98412698,    6.23813708,    8.28813559, ...,    5.20554273,\n",
              "           5.32951289,    5.25471698],\n",
              "       ...,\n",
              "       [   2.55555556,    2.10984183,    2.80225989, ...,    2.3256351 ,\n",
              "           2.12320917,    2.61698113],\n",
              "       [  37.88      ,   37.86      ,   37.85      , ...,   39.43      ,\n",
              "          39.43      ,   39.37      ],\n",
              "       [-122.23      , -122.22      , -122.24      , ..., -121.22      ,\n",
              "        -121.32      , -121.24      ]])"
            ]
          },
          "metadata": {},
          "execution_count": 10
        }
      ],
      "source": [
        "input_arr"
      ]
    },
    {
      "cell_type": "markdown",
      "source": [
        "**Question No (1)**: I have to create the complete Neural Network as suggested in the question, from Scratch. I have used NumPy library exclusively for this purpose. I have defined separate functions for Weights & Biases initialization, Forward Propagation, Backpropagation and later built Adam Optimizer and NAG optimization algorithm from scratch  "
      ],
      "metadata": {
        "id": "zh6uEMuBfETu"
      }
    },
    {
      "cell_type": "markdown",
      "metadata": {
        "id": "sJNqust1OWnF"
      },
      "source": [
        "**In the following cells below, I have defined all the hidden layers by help of a dictionary**"
      ]
    },
    {
      "cell_type": "markdown",
      "metadata": {
        "id": "a503NU682fFU"
      },
      "source": [
        "The next cell is used to initialize the weights and biases according to the given Neural Network. I have also used a seed value of 42"
      ]
    },
    {
      "cell_type": "code",
      "execution_count": 11,
      "metadata": {
        "id": "P4WfIs-IO09z"
      },
      "outputs": [],
      "source": [
        "layer_dict={'H0':8,'H1':128,'H2':64,'H3':32,'H4':1} #H0 denotes the no.of input features=8\n",
        "\n",
        "def initialize_weights_biases(layer_dict):\n",
        "  '''\n",
        "  Initializing the Weights(4, 2-D arrays with all positive and small random values)\n",
        "  '''\n",
        "  seed_value = 42\n",
        "  torch.manual_seed(seed_value)\n",
        "  W1=(np.random.randn(layer_dict['H1'],layer_dict['H0'])*0.01)\n",
        "  W2=(np.random.randn(layer_dict['H2'],layer_dict['H1'])*0.01)\n",
        "  W3=(np.random.randn(layer_dict['H3'],layer_dict['H2'])*0.01)\n",
        "  W4=(np.random.randn(layer_dict['H4'],layer_dict['H3'])*0.01)\n",
        "  '''\n",
        "  Initializing the Biases(4, 1-D arrays with all values initialized to 0)\n",
        "  '''\n",
        "  b1=np.zeros((layer_dict['H1'],1))\n",
        "  b2=np.zeros((layer_dict['H2'],1))\n",
        "  b3=np.zeros((layer_dict['H3'],1))\n",
        "  b4=np.zeros((layer_dict['H4'],1))\n",
        "\n",
        "  weights_dict={'W1':W1,'W2':W2,'W3':W3,'W4':W4}\n",
        "  bias_dict={'b1':b1,'b2':b2,'b3':b3,'b4':b4}\n",
        "\n",
        "  return weights_dict,bias_dict\n"
      ]
    },
    {
      "cell_type": "markdown",
      "metadata": {
        "id": "WAGA5rzQ35gg"
      },
      "source": [
        "In the cell below, I have created separate activation functions(**'ReLU'**(for hidden layers) and **'Linear'**(for output layer)) with the help of user defined functions.There needs to no changes made for Linear part"
      ]
    },
    {
      "cell_type": "code",
      "execution_count": 18,
      "metadata": {
        "id": "0LD0ey-xY0rz"
      },
      "outputs": [],
      "source": [
        "def relu_func(num):\n",
        "  if(num>=0):\n",
        "    return num\n",
        "  else:\n",
        "    return 0\n",
        "\n",
        "def ReLU_func(arr):\n",
        "  x=arr.shape[0]\n",
        "  y=arr.shape[1]\n",
        "  arr1=np.zeros((x,y))\n",
        "  for i in range(x):\n",
        "    for j in range(y):\n",
        "      arr1[i][j]=arr[i][j]\n",
        "  for i in range(x):\n",
        "    for j in range(y):\n",
        "      arr1[i][j]=relu_func(arr1[i][j])\n",
        "  return arr1\n"
      ]
    },
    {
      "cell_type": "code",
      "execution_count": 19,
      "metadata": {
        "id": "bVS1SGOC79k2"
      },
      "outputs": [],
      "source": [
        "def forward_pass(input_arr,weights_dict,bias_dict):\n",
        "  Z_dict={}\n",
        "  A_dict={}\n",
        "  X=np.dot(weights_dict['W1'],input_arr)\n",
        "  Z=X+bias_dict['b1']\n",
        "  Z_dict['Z1']=Z\n",
        "  A=ReLU_func(Z)\n",
        "  A_dict['A1']=A\n",
        "  for i in range(2,4):\n",
        "    X=np.dot(weights_dict['W'+str(i)],A_dict['A'+str(i-1)])\n",
        "    Z=X+bias_dict['b'+str(i)]\n",
        "    Z_dict['Z'+str(i)]=Z\n",
        "    A=ReLU_func(Z)\n",
        "    A_dict['A'+str(i)]=A\n",
        "  X=np.dot(weights_dict['W4'],A_dict['A3'])\n",
        "  Z=X+bias_dict['b4']\n",
        "  Z_dict['Z4']=Z\n",
        "  A_dict['A4']=Z\n",
        "  return Z_dict,A_dict\n"
      ]
    },
    {
      "cell_type": "markdown",
      "metadata": {
        "id": "1Zkuw-1HYFPu"
      },
      "source": [
        "As the Loss is RMSE loss, I will use the ground truth labels(y) and the final output (y(hat)=A4) for calculation"
      ]
    },
    {
      "cell_type": "code",
      "execution_count": 20,
      "metadata": {
        "colab": {
          "base_uri": "https://localhost:8080/"
        },
        "id": "Wufh5vo_X37m",
        "outputId": "3732ab75-79e3-4850-e87b-5aaffd5067f0"
      },
      "outputs": [
        {
          "output_type": "execute_result",
          "data": {
            "text/plain": [
              "(20640,)"
            ]
          },
          "metadata": {},
          "execution_count": 20
        }
      ],
      "source": [
        "ground_truth_labels=housing_data.target\n",
        "ground_truth_labels.shape\n"
      ]
    },
    {
      "cell_type": "markdown",
      "metadata": {
        "id": "j1l4n78Z7w2J"
      },
      "source": [
        "Next, I will be matching the shapes of y(ground_truth_labels) and y_predicted by creating a 1-D array. I have defined a function \"y_predicted\" for this purpose"
      ]
    },
    {
      "cell_type": "code",
      "execution_count": 21,
      "metadata": {
        "id": "UrXPW6R6dDvm"
      },
      "outputs": [],
      "source": [
        "def y_predicted(input_arr):\n",
        "  x=input_arr.shape[1]\n",
        "  y_pred=[]\n",
        "  for i in range(x):\n",
        "    y_pred.append(input_arr[0][i])\n",
        "  y_pred=np.array(y_pred)\n",
        "  return y_pred"
      ]
    },
    {
      "cell_type": "markdown",
      "source": [
        "In the cell below, I have defined function for calculating RMSE loss"
      ],
      "metadata": {
        "id": "KohRQl3Rfn13"
      }
    },
    {
      "cell_type": "code",
      "execution_count": 22,
      "metadata": {
        "id": "3whRNjNp29LR"
      },
      "outputs": [],
      "source": [
        "import math\n",
        "def RMS_loss(ground_truth_labels,y_pred):\n",
        "  x=len(ground_truth_labels)\n",
        "  sum=0\n",
        "  for i in range(x):\n",
        "    sum=sum+math.pow((ground_truth_labels[i]-y_pred[i]),2)\n",
        "  sum=sum/x\n",
        "\n",
        "  return sum"
      ]
    },
    {
      "cell_type": "markdown",
      "metadata": {
        "id": "vXp01OkRUrYy"
      },
      "source": [
        "In the next cell, I gave defined a function for slicing the input_array(8,20640) based on start index, end index. It would be beneficial for mini_batch gradient descent with given batch size(32) and also it would help splitting the dataset into training and validation sets(80:20)"
      ]
    },
    {
      "cell_type": "code",
      "execution_count": 23,
      "metadata": {
        "id": "nUaQGtA2-l5z"
      },
      "outputs": [],
      "source": [
        "def slice_array(arr,start_idx,end_idx):\n",
        "  y=end_idx-start_idx\n",
        "  x=arr.shape[0]\n",
        "  sliced_arr=np.zeros((x,y))\n",
        "  for i in range(x):\n",
        "    for j in range(start_idx,end_idx):\n",
        "      sliced_arr[i][j-start_idx]=arr[i][j]\n",
        "\n",
        "  return sliced_arr\n"
      ]
    },
    {
      "cell_type": "code",
      "execution_count": 24,
      "metadata": {
        "id": "bcM8UdFjVZ8i"
      },
      "outputs": [],
      "source": [
        "end_index=int((80/100)*20640)\n",
        "training_input=slice_array(input_arr,0,end_index)\n",
        "validation_input=slice_array(input_arr,end_index,input_arr.shape[1])\n",
        "batch_size=32\n",
        "n_epochs=100"
      ]
    },
    {
      "cell_type": "code",
      "execution_count": 25,
      "metadata": {
        "colab": {
          "base_uri": "https://localhost:8080/"
        },
        "id": "J9iFmw9EapFy",
        "outputId": "05d4a490-5ead-4b0b-ea3d-cf6d409ced53"
      },
      "outputs": [
        {
          "output_type": "stream",
          "name": "stdout",
          "text": [
            "(8, 16512)\n"
          ]
        }
      ],
      "source": [
        "print(training_input.shape)"
      ]
    },
    {
      "cell_type": "code",
      "execution_count": 26,
      "metadata": {
        "colab": {
          "base_uri": "https://localhost:8080/"
        },
        "id": "AfiCNdi1b0j-",
        "outputId": "161559f6-3cb4-42af-bb27-fea21cc1889e"
      },
      "outputs": [
        {
          "output_type": "stream",
          "name": "stdout",
          "text": [
            "(8, 4128)\n"
          ]
        }
      ],
      "source": [
        "print(validation_input.shape)"
      ]
    },
    {
      "cell_type": "code",
      "execution_count": 27,
      "metadata": {
        "id": "4Ne2qNBUHyY-"
      },
      "outputs": [],
      "source": [
        "def slice_labels(labels_array,start_index,end_index):\n",
        "  x=len(labels_array)\n",
        "  sliced_labels=[]\n",
        "  for i in range(start_index,end_index):\n",
        "    sliced_labels.append(labels_array[i])\n",
        "  return sliced_labels"
      ]
    },
    {
      "cell_type": "code",
      "execution_count": 28,
      "metadata": {
        "id": "fy9O3gv6KmTb"
      },
      "outputs": [],
      "source": [
        "end=int((80/100)*20640)\n",
        "training_labels=slice_labels(ground_truth_labels,0,end)\n",
        "validation_labels=slice_labels(ground_truth_labels,end,len(ground_truth_labels))"
      ]
    },
    {
      "cell_type": "code",
      "execution_count": 29,
      "metadata": {
        "colab": {
          "base_uri": "https://localhost:8080/"
        },
        "id": "sr0GFO7_Lykw",
        "outputId": "8e7fe647-ffe4-44f6-dbd1-43e1f0dbf458"
      },
      "outputs": [
        {
          "output_type": "stream",
          "name": "stdout",
          "text": [
            "16512\n"
          ]
        }
      ],
      "source": [
        "print(len(training_labels))"
      ]
    },
    {
      "cell_type": "markdown",
      "source": [
        "Question No (2): Building Adam Optimizer from Scratch and defining other helper functions needed for the purpose"
      ],
      "metadata": {
        "id": "xbxxCWLmg9LX"
      }
    },
    {
      "cell_type": "markdown",
      "metadata": {
        "id": "R6YNUtS_j7QP"
      },
      "source": [
        "For using **Adam Optimizer** while performing **Backpropagation**, I need to calculate the terms **dA, dZ, dW, db** and use them while updating the Weights and Biases using the given learning rate of 0.0001"
      ]
    },
    {
      "cell_type": "markdown",
      "metadata": {
        "id": "Wa4CeSz4lTYz"
      },
      "source": [
        "In the next few cells, I have made it ready for building Adam Optimizer from scratch and simultaneously performing backpropagation"
      ]
    },
    {
      "cell_type": "code",
      "execution_count": 31,
      "metadata": {
        "id": "f4DnfSVVqERx"
      },
      "outputs": [],
      "source": [
        "'''\n",
        "The 2 user defined functions below computes the derivative of ReLU for a single entry and then for a 2-D array\n",
        "'''\n",
        "def ReLU_derivative(num):\n",
        "  if(num>0):\n",
        "    return 1\n",
        "  elif(num<0):\n",
        "    return 0\n",
        "\n",
        "def ReLU_derivative_in_array(arr):\n",
        "  x=arr.shape[0]\n",
        "  y=arr.shape[1]\n",
        "  arr1=np.zeros((x,y))\n",
        "  for i in range(x):\n",
        "    for j in range(y):\n",
        "      arr1[i][j]=arr[i][j]\n",
        "  for i in range(x):\n",
        "    for j in range(y):\n",
        "      arr1[i][j]=ReLU_derivative(arr1[i][j])\n",
        "  return arr1\n"
      ]
    },
    {
      "cell_type": "markdown",
      "source": [
        "Next, I have defined function for performing Backpropagation from Scratch."
      ],
      "metadata": {
        "id": "RDlzxPxEhl1c"
      }
    },
    {
      "cell_type": "code",
      "execution_count": 33,
      "metadata": {
        "id": "L4A0-FNKd-_l"
      },
      "outputs": [],
      "source": [
        "def backpropagation_parameters(weights_dict,bias_dict,Z_dict,A_dict,ground_truth_labels,y_predicted,training_input):\n",
        "  dA_dict={}\n",
        "  dZ_dict={}\n",
        "  dW_dict={}\n",
        "  db_dict={}\n",
        "  x=len(ground_truth_labels)\n",
        "  sum=0\n",
        "  for i in range(x):\n",
        "    sum=sum+(ground_truth_labels[i]-y_predicted[i])\n",
        "  sum=-(2*sum)\n",
        "  sum=sum/x\n",
        "  dA=sum\n",
        "  dA_dict['dA4']=dA\n",
        "  x=Z_dict['Z4'].shape[0]\n",
        "  y=Z_dict['Z4'].shape[1]\n",
        "  derivative_arr=np.ones((x,y))\n",
        "  #for i in range(x):\n",
        "    #for j in range(y):\n",
        "      #derivative_arr[i][j]=(dA_dict['dA4']*derivative_arr[i][j])\n",
        "\n",
        "  dZ=(dA_dict['dA4'])*derivative_arr\n",
        "  dZ_dict['dZ4']=dZ\n",
        "  dW=(1/x)*np.dot(dZ_dict['dZ4'],(A_dict['A3'].transpose()))\n",
        "  dW_dict['dW4']=dW\n",
        "  db=(1/x)*(np.sum(dZ_dict['dZ4'],axis=1,keepdims=True))\n",
        "  db_dict['db4']=db\n",
        "  for i in range(3,1,-1):\n",
        "    dA=np.dot((weights_dict['W'+str(i+1)].transpose()),dZ_dict['dZ'+str(i+1)])\n",
        "    dA_dict['dA'+str(i)]=dA\n",
        "    dZ=(dA_dict['dA'+str(i)])*(ReLU_derivative_in_array(Z_dict['Z'+str(i)]))\n",
        "    dZ_dict['dZ'+str(i)]=dZ\n",
        "    dW=(1/x)*np.dot(dZ_dict['dZ'+str(i)],(A_dict['A'+str(i-1)].transpose()))\n",
        "    dW_dict['dW'+str(i)]=dW\n",
        "    db=(1/x)*(np.sum(dZ_dict['dZ'+str(i)],axis=1,keepdims=True))\n",
        "    db_dict['db'+str(i)]=db\n",
        "  dA=np.dot((weights_dict['W2'].transpose()),dZ_dict['dZ2'])\n",
        "  dA_dict['dA1']=dA\n",
        "  dZ=(dA_dict['dA1'])*(ReLU_derivative_in_array(Z_dict['Z1']))\n",
        "  dZ_dict['dZ1']=dZ\n",
        "  dW=(1/x)*np.dot(dZ_dict['dZ1'],training_input.transpose())\n",
        "  dW_dict['dW1']=dW\n",
        "  db=(1/x)*(np.sum(dZ_dict['dZ1'],axis=1,keepdims=True))\n",
        "  db_dict['db1']=db\n",
        "\n",
        "  return dA_dict,dZ_dict,dW_dict,db_dict\n",
        "\n"
      ]
    },
    {
      "cell_type": "markdown",
      "source": [
        "Building Adam Optimizer from Scratch"
      ],
      "metadata": {
        "id": "lSOafd-3h5fa"
      }
    },
    {
      "cell_type": "code",
      "execution_count": 35,
      "metadata": {
        "id": "n5XAhZHgQI3z"
      },
      "outputs": [],
      "source": [
        "def Adam_optimizer(time_step,weights_dict,bias_dict,dW_dict,db_dict,m_dW_dict,v_dW_dict,m_db_dict,v_db_dict,learning_rate=0.0001,beta_1=0.9,beta_2=0.999,epsilon=1e-8):\n",
        "  for i in range(1,5):\n",
        "     #As the number of hidden units are 4\n",
        "     m_dW_dict['m_dW'+str(i)]=((m_dW_dict['m_dW'+str(i)])*(beta_1))+((1-beta_1)*(dW_dict['dW'+str(i)]))\n",
        "     v_dW_dict['v_dW'+str(i)]=((v_dW_dict['v_dW'+str(i)])*(beta_2))+((1-beta_2)*(np.square(dW_dict['dW'+str(i)])))\n",
        "     m_db_dict['m_db'+str(i)]=((m_db_dict['m_db'+str(i)])*(beta_1))+((1-beta_1)*(db_dict['db'+str(i)]))\n",
        "     v_db_dict['v_db'+str(i)]=((v_db_dict['v_db'+str(i)])*(beta_2))+((1-beta_2)*(np.square(db_dict['db'+str(i)])))\n",
        "     m_dW_adjusted=m_dW_dict['m_dW'+str(i)]*(1/(1-math.pow(beta_1,time_step)))\n",
        "     m_db_adjusted=m_db_dict['m_db'+str(i)]*(1/(1-math.pow(beta_1,time_step)))\n",
        "     v_dW_adjusted=v_dW_dict['v_dW'+str(i)]*(1/(1-math.pow(beta_2,time_step)))\n",
        "     v_db_adjusted=v_db_dict['v_db'+str(i)]*(1/(1-math.pow(beta_2,time_step)))\n",
        "     '''\n",
        "     In the next 2 lines, I have updated the weights and biases using Adam optimizer parameters derived in the above lines\n",
        "     and the fixed learning rate\n",
        "     '''\n",
        "     weights_dict['W'+str(i)]=weights_dict['W'+str(i)]-((learning_rate)*(m_dW_adjusted/(np.sqrt(v_dW_adjusted)+epsilon)))\n",
        "     bias_dict['b'+str(i)]=bias_dict['b'+str(i)]-((learning_rate)*(m_db_adjusted/(np.sqrt(v_db_adjusted)+epsilon)))\n",
        "\n",
        "  time_step=time_step+1\n",
        "\n"
      ]
    },
    {
      "cell_type": "code",
      "execution_count": 36,
      "metadata": {
        "id": "qPIW5NgKMA5p"
      },
      "outputs": [],
      "source": [
        "weights_dict,bias_dict=initialize_weights_biases(layer_dict)\n",
        "iters_per_epoch=int(((80/100)*20640)/batch_size)\n",
        "training_loss=[]\n",
        "validation_loss=[]\n",
        "#print(iters_per_epoch)\n"
      ]
    },
    {
      "cell_type": "markdown",
      "source": [
        "In the next cell, I have initialized all the initial momentum and velocity values for Adam Optimizer to 0"
      ],
      "metadata": {
        "id": "YArsCaTQrhgd"
      }
    },
    {
      "cell_type": "code",
      "execution_count": 37,
      "metadata": {
        "id": "sCGcSe5cbLrd"
      },
      "outputs": [],
      "source": [
        "\n",
        "m_dW_dict={}\n",
        "v_dW_dict={}\n",
        "m_db_dict={}\n",
        "v_db_dict={}\n",
        "for i in range(1,5):\n",
        "  m_dW_dict['m_dW'+str(i)]=0\n",
        "  v_dW_dict['v_dW'+str(i)]=0\n",
        "  m_db_dict['m_db'+str(i)]=0\n",
        "  v_db_dict['v_db'+str(i)]=0\n"
      ]
    },
    {
      "cell_type": "markdown",
      "source": [
        "**The next cell shows my Mini-batch gradient descent procedure using Adam Optimizer with a batch size of 32 and for 100 Epochs**. **I have used all the functions I defined earlier**"
      ],
      "metadata": {
        "id": "btHvts8gInu2"
      }
    },
    {
      "cell_type": "code",
      "execution_count": 38,
      "metadata": {
        "id": "8zRG9Hi-Q7AI"
      },
      "outputs": [],
      "source": [
        "time_step=1\n",
        "#start=0\n",
        "#end=32\n",
        "for i in range(n_epochs):\n",
        "  start=0\n",
        "  end=32\n",
        "  while(end!=int((80/100)*20640)):\n",
        "    training_mini_batch=slice_array(training_input,start,end)\n",
        "    mini_ground_truth_labels=slice_labels(training_labels,start,end)\n",
        "    Z_dict,A_dict=forward_pass(training_mini_batch,weights_dict,bias_dict)\n",
        "    mini_y_predicted=y_predicted(A_dict['A4'])\n",
        "    dA_dict,dZ_dict,dW_dict,db_dict=backpropagation_parameters(weights_dict,bias_dict,Z_dict,A_dict,mini_ground_truth_labels,mini_y_predicted,training_mini_batch)\n",
        "    Adam_optimizer(time_step,weights_dict,bias_dict,dW_dict,db_dict,m_dW_dict,v_dW_dict,m_db_dict,v_db_dict)\n",
        "    start=start+32\n",
        "    end=end+32\n",
        "\n",
        "  training_Z_dict,training_A_dict=forward_pass(training_input,weights_dict,bias_dict)\n",
        "  training_loss.append(RMS_loss(training_labels,y_predicted(training_A_dict['A4'])))\n",
        "  validation_Z_dict,validation_A_dict=forward_pass(validation_input,weights_dict,bias_dict)\n",
        "  validation_loss.append(RMS_loss(validation_labels,y_predicted(validation_A_dict['A4'])))\n",
        "\n",
        "\n",
        "\n",
        "\n"
      ]
    },
    {
      "cell_type": "code",
      "source": [],
      "metadata": {
        "id": "9x-nE2viU9WZ"
      },
      "execution_count": null,
      "outputs": []
    },
    {
      "cell_type": "code",
      "execution_count": 39,
      "metadata": {
        "colab": {
          "base_uri": "https://localhost:8080/"
        },
        "id": "UCa3W_-3k0lm",
        "outputId": "63529e25-07a9-4996-86bf-e2a960186e56"
      },
      "outputs": [
        {
          "output_type": "stream",
          "name": "stdout",
          "text": [
            "[3.1008903927896867, 2.887546980768309, 2.7618355901089955, 2.656490896446288, 2.559099971673104, 2.46534619073992, 2.388658022613159, 2.2889448191384973, 2.197739381954181, 2.108173813085455, 2.0340466327008393, 1.9438238887219865, 1.8506064880544246, 1.770985353911853, 1.696275325333683, 1.6276289642256745, 1.5661131985393086, 1.511992619334339, 1.4654595421000485, 1.425761242441785, 1.3925789267425883, 1.3697573265885068, 1.344723642968493, 1.3267379320052377, 1.3122865313983159, 1.3005503491242107, 1.2910767553946576, 1.283372012692481, 1.27710080704634, 1.2754832464808026, 1.2672181500185953, 1.2632319058070842, 1.2596384878582847, 1.2565096741200525, 1.2545472945044598, 1.2517327113693697, 1.2492304266747611, 1.246943778793132, 1.2446167280404552, 1.2422991830435428, 1.2399799207477706, 1.2376973874954158, 1.2353636227055207, 1.2329301860119584, 1.230551608450176, 1.2280843798387113, 1.2258231575710454, 1.225069484696289, 1.22133725028954, 1.2192048211169115, 1.2170872203255059, 1.2148723757725792, 1.2125719525712277, 1.2101099302931844, 1.2078163131527646, 1.2054733024619044, 1.2032234414506342, 1.2005700283761949, 1.1992756482815394, 1.1963381829298283, 1.1935884387660785, 1.190587001766379, 1.1876967573574482, 1.1850095124324287, 1.182199115509299, 1.1791301717184024, 1.1759912518082292, 1.1726520568934793, 1.1690243536395684, 1.1651232105829343, 1.1613028015176954, 1.156965098460559, 1.1527378110204143, 1.1479301380374671, 1.1431902491185035, 1.1378038390452194, 1.1322208258320523, 1.1262892378056006, 1.1203258285752389, 1.1138813431317751, 1.1072099179347208, 1.0997858661569133, 1.0925291490282445, 1.084952995725467, 1.0769238254107878, 1.0681341246221843, 1.058540963369843, 1.04821590145137, 1.0374296472097546, 1.0249639886373267, 1.0115671038715157, 0.9971514971931341, 0.9822901637716408, 0.9662691040782089, 0.950307714860448, 0.9342872851066008, 0.9185693672007437, 0.9036055260237325, 0.8903244189507316, 0.8778307469728702]\n"
          ]
        }
      ],
      "source": [
        "print(training_loss)"
      ]
    },
    {
      "cell_type": "code",
      "execution_count": 40,
      "metadata": {
        "id": "eqkpmYD_OsjA",
        "colab": {
          "base_uri": "https://localhost:8080/"
        },
        "outputId": "ac8764bd-ee1d-46c7-8ab6-09b5f1b78885"
      },
      "outputs": [
        {
          "output_type": "stream",
          "name": "stdout",
          "text": [
            "[2.9669890924274585, 2.8300682665683072, 2.7321901234075208, 2.642993167896923, 2.5577503253045455, 2.474037948374199, 2.3945583141730786, 2.3108117752706083, 2.2287544141575593, 2.147485446016455, 2.066744333123216, 1.9884980091841324, 1.9107255738173823, 1.8375274155093813, 1.7686339752643043, 1.7050288215001073, 1.6477767719906284, 1.5974714706307145, 1.554143704229883, 1.5175451126731758, 1.4871566371810179, 1.4604449864936115, 1.441323183031171, 1.4255257437451185, 1.4127090542613834, 1.4024165762707712, 1.3939211652250418, 1.3869736428636406, 1.3812288593537836, 1.374853607384736, 1.3721525363901617, 1.3682807737633147, 1.3648342632803163, 1.3616509340402863, 1.3584481788919323, 1.3556640437502039, 1.3529974546890668, 1.350234545093271, 1.3474522129038342, 1.3446736173398541, 1.3417907324143274, 1.3388352901472396, 1.335879977495919, 1.3328167188370237, 1.3296708600343181, 1.3264493012603948, 1.3231805563774777, 1.319235034258131, 1.3163706510479871, 1.3130177325959693, 1.3095126385790434, 1.3057298539095004, 1.301968229314665, 1.2980209038318697, 1.2941035824254576, 1.2901298100133254, 1.2860261942458588, 1.281626115348746, 1.2770124658340052, 1.2726075395085177, 1.2679103235335794, 1.2629378483970106, 1.2578680084720417, 1.2527078000503828, 1.2471659956693806, 1.241600519873393, 1.235478345901326, 1.2288550477273281, 1.2220599766500386, 1.2146835998690941, 1.2070615338776498, 1.1994330640620339, 1.1913208102107304, 1.182685013424832, 1.174102619906682, 1.1649312016439317, 1.155397860643513, 1.1453525524229633, 1.135255701079818, 1.1245098570963203, 1.1128760274298144, 1.1011158521057134, 1.0895194377246975, 1.0777827726977378, 1.0660121777839444, 1.0540587139930095, 1.0421507083099315, 1.0302519814634057, 1.0184490245690028, 1.00630304254246, 0.9939803947960737, 0.9817788128092627, 0.9699556407277646, 0.9587360366289858, 0.9484972098198965, 0.9395888374350763, 0.931947346982459, 0.9263932848201614, 0.9226632268015975, 0.9206529700004943]\n"
          ]
        }
      ],
      "source": [
        "print(validation_loss)"
      ]
    },
    {
      "cell_type": "code",
      "source": [
        "Epochs_list=[]\n",
        "for i in range(1,101):\n",
        "  Epochs_list.append(i)\n",
        "plt.plot(Epochs_list, training_loss, label='Training Loss')\n",
        "plt.plot(Epochs_list, validation_loss, label='Validation Loss')\n",
        "plt.xlabel('No. of Epochs')\n",
        "plt.ylabel('Loss Value')\n",
        "plt.title('Training Loss and Validation Loss vs No. of Epochs(using Adam Optimizer)')\n",
        "plt.legend()\n",
        "plt.show()\n",
        "\n",
        "\n",
        "\n",
        "\n"
      ],
      "metadata": {
        "colab": {
          "base_uri": "https://localhost:8080/",
          "height": 472
        },
        "id": "5d4hmB2E3nyU",
        "outputId": "ac82ffe6-b9d2-4ba1-b1af-4b314c98cac7"
      },
      "execution_count": 42,
      "outputs": [
        {
          "output_type": "display_data",
          "data": {
            "text/plain": [
              "<Figure size 640x480 with 1 Axes>"
            ],
            "image/png": "[encoded data removed]"
          },
          "metadata": {}
        }
      ]
    },
    {
      "cell_type": "code",
      "source": [],
      "metadata": {
        "id": "P3nDurwe6wFD"
      },
      "execution_count": 41,
      "outputs": []
    },
    {
      "cell_type": "markdown",
      "source": [
        "Question No (3):Parts(a) and (b)"
      ],
      "metadata": {
        "id": "zlaueMvoDd1b"
      }
    },
    {
      "cell_type": "markdown",
      "source": [
        "Next, I will repeat the full procedure above of building the Neural Network from scratch and then performing Backpropagation and parameters using **NAG(Nesterov Accelerated Gradient)** algorithm. So, I will use the same code above upto before the Adam Optimizer part and then separately define a function to implement **NAG**"
      ],
      "metadata": {
        "id": "gj1wR3vjB1jg"
      }
    },
    {
      "cell_type": "code",
      "source": [
        "def NAG_algo(weights_dict,bias_dict,dW_dict,db_dict,momentum_dict_weights,momentum_dict_bias,beta=0.99,learning_rate=0.0001):\n",
        "  for i in range(1,5):\n",
        "\n",
        "    momentum_dict_weights['v'+str(i)]=beta*(momentum_dict_weights['v'+str(i)])+((learning_rate)*(dW_dict['dW'+str(i)]))\n",
        "    weights_dict['W'+str(i)]=weights_dict['W'+str(i)]-momentum_dict_weights['v'+str(i)]\n",
        "\n",
        "    momentum_dict_bias['v'+str(i)]=beta*(momentum_dict_bias['v'+str(i)])+((learning_rate)*(db_dict['db'+str(i)]))\n",
        "    bias_dict['b'+str(i)]=bias_dict['b'+str(i)]-momentum_dict_bias['v'+str(i)]\n",
        "\n",
        "\n"
      ],
      "metadata": {
        "id": "RWiY9nR5Dbj3"
      },
      "execution_count": 43,
      "outputs": []
    },
    {
      "cell_type": "code",
      "source": [
        "momentum_dict_weights={}\n",
        "momentum_dict_bias={}\n",
        "for i in range(1,5):\n",
        "  momentum_dict_weights['v'+str(i)]=0\n",
        "  momentum_dict_bias['v'+str(i)]=0\n"
      ],
      "metadata": {
        "id": "u8ShNHoPTEGz"
      },
      "execution_count": 44,
      "outputs": []
    },
    {
      "cell_type": "code",
      "source": [
        "weights_dict_NAG,bias_dict_NAG=initialize_weights_biases(layer_dict)\n",
        "iters_per_epoch=int(((80/100)*20640)/batch_size)\n",
        "training_loss_using_NAG=[]\n",
        "validation_loss_using_NAG=[]\n"
      ],
      "metadata": {
        "id": "NukMy3IaT7jD"
      },
      "execution_count": 45,
      "outputs": []
    },
    {
      "cell_type": "markdown",
      "source": [
        "**The next cell shows my Mini-batch gradient descent procedure using NAG Optimization Algorithm with a batch size of 32 and for 100 Epochs. I have used all the functions I defined earlier**"
      ],
      "metadata": {
        "id": "iUgfcbUCJIAC"
      }
    },
    {
      "cell_type": "code",
      "source": [
        "for i in range(n_epochs):\n",
        "  start=0\n",
        "  end=32\n",
        "  while(end!=int((80/100)*20640)):\n",
        "    training_mini_batch_NAG=slice_array(training_input,start,end)\n",
        "    mini_ground_truth_labels_NAG=slice_labels(training_labels,start,end)\n",
        "    Z_dict_NAG,A_dict_NAG=forward_pass(training_mini_batch_NAG,weights_dict_NAG,bias_dict_NAG)\n",
        "    mini_y_predicted_NAG=y_predicted(A_dict_NAG['A4'])\n",
        "    dA_dict_NAG,dZ_dict_NAG,dW_dict_NAG,db_dict_NAG=backpropagation_parameters(weights_dict_NAG,bias_dict_NAG,Z_dict_NAG,A_dict_NAG,mini_ground_truth_labels_NAG,mini_y_predicted_NAG,training_mini_batch_NAG)\n",
        "    NAG_algo(weights_dict_NAG,bias_dict_NAG,dW_dict_NAG,db_dict_NAG,momentum_dict_weights,momentum_dict_bias)\n",
        "    start=start+32\n",
        "    end=end+32\n",
        "\n",
        "  training_Z_dict_NAG,training_A_dict_NAG=forward_pass(training_input,weights_dict_NAG,bias_dict_NAG)\n",
        "  training_loss_using_NAG.append(RMS_loss(training_labels,y_predicted(training_A_dict_NAG['A4'])))\n",
        "  validation_Z_dict_NAG,validation_A_dict_NAG=forward_pass(validation_input,weights_dict_NAG,bias_dict_NAG)\n",
        "  validation_loss_using_NAG.append(RMS_loss(validation_labels,y_predicted(validation_A_dict_NAG['A4'])))"
      ],
      "metadata": {
        "id": "wJDLa8ynVAAS"
      },
      "execution_count": 46,
      "outputs": []
    },
    {
      "cell_type": "code",
      "source": [
        "print(training_loss_using_NAG)"
      ],
      "metadata": {
        "colab": {
          "base_uri": "https://localhost:8080/"
        },
        "id": "5GFstV3DTGQZ",
        "outputId": "2b6a9c7a-adaa-4c1f-b663-8413e4b72106"
      },
      "execution_count": 47,
      "outputs": [
        {
          "output_type": "stream",
          "name": "stdout",
          "text": [
            "[5.21202305471967, 5.183293404381861, 5.199806111296908, 5.197672823098995, 5.197875704052379, 5.197859578223479, 5.197860671542206, 5.197860610811515, 5.19786061306843, 5.197860613098137, 5.1978606130813025, 5.1978606130834555, 5.197860613083215, 5.197860613083244, 5.197860613083241, 5.197860613083246, 5.197860613083243, 5.197860613083241, 5.197860613083246, 5.197860613083243, 5.197860613083241, 5.197860613083246, 5.197860613083243, 5.197860613083241, 5.197860613083246, 5.197860613083243, 5.197860613083241, 5.197860613083246, 5.197860613083243, 5.197860613083241, 5.197860613083246, 5.197860613083243, 5.197860613083241, 5.197860613083246, 5.197860613083243, 5.197860613083241, 5.197860613083246, 5.197860613083243, 5.197860613083241, 5.197860613083246, 5.197860613083243, 5.197860613083241, 5.197860613083246, 5.197860613083243, 5.197860613083241, 5.197860613083246, 5.197860613083243, 5.197860613083241, 5.197860613083246, 5.197860613083243, 5.197860613083241, 5.197860613083246, 5.197860613083243, 5.197860613083241, 5.197860613083246, 5.197860613083243, 5.197860613083241, 5.197860613083246, 5.197860613083243, 5.197860613083241, 5.197860613083246, 5.197860613083243, 5.197860613083241, 5.197860613083246, 5.197860613083243, 5.197860613083241, 5.197860613083246, 5.197860613083243, 5.197860613083241, 5.197860613083246, 5.197860613083243, 5.197860613083241, 5.197860613083246, 5.197860613083243, 5.197860613083241, 5.197860613083246, 5.197860613083243, 5.197860613083241, 5.197860613083246, 5.197860613083243, 5.197860613083241, 5.197860613083246, 5.197860613083243, 5.197860613083241, 5.197860613083246, 5.197860613083243, 5.197860613083241, 5.197860613083246, 5.197860613083243, 5.197860613083241, 5.197860613083246, 5.197860613083243, 5.197860613083241, 5.197860613083246, 5.197860613083243, 5.197860613083241, 5.197860613083246, 5.197860613083243, 5.197860613083241, 5.197860613083246]\n"
          ]
        }
      ]
    },
    {
      "cell_type": "code",
      "source": [
        "print(validation_loss_using_NAG)"
      ],
      "metadata": {
        "id": "qOdIrgw-ay0a",
        "colab": {
          "base_uri": "https://localhost:8080/"
        },
        "outputId": "d6b2bce0-ada4-4518-b3a2-2e179f51a141"
      },
      "execution_count": 48,
      "outputs": [
        {
          "output_type": "stream",
          "name": "stdout",
          "text": [
            "[4.48929560933406, 4.464045283669973, 4.478556645422967, 4.476681674447714, 4.476859985765513, 4.476845812811008, 4.476846773726223, 4.476846720350176, 4.476846722333805, 4.476846722359898, 4.476846722345072, 4.476846722346974, 4.476846722346786, 4.476846722346814, 4.47684672234681, 4.476846722346816, 4.476846722346813, 4.47684672234681, 4.476846722346816, 4.476846722346813, 4.47684672234681, 4.476846722346816, 4.476846722346813, 4.47684672234681, 4.476846722346816, 4.476846722346813, 4.47684672234681, 4.476846722346816, 4.476846722346813, 4.47684672234681, 4.476846722346816, 4.476846722346813, 4.47684672234681, 4.476846722346816, 4.476846722346813, 4.47684672234681, 4.476846722346816, 4.476846722346813, 4.47684672234681, 4.476846722346816, 4.476846722346813, 4.47684672234681, 4.476846722346816, 4.476846722346813, 4.47684672234681, 4.476846722346816, 4.476846722346813, 4.47684672234681, 4.476846722346816, 4.476846722346813, 4.47684672234681, 4.476846722346816, 4.476846722346813, 4.47684672234681, 4.476846722346816, 4.476846722346813, 4.47684672234681, 4.476846722346816, 4.476846722346813, 4.47684672234681, 4.476846722346816, 4.476846722346813, 4.47684672234681, 4.476846722346816, 4.476846722346813, 4.47684672234681, 4.476846722346816, 4.476846722346813, 4.47684672234681, 4.476846722346816, 4.476846722346813, 4.47684672234681, 4.476846722346816, 4.476846722346813, 4.47684672234681, 4.476846722346816, 4.476846722346813, 4.47684672234681, 4.476846722346816, 4.476846722346813, 4.47684672234681, 4.476846722346816, 4.476846722346813, 4.47684672234681, 4.476846722346816, 4.476846722346813, 4.47684672234681, 4.476846722346816, 4.476846722346813, 4.47684672234681, 4.476846722346816, 4.476846722346813, 4.47684672234681, 4.476846722346816, 4.476846722346813, 4.47684672234681, 4.476846722346816, 4.476846722346813, 4.47684672234681, 4.476846722346816]\n"
          ]
        }
      ]
    },
    {
      "cell_type": "markdown",
      "source": [
        "If I change the value of the hyperparameter beta(momentum), the Training and Validation losses would change. Here, I have used beta(momentum)=0.99"
      ],
      "metadata": {
        "id": "YREx4CL5yjri"
      }
    },
    {
      "cell_type": "code",
      "source": [
        "Epochs_list_NAG=[]\n",
        "for i in range(1,101):\n",
        "  Epochs_list_NAG.append(i)\n",
        "plt.plot(Epochs_list_NAG, training_loss_using_NAG, label='Training Loss using NAG')\n",
        "plt.plot(Epochs_list_NAG, validation_loss_using_NAG, label='Validation Loss using NAG')\n",
        "plt.xlabel('No. of Epochs')\n",
        "plt.ylabel('Loss Value')\n",
        "plt.title('Training Loss and Validation Loss vs No. of Epochs using NAG algorithm')\n",
        "plt.legend()\n",
        "plt.show()\n"
      ],
      "metadata": {
        "colab": {
          "base_uri": "https://localhost:8080/",
          "height": 472
        },
        "id": "102sPsaoxr9-",
        "outputId": "ed40420d-3a5b-4b63-957e-651d10c9faa5"
      },
      "execution_count": 49,
      "outputs": [
        {
          "output_type": "display_data",
          "data": {
            "text/plain": [
              "<Figure size 640x480 with 1 Axes>"
            ],
            "image/png": "[encoded data removed]"
          },
          "metadata": {}
        }
      ]
    },
    {
      "cell_type": "markdown",
      "source": [
        "Question No:4"
      ],
      "metadata": {
        "id": "VbBEpsjaZR4V"
      }
    },
    {
      "cell_type": "markdown",
      "source": [
        "Next, I will be re-building the complete Neural Network using Pytorch. After which, I will apply the different optimizers namely, **Adam, NAG, Adagrad, Adamax, Adadelta, Vanilla** optimizers using **torch.optim** as mentioned in the question."
      ],
      "metadata": {
        "id": "_ZVk5c9zZfBz"
      }
    },
    {
      "cell_type": "markdown",
      "source": [
        "**CELL 1:**"
      ],
      "metadata": {
        "id": "cJWtyKL76RCY"
      }
    },
    {
      "cell_type": "code",
      "source": [
        "import torch.nn as nn\n",
        "import torch.optim as optim\n",
        "from torch.utils.data import DataLoader, TensorDataset\n",
        "from sklearn.datasets import fetch_california_housing\n",
        "from sklearn.model_selection import train_test_split\n",
        "from sklearn.preprocessing import StandardScaler"
      ],
      "metadata": {
        "id": "hjeCpo-GZeJg"
      },
      "execution_count": 79,
      "outputs": []
    },
    {
      "cell_type": "markdown",
      "source": [
        "**CELL 2:**"
      ],
      "metadata": {
        "id": "ZCCvw_4V6U-9"
      }
    },
    {
      "cell_type": "code",
      "source": [
        "class Neural_Network(nn.Module):\n",
        "    def __init__(self):\n",
        "        super(Neural_Network, self).__init__()\n",
        "        self.fc1 = nn.Linear(8, 128)\n",
        "        self.fc2 = nn.Linear(128, 64)\n",
        "        self.fc3 = nn.Linear(64, 32)\n",
        "        self.fc4 = nn.Linear(32, 1)\n",
        "\n",
        "    def forward(self, x):\n",
        "        x = torch.relu(self.fc1(x))\n",
        "        x = torch.relu(self.fc2(x))\n",
        "        x = torch.relu(self.fc3(x))\n",
        "        x = self.fc4(x)\n",
        "        return x"
      ],
      "metadata": {
        "id": "Rfn8-bJ6d34n"
      },
      "execution_count": 80,
      "outputs": []
    },
    {
      "cell_type": "markdown",
      "source": [
        "**CELL 3:**"
      ],
      "metadata": {
        "id": "i9Rr4VyZ6aAz"
      }
    },
    {
      "cell_type": "code",
      "source": [
        "california_housing_data = fetch_california_housing()\n",
        "X_train, X_val, y_train, y_val = train_test_split(california_housing_data.data, california_housing_data.target, test_size=0.2, random_state=42) #Here random_state denotes the seed value\n",
        "#test_size=0.2 means that the validation set is 20% and training set is 80%\n",
        "scaler = StandardScaler()\n",
        "X_train = scaler.fit_transform(X_train)\n",
        "X_val = scaler.transform(X_val)\n",
        "X_train_tensor = torch.tensor(X_train, dtype=torch.float32)\n",
        "y_train_tensor = torch.tensor(y_train, dtype=torch.float32).view(-1, 1)\n",
        "X_val_tensor = torch.tensor(X_val, dtype=torch.float32)\n",
        "y_val_tensor = torch.tensor(y_val, dtype=torch.float32).view(-1, 1)\n",
        "train_dataset = TensorDataset(X_train_tensor, y_train_tensor)\n",
        "val_dataset = TensorDataset(X_val_tensor, y_val_tensor)\n",
        "train_loader = DataLoader(train_dataset, batch_size=32, shuffle=True)\n",
        "val_loader = DataLoader(val_dataset, batch_size=len(val_dataset), shuffle=False)\n",
        "\n",
        "\n",
        "\n"
      ],
      "metadata": {
        "id": "OAZvp7JAiDEB"
      },
      "execution_count": 81,
      "outputs": []
    },
    {
      "cell_type": "markdown",
      "source": [
        "**CELL 4:**"
      ],
      "metadata": {
        "id": "PPvXUdXF6eD8"
      }
    },
    {
      "cell_type": "code",
      "source": [
        "def train(my_model, optimizer, criterion, train_loader, val_loader, num_epochs):\n",
        "    train_losses = []\n",
        "    val_losses = []\n",
        "\n",
        "    for epoch in range(num_epochs):\n",
        "        my_model.train()\n",
        "        total_train_loss = 0.0\n",
        "        for inputs, targets in train_loader:\n",
        "            optimizer.zero_grad()\n",
        "            outputs = my_model(inputs)\n",
        "            loss = criterion(outputs, targets)\n",
        "            loss.backward()\n",
        "            optimizer.step()\n",
        "            total_train_loss += loss.item()\n",
        "\n",
        "        average_train_loss = total_train_loss / len(train_loader)\n",
        "        train_losses.append(average_train_loss)\n",
        "\n",
        "        my_model.eval()\n",
        "        total_val_loss = 0.0\n",
        "        with torch.no_grad():\n",
        "            for inputs, targets in val_loader:\n",
        "                outputs = my_model(inputs)\n",
        "                loss = criterion(outputs, targets)\n",
        "                total_val_loss += loss.item()\n",
        "\n",
        "        average_val_loss = total_val_loss / len(val_loader)\n",
        "        val_losses.append(average_val_loss)\n",
        "\n",
        "        print(f'Epoch {epoch+1}/{num_epochs}, Train Loss: {average_train_loss:.4f}, Val Loss: {average_val_loss:.4f}')\n",
        "\n",
        "    return train_losses, val_losses"
      ],
      "metadata": {
        "id": "_Bqs2MzxwnHN"
      },
      "execution_count": 82,
      "outputs": []
    },
    {
      "cell_type": "code",
      "source": [
        "my_model = Neural_Network()\n",
        "criterion = nn.MSELoss() # for MSE loss\n",
        "num_epochs = 100\n",
        "Adam_loss=[]\n",
        "NAG_loss=[]\n",
        "Adagrad_loss=[]\n",
        "Adamax_loss=[]\n",
        "Adadelta_loss=[]\n",
        "Vanilla_loss=[]\n",
        "\n"
      ],
      "metadata": {
        "id": "vMvpI1oI03Cc"
      },
      "execution_count": 54,
      "outputs": []
    },
    {
      "cell_type": "markdown",
      "source": [
        "**Note: For again resetting the various parameters to their initial values(and not the final trained values obtained after exercising a particular Optimizer), we will have to re-run some of the cells above separately before each optimizer.** **:**\n",
        "**CELL 1, CELL 2, CELL 3, CELL 4**. I have also mentioned these cell numbers before each of the corresponding cells\n",
        "\n",
        "\n"
      ],
      "metadata": {
        "id": "73isLoME1E51"
      }
    },
    {
      "cell_type": "markdown",
      "source": [
        "(A): Using Adam Optimizer"
      ],
      "metadata": {
        "id": "8BGD19Ca15iT"
      }
    },
    {
      "cell_type": "code",
      "source": [
        "#adam_optimizer = optim.Adam(my_model.parameters())\n",
        "adam_optimizer = optim.Adam(my_model.parameters(), lr=0.0001, betas=(0.9, 0.999),eps=1e-8)\n",
        "adam_train, adam_val = train(my_model, adam_optimizer, criterion, train_loader, val_loader, num_epochs)\n",
        "Adam_loss.extend([adam_train, adam_val])"
      ],
      "metadata": {
        "colab": {
          "base_uri": "https://localhost:8080/"
        },
        "id": "0KyeXyiT12ml",
        "outputId": "221f2bb4-e503-41cd-c8a6-58dbf6d47547"
      },
      "execution_count": 55,
      "outputs": [
        {
          "output_type": "stream",
          "name": "stdout",
          "text": [
            "Epoch 1/100, Train Loss: 2.4375, Val Loss: 0.9239\n",
            "Epoch 2/100, Train Loss: 0.7923, Val Loss: 0.6658\n",
            "Epoch 3/100, Train Loss: 0.5987, Val Loss: 0.5539\n",
            "Epoch 4/100, Train Loss: 0.5031, Val Loss: 0.4939\n",
            "Epoch 5/100, Train Loss: 0.4585, Val Loss: 0.4655\n",
            "Epoch 6/100, Train Loss: 0.4351, Val Loss: 0.4435\n",
            "Epoch 7/100, Train Loss: 0.4204, Val Loss: 0.4282\n",
            "Epoch 8/100, Train Loss: 0.4078, Val Loss: 0.4129\n",
            "Epoch 9/100, Train Loss: 0.3972, Val Loss: 0.4022\n",
            "Epoch 10/100, Train Loss: 0.3874, Val Loss: 0.3946\n",
            "Epoch 11/100, Train Loss: 0.3797, Val Loss: 0.3846\n",
            "Epoch 12/100, Train Loss: 0.3723, Val Loss: 0.3789\n",
            "Epoch 13/100, Train Loss: 0.3657, Val Loss: 0.3782\n",
            "Epoch 14/100, Train Loss: 0.3604, Val Loss: 0.3662\n",
            "Epoch 15/100, Train Loss: 0.3553, Val Loss: 0.3635\n",
            "Epoch 16/100, Train Loss: 0.3518, Val Loss: 0.3589\n",
            "Epoch 17/100, Train Loss: 0.3466, Val Loss: 0.3543\n",
            "Epoch 18/100, Train Loss: 0.3425, Val Loss: 0.3536\n",
            "Epoch 19/100, Train Loss: 0.3386, Val Loss: 0.3478\n",
            "Epoch 20/100, Train Loss: 0.3353, Val Loss: 0.3440\n",
            "Epoch 21/100, Train Loss: 0.3312, Val Loss: 0.3460\n",
            "Epoch 22/100, Train Loss: 0.3280, Val Loss: 0.3383\n",
            "Epoch 23/100, Train Loss: 0.3241, Val Loss: 0.3390\n",
            "Epoch 24/100, Train Loss: 0.3221, Val Loss: 0.3321\n",
            "Epoch 25/100, Train Loss: 0.3207, Val Loss: 0.3312\n",
            "Epoch 26/100, Train Loss: 0.3163, Val Loss: 0.3296\n",
            "Epoch 27/100, Train Loss: 0.3154, Val Loss: 0.3262\n",
            "Epoch 28/100, Train Loss: 0.3113, Val Loss: 0.3287\n",
            "Epoch 29/100, Train Loss: 0.3107, Val Loss: 0.3261\n",
            "Epoch 30/100, Train Loss: 0.3088, Val Loss: 0.3196\n",
            "Epoch 31/100, Train Loss: 0.3054, Val Loss: 0.3169\n",
            "Epoch 32/100, Train Loss: 0.3052, Val Loss: 0.3183\n",
            "Epoch 33/100, Train Loss: 0.3026, Val Loss: 0.3213\n",
            "Epoch 34/100, Train Loss: 0.3014, Val Loss: 0.3121\n",
            "Epoch 35/100, Train Loss: 0.3007, Val Loss: 0.3111\n",
            "Epoch 36/100, Train Loss: 0.2987, Val Loss: 0.3096\n",
            "Epoch 37/100, Train Loss: 0.2968, Val Loss: 0.3083\n",
            "Epoch 38/100, Train Loss: 0.2961, Val Loss: 0.3094\n",
            "Epoch 39/100, Train Loss: 0.2949, Val Loss: 0.3069\n",
            "Epoch 40/100, Train Loss: 0.2940, Val Loss: 0.3039\n",
            "Epoch 41/100, Train Loss: 0.2910, Val Loss: 0.3069\n",
            "Epoch 42/100, Train Loss: 0.2898, Val Loss: 0.3042\n",
            "Epoch 43/100, Train Loss: 0.2896, Val Loss: 0.3024\n",
            "Epoch 44/100, Train Loss: 0.2883, Val Loss: 0.3049\n",
            "Epoch 45/100, Train Loss: 0.2879, Val Loss: 0.3045\n",
            "Epoch 46/100, Train Loss: 0.2858, Val Loss: 0.3050\n",
            "Epoch 47/100, Train Loss: 0.2851, Val Loss: 0.2969\n",
            "Epoch 48/100, Train Loss: 0.2846, Val Loss: 0.2978\n",
            "Epoch 49/100, Train Loss: 0.2849, Val Loss: 0.2968\n",
            "Epoch 50/100, Train Loss: 0.2818, Val Loss: 0.2986\n",
            "Epoch 51/100, Train Loss: 0.2821, Val Loss: 0.2996\n",
            "Epoch 52/100, Train Loss: 0.2815, Val Loss: 0.2934\n",
            "Epoch 53/100, Train Loss: 0.2800, Val Loss: 0.2977\n",
            "Epoch 54/100, Train Loss: 0.2791, Val Loss: 0.2919\n",
            "Epoch 55/100, Train Loss: 0.2813, Val Loss: 0.2940\n",
            "Epoch 56/100, Train Loss: 0.2784, Val Loss: 0.2921\n",
            "Epoch 57/100, Train Loss: 0.2776, Val Loss: 0.2963\n",
            "Epoch 58/100, Train Loss: 0.2786, Val Loss: 0.2930\n",
            "Epoch 59/100, Train Loss: 0.2746, Val Loss: 0.2891\n",
            "Epoch 60/100, Train Loss: 0.2737, Val Loss: 0.2932\n",
            "Epoch 61/100, Train Loss: 0.2748, Val Loss: 0.2890\n",
            "Epoch 62/100, Train Loss: 0.2724, Val Loss: 0.2904\n",
            "Epoch 63/100, Train Loss: 0.2730, Val Loss: 0.2872\n",
            "Epoch 64/100, Train Loss: 0.2718, Val Loss: 0.2878\n",
            "Epoch 65/100, Train Loss: 0.2719, Val Loss: 0.2889\n",
            "Epoch 66/100, Train Loss: 0.2716, Val Loss: 0.2837\n",
            "Epoch 67/100, Train Loss: 0.2706, Val Loss: 0.2842\n",
            "Epoch 68/100, Train Loss: 0.2693, Val Loss: 0.2856\n",
            "Epoch 69/100, Train Loss: 0.2681, Val Loss: 0.2822\n",
            "Epoch 70/100, Train Loss: 0.2703, Val Loss: 0.2821\n",
            "Epoch 71/100, Train Loss: 0.2691, Val Loss: 0.2893\n",
            "Epoch 72/100, Train Loss: 0.2675, Val Loss: 0.2835\n",
            "Epoch 73/100, Train Loss: 0.2680, Val Loss: 0.2855\n",
            "Epoch 74/100, Train Loss: 0.2692, Val Loss: 0.2830\n",
            "Epoch 75/100, Train Loss: 0.2665, Val Loss: 0.2875\n",
            "Epoch 76/100, Train Loss: 0.2657, Val Loss: 0.2810\n",
            "Epoch 77/100, Train Loss: 0.2635, Val Loss: 0.2840\n",
            "Epoch 78/100, Train Loss: 0.2643, Val Loss: 0.2813\n",
            "Epoch 79/100, Train Loss: 0.2656, Val Loss: 0.2805\n",
            "Epoch 80/100, Train Loss: 0.2645, Val Loss: 0.2791\n",
            "Epoch 81/100, Train Loss: 0.2624, Val Loss: 0.2797\n",
            "Epoch 82/100, Train Loss: 0.2621, Val Loss: 0.2808\n",
            "Epoch 83/100, Train Loss: 0.2615, Val Loss: 0.2799\n",
            "Epoch 84/100, Train Loss: 0.2606, Val Loss: 0.2830\n",
            "Epoch 85/100, Train Loss: 0.2617, Val Loss: 0.2865\n",
            "Epoch 86/100, Train Loss: 0.2609, Val Loss: 0.2824\n",
            "Epoch 87/100, Train Loss: 0.2600, Val Loss: 0.2773\n",
            "Epoch 88/100, Train Loss: 0.2589, Val Loss: 0.2764\n",
            "Epoch 89/100, Train Loss: 0.2586, Val Loss: 0.2753\n",
            "Epoch 90/100, Train Loss: 0.2585, Val Loss: 0.2754\n",
            "Epoch 91/100, Train Loss: 0.2600, Val Loss: 0.2911\n",
            "Epoch 92/100, Train Loss: 0.2576, Val Loss: 0.2826\n",
            "Epoch 93/100, Train Loss: 0.2578, Val Loss: 0.2766\n",
            "Epoch 94/100, Train Loss: 0.2564, Val Loss: 0.2791\n",
            "Epoch 95/100, Train Loss: 0.2559, Val Loss: 0.2758\n",
            "Epoch 96/100, Train Loss: 0.2577, Val Loss: 0.2753\n",
            "Epoch 97/100, Train Loss: 0.2587, Val Loss: 0.2754\n",
            "Epoch 98/100, Train Loss: 0.2537, Val Loss: 0.2747\n",
            "Epoch 99/100, Train Loss: 0.2544, Val Loss: 0.2733\n",
            "Epoch 100/100, Train Loss: 0.2542, Val Loss: 0.2790\n"
          ]
        }
      ]
    },
    {
      "cell_type": "code",
      "source": [],
      "metadata": {
        "id": "JaG5skK102gX"
      },
      "execution_count": null,
      "outputs": []
    },
    {
      "cell_type": "markdown",
      "source": [
        "(B) Using Nesterov Accelerated Gradient (NAG) optimizer"
      ],
      "metadata": {
        "id": "mvZ6EEMB4hLH"
      }
    },
    {
      "cell_type": "code",
      "source": [
        "NAG_optimizer = optim.SGD(my_model.parameters(), lr=0.0001, momentum=0.99, nesterov=True)\n",
        "NAG_train, NAG_val = train(my_model, NAG_optimizer, criterion, train_loader, val_loader, num_epochs)\n",
        "NAG_loss.extend([NAG_train, NAG_val])"
      ],
      "metadata": {
        "colab": {
          "base_uri": "https://localhost:8080/"
        },
        "id": "LKx_d-084jSZ",
        "outputId": "5a0496d8-1cdb-4bd2-d7eb-098ffd9766d8"
      },
      "execution_count": 63,
      "outputs": [
        {
          "output_type": "stream",
          "name": "stdout",
          "text": [
            "Epoch 1/100, Train Loss: 0.2767, Val Loss: 0.3248\n",
            "Epoch 2/100, Train Loss: 0.3977, Val Loss: 0.3356\n",
            "Epoch 3/100, Train Loss: 0.2978, Val Loss: 0.2967\n",
            "Epoch 4/100, Train Loss: 0.2793, Val Loss: 0.2972\n",
            "Epoch 5/100, Train Loss: 0.2759, Val Loss: 0.3278\n",
            "Epoch 6/100, Train Loss: 0.2770, Val Loss: 0.2842\n",
            "Epoch 7/100, Train Loss: 0.2646, Val Loss: 0.2791\n",
            "Epoch 8/100, Train Loss: 0.2646, Val Loss: 0.2870\n",
            "Epoch 9/100, Train Loss: 0.2659, Val Loss: 0.2816\n",
            "Epoch 10/100, Train Loss: 0.2642, Val Loss: 0.2799\n",
            "Epoch 11/100, Train Loss: 0.2596, Val Loss: 0.2795\n",
            "Epoch 12/100, Train Loss: 0.2606, Val Loss: 0.2842\n",
            "Epoch 13/100, Train Loss: 0.2604, Val Loss: 0.2921\n",
            "Epoch 14/100, Train Loss: 0.2589, Val Loss: 0.2801\n",
            "Epoch 15/100, Train Loss: 0.2597, Val Loss: 0.2775\n",
            "Epoch 16/100, Train Loss: 0.2597, Val Loss: 0.2779\n",
            "Epoch 17/100, Train Loss: 0.2582, Val Loss: 0.2756\n",
            "Epoch 18/100, Train Loss: 0.2573, Val Loss: 0.2812\n",
            "Epoch 19/100, Train Loss: 0.2569, Val Loss: 0.2813\n",
            "Epoch 20/100, Train Loss: 0.2550, Val Loss: 0.2904\n",
            "Epoch 21/100, Train Loss: 0.2515, Val Loss: 0.2868\n",
            "Epoch 22/100, Train Loss: 0.2581, Val Loss: 0.2796\n",
            "Epoch 23/100, Train Loss: 0.2540, Val Loss: 0.2832\n",
            "Epoch 24/100, Train Loss: 0.2517, Val Loss: 0.2786\n",
            "Epoch 25/100, Train Loss: 0.2520, Val Loss: 0.2764\n",
            "Epoch 26/100, Train Loss: 0.2508, Val Loss: 0.2801\n",
            "Epoch 27/100, Train Loss: 0.2503, Val Loss: 0.2761\n",
            "Epoch 28/100, Train Loss: 0.2490, Val Loss: 0.2734\n",
            "Epoch 29/100, Train Loss: 0.2497, Val Loss: 0.2781\n",
            "Epoch 30/100, Train Loss: 0.2485, Val Loss: 0.2777\n",
            "Epoch 31/100, Train Loss: 0.2490, Val Loss: 0.2764\n",
            "Epoch 32/100, Train Loss: 0.2488, Val Loss: 0.2737\n",
            "Epoch 33/100, Train Loss: 0.2528, Val Loss: 0.2859\n",
            "Epoch 34/100, Train Loss: 0.2456, Val Loss: 0.2802\n",
            "Epoch 35/100, Train Loss: 0.2472, Val Loss: 0.2691\n",
            "Epoch 36/100, Train Loss: 0.2447, Val Loss: 0.2759\n",
            "Epoch 37/100, Train Loss: 0.2521, Val Loss: 0.2759\n",
            "Epoch 38/100, Train Loss: 0.2528, Val Loss: 0.2776\n",
            "Epoch 39/100, Train Loss: 0.2471, Val Loss: 0.2825\n",
            "Epoch 40/100, Train Loss: 0.2473, Val Loss: 0.2763\n",
            "Epoch 41/100, Train Loss: 0.2445, Val Loss: 0.2707\n",
            "Epoch 42/100, Train Loss: 0.2443, Val Loss: 0.2722\n",
            "Epoch 43/100, Train Loss: 0.2419, Val Loss: 0.2663\n",
            "Epoch 44/100, Train Loss: 0.2412, Val Loss: 0.2738\n",
            "Epoch 45/100, Train Loss: 0.2453, Val Loss: 0.2756\n",
            "Epoch 46/100, Train Loss: 0.2401, Val Loss: 0.2736\n",
            "Epoch 47/100, Train Loss: 0.2412, Val Loss: 0.2706\n",
            "Epoch 48/100, Train Loss: 0.2415, Val Loss: 0.2717\n",
            "Epoch 49/100, Train Loss: 0.2393, Val Loss: 0.2773\n",
            "Epoch 50/100, Train Loss: 0.2415, Val Loss: 0.2706\n",
            "Epoch 51/100, Train Loss: 0.2394, Val Loss: 0.2732\n",
            "Epoch 52/100, Train Loss: 0.2380, Val Loss: 0.2843\n",
            "Epoch 53/100, Train Loss: 0.2383, Val Loss: 0.2745\n",
            "Epoch 54/100, Train Loss: 0.2373, Val Loss: 0.2665\n",
            "Epoch 55/100, Train Loss: 0.2370, Val Loss: 0.2694\n",
            "Epoch 56/100, Train Loss: 0.2362, Val Loss: 0.2845\n",
            "Epoch 57/100, Train Loss: 0.2409, Val Loss: 0.2692\n",
            "Epoch 58/100, Train Loss: 0.2326, Val Loss: 0.2712\n",
            "Epoch 59/100, Train Loss: 0.2337, Val Loss: 0.2655\n",
            "Epoch 60/100, Train Loss: 0.2368, Val Loss: 0.2717\n",
            "Epoch 61/100, Train Loss: 0.2336, Val Loss: 0.2776\n",
            "Epoch 62/100, Train Loss: 0.2363, Val Loss: 0.2787\n",
            "Epoch 63/100, Train Loss: 0.2328, Val Loss: 0.2701\n",
            "Epoch 64/100, Train Loss: 0.2335, Val Loss: 0.2742\n",
            "Epoch 65/100, Train Loss: 0.2322, Val Loss: 0.2679\n",
            "Epoch 66/100, Train Loss: 0.2317, Val Loss: 0.2693\n",
            "Epoch 67/100, Train Loss: 0.2319, Val Loss: 0.2765\n",
            "Epoch 68/100, Train Loss: 0.2321, Val Loss: 0.2674\n",
            "Epoch 69/100, Train Loss: 0.2300, Val Loss: 0.2696\n",
            "Epoch 70/100, Train Loss: 0.2327, Val Loss: 0.2820\n",
            "Epoch 71/100, Train Loss: 0.2350, Val Loss: 0.2672\n",
            "Epoch 72/100, Train Loss: 0.2325, Val Loss: 0.2864\n",
            "Epoch 73/100, Train Loss: 0.2271, Val Loss: 0.2705\n",
            "Epoch 74/100, Train Loss: 0.2277, Val Loss: 0.2638\n",
            "Epoch 75/100, Train Loss: 0.2312, Val Loss: 0.2690\n",
            "Epoch 76/100, Train Loss: 0.2311, Val Loss: 0.2684\n",
            "Epoch 77/100, Train Loss: 0.2252, Val Loss: 0.2665\n",
            "Epoch 78/100, Train Loss: 0.2304, Val Loss: 0.2830\n",
            "Epoch 79/100, Train Loss: 0.2347, Val Loss: 0.2687\n",
            "Epoch 80/100, Train Loss: 0.2276, Val Loss: 0.2611\n",
            "Epoch 81/100, Train Loss: 0.2285, Val Loss: 0.2655\n",
            "Epoch 82/100, Train Loss: 0.2264, Val Loss: 0.2633\n",
            "Epoch 83/100, Train Loss: 0.2276, Val Loss: 0.2789\n",
            "Epoch 84/100, Train Loss: 0.2281, Val Loss: 0.2665\n",
            "Epoch 85/100, Train Loss: 0.2273, Val Loss: 0.2770\n",
            "Epoch 86/100, Train Loss: 0.2258, Val Loss: 0.2627\n",
            "Epoch 87/100, Train Loss: 0.2210, Val Loss: 0.2656\n",
            "Epoch 88/100, Train Loss: 0.2240, Val Loss: 0.2742\n",
            "Epoch 89/100, Train Loss: 0.2245, Val Loss: 0.2654\n",
            "Epoch 90/100, Train Loss: 0.2228, Val Loss: 0.2661\n",
            "Epoch 91/100, Train Loss: 0.2230, Val Loss: 0.2690\n",
            "Epoch 92/100, Train Loss: 0.2265, Val Loss: 0.2657\n",
            "Epoch 93/100, Train Loss: 0.2241, Val Loss: 0.2707\n",
            "Epoch 94/100, Train Loss: 0.2279, Val Loss: 0.2677\n",
            "Epoch 95/100, Train Loss: 0.2243, Val Loss: 0.2631\n",
            "Epoch 96/100, Train Loss: 0.2218, Val Loss: 0.2754\n",
            "Epoch 97/100, Train Loss: 0.2212, Val Loss: 0.2628\n",
            "Epoch 98/100, Train Loss: 0.2220, Val Loss: 0.2711\n",
            "Epoch 99/100, Train Loss: 0.2227, Val Loss: 0.2741\n",
            "Epoch 100/100, Train Loss: 0.2249, Val Loss: 0.2571\n"
          ]
        }
      ]
    },
    {
      "cell_type": "code",
      "source": [
        "adagrad_optimizer = optim.Adagrad(my_model.parameters(), lr=0.0001)\n",
        "adagrad_train, adagrad_val = train(my_model, adagrad_optimizer, criterion, train_loader, val_loader, num_epochs)\n",
        "Adagrad_loss.extend([adagrad_train, adagrad_val])\n"
      ],
      "metadata": {
        "colab": {
          "base_uri": "https://localhost:8080/"
        },
        "id": "8ZhVqVwi43x-",
        "outputId": "c8f20ba0-39df-4976-e6c0-4ae2ad1f5220"
      },
      "execution_count": 68,
      "outputs": [
        {
          "output_type": "stream",
          "name": "stdout",
          "text": [
            "Epoch 1/100, Train Loss: 0.2084, Val Loss: 0.2550\n",
            "Epoch 2/100, Train Loss: 0.2069, Val Loss: 0.2548\n",
            "Epoch 3/100, Train Loss: 0.2065, Val Loss: 0.2547\n",
            "Epoch 4/100, Train Loss: 0.2062, Val Loss: 0.2548\n",
            "Epoch 5/100, Train Loss: 0.2060, Val Loss: 0.2547\n",
            "Epoch 6/100, Train Loss: 0.2058, Val Loss: 0.2547\n",
            "Epoch 7/100, Train Loss: 0.2057, Val Loss: 0.2548\n",
            "Epoch 8/100, Train Loss: 0.2056, Val Loss: 0.2546\n",
            "Epoch 9/100, Train Loss: 0.2055, Val Loss: 0.2547\n",
            "Epoch 10/100, Train Loss: 0.2054, Val Loss: 0.2546\n",
            "Epoch 11/100, Train Loss: 0.2053, Val Loss: 0.2545\n",
            "Epoch 12/100, Train Loss: 0.2053, Val Loss: 0.2546\n",
            "Epoch 13/100, Train Loss: 0.2052, Val Loss: 0.2546\n",
            "Epoch 14/100, Train Loss: 0.2052, Val Loss: 0.2547\n",
            "Epoch 15/100, Train Loss: 0.2051, Val Loss: 0.2546\n",
            "Epoch 16/100, Train Loss: 0.2051, Val Loss: 0.2546\n",
            "Epoch 17/100, Train Loss: 0.2051, Val Loss: 0.2546\n",
            "Epoch 18/100, Train Loss: 0.2050, Val Loss: 0.2547\n",
            "Epoch 19/100, Train Loss: 0.2050, Val Loss: 0.2546\n",
            "Epoch 20/100, Train Loss: 0.2049, Val Loss: 0.2545\n",
            "Epoch 21/100, Train Loss: 0.2049, Val Loss: 0.2546\n",
            "Epoch 22/100, Train Loss: 0.2049, Val Loss: 0.2546\n",
            "Epoch 23/100, Train Loss: 0.2049, Val Loss: 0.2546\n",
            "Epoch 24/100, Train Loss: 0.2048, Val Loss: 0.2546\n",
            "Epoch 25/100, Train Loss: 0.2048, Val Loss: 0.2546\n",
            "Epoch 26/100, Train Loss: 0.2048, Val Loss: 0.2547\n",
            "Epoch 27/100, Train Loss: 0.2048, Val Loss: 0.2546\n",
            "Epoch 28/100, Train Loss: 0.2047, Val Loss: 0.2546\n",
            "Epoch 29/100, Train Loss: 0.2047, Val Loss: 0.2546\n",
            "Epoch 30/100, Train Loss: 0.2047, Val Loss: 0.2546\n",
            "Epoch 31/100, Train Loss: 0.2047, Val Loss: 0.2547\n",
            "Epoch 32/100, Train Loss: 0.2047, Val Loss: 0.2546\n",
            "Epoch 33/100, Train Loss: 0.2047, Val Loss: 0.2546\n",
            "Epoch 34/100, Train Loss: 0.2046, Val Loss: 0.2545\n",
            "Epoch 35/100, Train Loss: 0.2046, Val Loss: 0.2546\n",
            "Epoch 36/100, Train Loss: 0.2046, Val Loss: 0.2547\n",
            "Epoch 37/100, Train Loss: 0.2046, Val Loss: 0.2546\n",
            "Epoch 38/100, Train Loss: 0.2046, Val Loss: 0.2546\n",
            "Epoch 39/100, Train Loss: 0.2046, Val Loss: 0.2546\n",
            "Epoch 40/100, Train Loss: 0.2046, Val Loss: 0.2546\n",
            "Epoch 41/100, Train Loss: 0.2045, Val Loss: 0.2547\n",
            "Epoch 42/100, Train Loss: 0.2045, Val Loss: 0.2546\n",
            "Epoch 43/100, Train Loss: 0.2045, Val Loss: 0.2546\n",
            "Epoch 44/100, Train Loss: 0.2045, Val Loss: 0.2546\n",
            "Epoch 45/100, Train Loss: 0.2045, Val Loss: 0.2546\n",
            "Epoch 46/100, Train Loss: 0.2045, Val Loss: 0.2546\n",
            "Epoch 47/100, Train Loss: 0.2045, Val Loss: 0.2546\n",
            "Epoch 48/100, Train Loss: 0.2045, Val Loss: 0.2546\n",
            "Epoch 49/100, Train Loss: 0.2045, Val Loss: 0.2546\n",
            "Epoch 50/100, Train Loss: 0.2044, Val Loss: 0.2547\n",
            "Epoch 51/100, Train Loss: 0.2044, Val Loss: 0.2547\n",
            "Epoch 52/100, Train Loss: 0.2044, Val Loss: 0.2547\n",
            "Epoch 53/100, Train Loss: 0.2044, Val Loss: 0.2547\n",
            "Epoch 54/100, Train Loss: 0.2044, Val Loss: 0.2546\n",
            "Epoch 55/100, Train Loss: 0.2044, Val Loss: 0.2546\n",
            "Epoch 56/100, Train Loss: 0.2044, Val Loss: 0.2547\n",
            "Epoch 57/100, Train Loss: 0.2044, Val Loss: 0.2546\n",
            "Epoch 58/100, Train Loss: 0.2044, Val Loss: 0.2546\n",
            "Epoch 59/100, Train Loss: 0.2044, Val Loss: 0.2547\n",
            "Epoch 60/100, Train Loss: 0.2044, Val Loss: 0.2546\n",
            "Epoch 61/100, Train Loss: 0.2043, Val Loss: 0.2547\n",
            "Epoch 62/100, Train Loss: 0.2043, Val Loss: 0.2547\n",
            "Epoch 63/100, Train Loss: 0.2043, Val Loss: 0.2547\n",
            "Epoch 64/100, Train Loss: 0.2043, Val Loss: 0.2546\n",
            "Epoch 65/100, Train Loss: 0.2043, Val Loss: 0.2546\n",
            "Epoch 66/100, Train Loss: 0.2043, Val Loss: 0.2547\n",
            "Epoch 67/100, Train Loss: 0.2043, Val Loss: 0.2547\n",
            "Epoch 68/100, Train Loss: 0.2043, Val Loss: 0.2547\n",
            "Epoch 69/100, Train Loss: 0.2043, Val Loss: 0.2546\n",
            "Epoch 70/100, Train Loss: 0.2043, Val Loss: 0.2547\n",
            "Epoch 71/100, Train Loss: 0.2043, Val Loss: 0.2547\n",
            "Epoch 72/100, Train Loss: 0.2043, Val Loss: 0.2547\n",
            "Epoch 73/100, Train Loss: 0.2043, Val Loss: 0.2547\n",
            "Epoch 74/100, Train Loss: 0.2043, Val Loss: 0.2547\n",
            "Epoch 75/100, Train Loss: 0.2043, Val Loss: 0.2547\n",
            "Epoch 76/100, Train Loss: 0.2042, Val Loss: 0.2547\n",
            "Epoch 77/100, Train Loss: 0.2042, Val Loss: 0.2547\n",
            "Epoch 78/100, Train Loss: 0.2042, Val Loss: 0.2547\n",
            "Epoch 79/100, Train Loss: 0.2042, Val Loss: 0.2547\n",
            "Epoch 80/100, Train Loss: 0.2042, Val Loss: 0.2547\n",
            "Epoch 81/100, Train Loss: 0.2042, Val Loss: 0.2547\n",
            "Epoch 82/100, Train Loss: 0.2042, Val Loss: 0.2547\n",
            "Epoch 83/100, Train Loss: 0.2042, Val Loss: 0.2547\n",
            "Epoch 84/100, Train Loss: 0.2042, Val Loss: 0.2547\n",
            "Epoch 85/100, Train Loss: 0.2042, Val Loss: 0.2547\n",
            "Epoch 86/100, Train Loss: 0.2042, Val Loss: 0.2547\n",
            "Epoch 87/100, Train Loss: 0.2042, Val Loss: 0.2547\n",
            "Epoch 88/100, Train Loss: 0.2042, Val Loss: 0.2547\n",
            "Epoch 89/100, Train Loss: 0.2042, Val Loss: 0.2547\n",
            "Epoch 90/100, Train Loss: 0.2042, Val Loss: 0.2547\n",
            "Epoch 91/100, Train Loss: 0.2042, Val Loss: 0.2547\n",
            "Epoch 92/100, Train Loss: 0.2041, Val Loss: 0.2547\n",
            "Epoch 93/100, Train Loss: 0.2041, Val Loss: 0.2547\n",
            "Epoch 94/100, Train Loss: 0.2041, Val Loss: 0.2547\n",
            "Epoch 95/100, Train Loss: 0.2041, Val Loss: 0.2547\n",
            "Epoch 96/100, Train Loss: 0.2041, Val Loss: 0.2547\n",
            "Epoch 97/100, Train Loss: 0.2041, Val Loss: 0.2547\n",
            "Epoch 98/100, Train Loss: 0.2041, Val Loss: 0.2547\n",
            "Epoch 99/100, Train Loss: 0.2041, Val Loss: 0.2547\n",
            "Epoch 100/100, Train Loss: 0.2041, Val Loss: 0.2547\n"
          ]
        }
      ]
    },
    {
      "cell_type": "code",
      "source": [
        "Adamax_optimizer = optim.Adamax(my_model.parameters(), lr=0.0001)\n",
        "adamax_train, adamax_val = train(my_model, Adamax_optimizer, criterion, train_loader, val_loader, num_epochs)\n",
        "Adamax_loss.extend([adamax_train, adamax_val])"
      ],
      "metadata": {
        "colab": {
          "base_uri": "https://localhost:8080/"
        },
        "id": "W43zZL4lBLKD",
        "outputId": "c689e3eb-082e-4ea9-80a0-9ddd382f7f6b"
      },
      "execution_count": 73,
      "outputs": [
        {
          "output_type": "stream",
          "name": "stdout",
          "text": [
            "Epoch 1/100, Train Loss: 0.2062, Val Loss: 0.2549\n",
            "Epoch 2/100, Train Loss: 0.2057, Val Loss: 0.2561\n",
            "Epoch 3/100, Train Loss: 0.2055, Val Loss: 0.2550\n",
            "Epoch 4/100, Train Loss: 0.2053, Val Loss: 0.2574\n",
            "Epoch 5/100, Train Loss: 0.2053, Val Loss: 0.2550\n",
            "Epoch 6/100, Train Loss: 0.2051, Val Loss: 0.2560\n",
            "Epoch 7/100, Train Loss: 0.2050, Val Loss: 0.2562\n",
            "Epoch 8/100, Train Loss: 0.2050, Val Loss: 0.2553\n",
            "Epoch 9/100, Train Loss: 0.2047, Val Loss: 0.2560\n",
            "Epoch 10/100, Train Loss: 0.2045, Val Loss: 0.2563\n",
            "Epoch 11/100, Train Loss: 0.2043, Val Loss: 0.2557\n",
            "Epoch 12/100, Train Loss: 0.2042, Val Loss: 0.2575\n",
            "Epoch 13/100, Train Loss: 0.2042, Val Loss: 0.2555\n",
            "Epoch 14/100, Train Loss: 0.2043, Val Loss: 0.2553\n",
            "Epoch 15/100, Train Loss: 0.2041, Val Loss: 0.2555\n",
            "Epoch 16/100, Train Loss: 0.2043, Val Loss: 0.2561\n",
            "Epoch 17/100, Train Loss: 0.2038, Val Loss: 0.2553\n",
            "Epoch 18/100, Train Loss: 0.2039, Val Loss: 0.2569\n",
            "Epoch 19/100, Train Loss: 0.2039, Val Loss: 0.2558\n",
            "Epoch 20/100, Train Loss: 0.2036, Val Loss: 0.2567\n",
            "Epoch 21/100, Train Loss: 0.2036, Val Loss: 0.2558\n",
            "Epoch 22/100, Train Loss: 0.2034, Val Loss: 0.2560\n",
            "Epoch 23/100, Train Loss: 0.2033, Val Loss: 0.2552\n",
            "Epoch 24/100, Train Loss: 0.2037, Val Loss: 0.2558\n",
            "Epoch 25/100, Train Loss: 0.2033, Val Loss: 0.2572\n",
            "Epoch 26/100, Train Loss: 0.2032, Val Loss: 0.2567\n",
            "Epoch 27/100, Train Loss: 0.2032, Val Loss: 0.2561\n",
            "Epoch 28/100, Train Loss: 0.2032, Val Loss: 0.2556\n",
            "Epoch 29/100, Train Loss: 0.2028, Val Loss: 0.2556\n",
            "Epoch 30/100, Train Loss: 0.2031, Val Loss: 0.2563\n",
            "Epoch 31/100, Train Loss: 0.2029, Val Loss: 0.2577\n",
            "Epoch 32/100, Train Loss: 0.2028, Val Loss: 0.2557\n",
            "Epoch 33/100, Train Loss: 0.2027, Val Loss: 0.2550\n",
            "Epoch 34/100, Train Loss: 0.2027, Val Loss: 0.2587\n",
            "Epoch 35/100, Train Loss: 0.2026, Val Loss: 0.2551\n",
            "Epoch 36/100, Train Loss: 0.2024, Val Loss: 0.2563\n",
            "Epoch 37/100, Train Loss: 0.2026, Val Loss: 0.2590\n",
            "Epoch 38/100, Train Loss: 0.2023, Val Loss: 0.2562\n",
            "Epoch 39/100, Train Loss: 0.2026, Val Loss: 0.2553\n",
            "Epoch 40/100, Train Loss: 0.2023, Val Loss: 0.2567\n",
            "Epoch 41/100, Train Loss: 0.2020, Val Loss: 0.2560\n",
            "Epoch 42/100, Train Loss: 0.2019, Val Loss: 0.2563\n",
            "Epoch 43/100, Train Loss: 0.2020, Val Loss: 0.2558\n",
            "Epoch 44/100, Train Loss: 0.2018, Val Loss: 0.2558\n",
            "Epoch 45/100, Train Loss: 0.2019, Val Loss: 0.2565\n",
            "Epoch 46/100, Train Loss: 0.2018, Val Loss: 0.2558\n",
            "Epoch 47/100, Train Loss: 0.2018, Val Loss: 0.2560\n",
            "Epoch 48/100, Train Loss: 0.2014, Val Loss: 0.2563\n",
            "Epoch 49/100, Train Loss: 0.2015, Val Loss: 0.2563\n",
            "Epoch 50/100, Train Loss: 0.2015, Val Loss: 0.2559\n",
            "Epoch 51/100, Train Loss: 0.2014, Val Loss: 0.2557\n",
            "Epoch 52/100, Train Loss: 0.2018, Val Loss: 0.2557\n",
            "Epoch 53/100, Train Loss: 0.2014, Val Loss: 0.2572\n",
            "Epoch 54/100, Train Loss: 0.2014, Val Loss: 0.2567\n",
            "Epoch 55/100, Train Loss: 0.2011, Val Loss: 0.2563\n",
            "Epoch 56/100, Train Loss: 0.2013, Val Loss: 0.2565\n",
            "Epoch 57/100, Train Loss: 0.2010, Val Loss: 0.2554\n",
            "Epoch 58/100, Train Loss: 0.2009, Val Loss: 0.2576\n",
            "Epoch 59/100, Train Loss: 0.2010, Val Loss: 0.2559\n",
            "Epoch 60/100, Train Loss: 0.2010, Val Loss: 0.2558\n",
            "Epoch 61/100, Train Loss: 0.2008, Val Loss: 0.2568\n",
            "Epoch 62/100, Train Loss: 0.2006, Val Loss: 0.2563\n",
            "Epoch 63/100, Train Loss: 0.2009, Val Loss: 0.2568\n",
            "Epoch 64/100, Train Loss: 0.2005, Val Loss: 0.2565\n",
            "Epoch 65/100, Train Loss: 0.2007, Val Loss: 0.2563\n",
            "Epoch 66/100, Train Loss: 0.2008, Val Loss: 0.2554\n",
            "Epoch 67/100, Train Loss: 0.2006, Val Loss: 0.2577\n",
            "Epoch 68/100, Train Loss: 0.2007, Val Loss: 0.2566\n",
            "Epoch 69/100, Train Loss: 0.2004, Val Loss: 0.2562\n",
            "Epoch 70/100, Train Loss: 0.2004, Val Loss: 0.2571\n",
            "Epoch 71/100, Train Loss: 0.2002, Val Loss: 0.2561\n",
            "Epoch 72/100, Train Loss: 0.2001, Val Loss: 0.2573\n",
            "Epoch 73/100, Train Loss: 0.2003, Val Loss: 0.2558\n",
            "Epoch 74/100, Train Loss: 0.1999, Val Loss: 0.2558\n",
            "Epoch 75/100, Train Loss: 0.2002, Val Loss: 0.2554\n",
            "Epoch 76/100, Train Loss: 0.2001, Val Loss: 0.2564\n",
            "Epoch 77/100, Train Loss: 0.1999, Val Loss: 0.2567\n",
            "Epoch 78/100, Train Loss: 0.2000, Val Loss: 0.2569\n",
            "Epoch 79/100, Train Loss: 0.1997, Val Loss: 0.2559\n",
            "Epoch 80/100, Train Loss: 0.2002, Val Loss: 0.2560\n",
            "Epoch 81/100, Train Loss: 0.1999, Val Loss: 0.2558\n",
            "Epoch 82/100, Train Loss: 0.1995, Val Loss: 0.2559\n",
            "Epoch 83/100, Train Loss: 0.1995, Val Loss: 0.2566\n",
            "Epoch 84/100, Train Loss: 0.1996, Val Loss: 0.2569\n",
            "Epoch 85/100, Train Loss: 0.1994, Val Loss: 0.2556\n",
            "Epoch 86/100, Train Loss: 0.1995, Val Loss: 0.2554\n",
            "Epoch 87/100, Train Loss: 0.1994, Val Loss: 0.2553\n",
            "Epoch 88/100, Train Loss: 0.1992, Val Loss: 0.2579\n",
            "Epoch 89/100, Train Loss: 0.1991, Val Loss: 0.2559\n",
            "Epoch 90/100, Train Loss: 0.1989, Val Loss: 0.2566\n",
            "Epoch 91/100, Train Loss: 0.1987, Val Loss: 0.2562\n",
            "Epoch 92/100, Train Loss: 0.1990, Val Loss: 0.2576\n",
            "Epoch 93/100, Train Loss: 0.1987, Val Loss: 0.2578\n",
            "Epoch 94/100, Train Loss: 0.1993, Val Loss: 0.2557\n",
            "Epoch 95/100, Train Loss: 0.1990, Val Loss: 0.2563\n",
            "Epoch 96/100, Train Loss: 0.1989, Val Loss: 0.2566\n",
            "Epoch 97/100, Train Loss: 0.1987, Val Loss: 0.2561\n",
            "Epoch 98/100, Train Loss: 0.1987, Val Loss: 0.2557\n",
            "Epoch 99/100, Train Loss: 0.1987, Val Loss: 0.2554\n",
            "Epoch 100/100, Train Loss: 0.1983, Val Loss: 0.2556\n"
          ]
        }
      ]
    },
    {
      "cell_type": "code",
      "source": [
        "Adadelta_optimizer = optim.Adadelta(my_model.parameters(), lr=0.0001)\n",
        "adadelta_train, adadelta_val = train(my_model, Adadelta_optimizer, criterion, train_loader, val_loader, num_epochs)\n",
        "Adadelta_loss.extend([adadelta_train, adadelta_val])"
      ],
      "metadata": {
        "colab": {
          "base_uri": "https://localhost:8080/"
        },
        "id": "k_CCGPVdCBYp",
        "outputId": "ad6c0c40-a554-44e4-d263-6a73a1e29e41"
      },
      "execution_count": 78,
      "outputs": [
        {
          "output_type": "stream",
          "name": "stdout",
          "text": [
            "Epoch 1/100, Train Loss: 0.1969, Val Loss: 0.2556\n",
            "Epoch 2/100, Train Loss: 0.1968, Val Loss: 0.2555\n",
            "Epoch 3/100, Train Loss: 0.1967, Val Loss: 0.2555\n",
            "Epoch 4/100, Train Loss: 0.1967, Val Loss: 0.2555\n",
            "Epoch 5/100, Train Loss: 0.1967, Val Loss: 0.2555\n",
            "Epoch 6/100, Train Loss: 0.1967, Val Loss: 0.2555\n",
            "Epoch 7/100, Train Loss: 0.1966, Val Loss: 0.2555\n",
            "Epoch 8/100, Train Loss: 0.1966, Val Loss: 0.2554\n",
            "Epoch 9/100, Train Loss: 0.1966, Val Loss: 0.2555\n",
            "Epoch 10/100, Train Loss: 0.1966, Val Loss: 0.2554\n",
            "Epoch 11/100, Train Loss: 0.1966, Val Loss: 0.2554\n",
            "Epoch 12/100, Train Loss: 0.1966, Val Loss: 0.2554\n",
            "Epoch 13/100, Train Loss: 0.1966, Val Loss: 0.2554\n",
            "Epoch 14/100, Train Loss: 0.1966, Val Loss: 0.2554\n",
            "Epoch 15/100, Train Loss: 0.1966, Val Loss: 0.2554\n",
            "Epoch 16/100, Train Loss: 0.1966, Val Loss: 0.2554\n",
            "Epoch 17/100, Train Loss: 0.1966, Val Loss: 0.2554\n",
            "Epoch 18/100, Train Loss: 0.1966, Val Loss: 0.2554\n",
            "Epoch 19/100, Train Loss: 0.1966, Val Loss: 0.2554\n",
            "Epoch 20/100, Train Loss: 0.1965, Val Loss: 0.2554\n",
            "Epoch 21/100, Train Loss: 0.1965, Val Loss: 0.2554\n",
            "Epoch 22/100, Train Loss: 0.1965, Val Loss: 0.2554\n",
            "Epoch 23/100, Train Loss: 0.1965, Val Loss: 0.2554\n",
            "Epoch 24/100, Train Loss: 0.1965, Val Loss: 0.2554\n",
            "Epoch 25/100, Train Loss: 0.1965, Val Loss: 0.2554\n",
            "Epoch 26/100, Train Loss: 0.1965, Val Loss: 0.2554\n",
            "Epoch 27/100, Train Loss: 0.1965, Val Loss: 0.2554\n",
            "Epoch 28/100, Train Loss: 0.1965, Val Loss: 0.2554\n",
            "Epoch 29/100, Train Loss: 0.1965, Val Loss: 0.2554\n",
            "Epoch 30/100, Train Loss: 0.1965, Val Loss: 0.2554\n",
            "Epoch 31/100, Train Loss: 0.1965, Val Loss: 0.2554\n",
            "Epoch 32/100, Train Loss: 0.1965, Val Loss: 0.2554\n",
            "Epoch 33/100, Train Loss: 0.1965, Val Loss: 0.2554\n",
            "Epoch 34/100, Train Loss: 0.1965, Val Loss: 0.2554\n",
            "Epoch 35/100, Train Loss: 0.1965, Val Loss: 0.2554\n",
            "Epoch 36/100, Train Loss: 0.1965, Val Loss: 0.2554\n",
            "Epoch 37/100, Train Loss: 0.1965, Val Loss: 0.2554\n",
            "Epoch 38/100, Train Loss: 0.1965, Val Loss: 0.2554\n",
            "Epoch 39/100, Train Loss: 0.1965, Val Loss: 0.2554\n",
            "Epoch 40/100, Train Loss: 0.1965, Val Loss: 0.2554\n",
            "Epoch 41/100, Train Loss: 0.1965, Val Loss: 0.2554\n",
            "Epoch 42/100, Train Loss: 0.1965, Val Loss: 0.2554\n",
            "Epoch 43/100, Train Loss: 0.1965, Val Loss: 0.2554\n",
            "Epoch 44/100, Train Loss: 0.1965, Val Loss: 0.2554\n",
            "Epoch 45/100, Train Loss: 0.1965, Val Loss: 0.2554\n",
            "Epoch 46/100, Train Loss: 0.1965, Val Loss: 0.2554\n",
            "Epoch 47/100, Train Loss: 0.1965, Val Loss: 0.2554\n",
            "Epoch 48/100, Train Loss: 0.1965, Val Loss: 0.2554\n",
            "Epoch 49/100, Train Loss: 0.1965, Val Loss: 0.2554\n",
            "Epoch 50/100, Train Loss: 0.1965, Val Loss: 0.2554\n",
            "Epoch 51/100, Train Loss: 0.1965, Val Loss: 0.2554\n",
            "Epoch 52/100, Train Loss: 0.1965, Val Loss: 0.2554\n",
            "Epoch 53/100, Train Loss: 0.1965, Val Loss: 0.2554\n",
            "Epoch 54/100, Train Loss: 0.1965, Val Loss: 0.2554\n",
            "Epoch 55/100, Train Loss: 0.1965, Val Loss: 0.2554\n",
            "Epoch 56/100, Train Loss: 0.1965, Val Loss: 0.2554\n",
            "Epoch 57/100, Train Loss: 0.1965, Val Loss: 0.2554\n",
            "Epoch 58/100, Train Loss: 0.1965, Val Loss: 0.2554\n",
            "Epoch 59/100, Train Loss: 0.1965, Val Loss: 0.2554\n",
            "Epoch 60/100, Train Loss: 0.1965, Val Loss: 0.2554\n",
            "Epoch 61/100, Train Loss: 0.1965, Val Loss: 0.2554\n",
            "Epoch 62/100, Train Loss: 0.1965, Val Loss: 0.2554\n",
            "Epoch 63/100, Train Loss: 0.1965, Val Loss: 0.2554\n",
            "Epoch 64/100, Train Loss: 0.1965, Val Loss: 0.2554\n",
            "Epoch 65/100, Train Loss: 0.1965, Val Loss: 0.2554\n",
            "Epoch 66/100, Train Loss: 0.1965, Val Loss: 0.2554\n",
            "Epoch 67/100, Train Loss: 0.1965, Val Loss: 0.2554\n",
            "Epoch 68/100, Train Loss: 0.1965, Val Loss: 0.2554\n",
            "Epoch 69/100, Train Loss: 0.1965, Val Loss: 0.2554\n",
            "Epoch 70/100, Train Loss: 0.1965, Val Loss: 0.2554\n",
            "Epoch 71/100, Train Loss: 0.1965, Val Loss: 0.2554\n",
            "Epoch 72/100, Train Loss: 0.1965, Val Loss: 0.2554\n",
            "Epoch 73/100, Train Loss: 0.1965, Val Loss: 0.2554\n",
            "Epoch 74/100, Train Loss: 0.1965, Val Loss: 0.2554\n",
            "Epoch 75/100, Train Loss: 0.1965, Val Loss: 0.2554\n",
            "Epoch 76/100, Train Loss: 0.1965, Val Loss: 0.2554\n",
            "Epoch 77/100, Train Loss: 0.1965, Val Loss: 0.2554\n",
            "Epoch 78/100, Train Loss: 0.1965, Val Loss: 0.2554\n",
            "Epoch 79/100, Train Loss: 0.1965, Val Loss: 0.2554\n",
            "Epoch 80/100, Train Loss: 0.1965, Val Loss: 0.2554\n",
            "Epoch 81/100, Train Loss: 0.1965, Val Loss: 0.2554\n",
            "Epoch 82/100, Train Loss: 0.1965, Val Loss: 0.2554\n",
            "Epoch 83/100, Train Loss: 0.1965, Val Loss: 0.2554\n",
            "Epoch 84/100, Train Loss: 0.1965, Val Loss: 0.2554\n",
            "Epoch 85/100, Train Loss: 0.1965, Val Loss: 0.2554\n",
            "Epoch 86/100, Train Loss: 0.1965, Val Loss: 0.2554\n",
            "Epoch 87/100, Train Loss: 0.1965, Val Loss: 0.2554\n",
            "Epoch 88/100, Train Loss: 0.1965, Val Loss: 0.2554\n",
            "Epoch 89/100, Train Loss: 0.1965, Val Loss: 0.2554\n",
            "Epoch 90/100, Train Loss: 0.1965, Val Loss: 0.2554\n",
            "Epoch 91/100, Train Loss: 0.1965, Val Loss: 0.2554\n",
            "Epoch 92/100, Train Loss: 0.1965, Val Loss: 0.2554\n",
            "Epoch 93/100, Train Loss: 0.1965, Val Loss: 0.2554\n",
            "Epoch 94/100, Train Loss: 0.1965, Val Loss: 0.2554\n",
            "Epoch 95/100, Train Loss: 0.1965, Val Loss: 0.2554\n",
            "Epoch 96/100, Train Loss: 0.1965, Val Loss: 0.2554\n",
            "Epoch 97/100, Train Loss: 0.1965, Val Loss: 0.2554\n",
            "Epoch 98/100, Train Loss: 0.1965, Val Loss: 0.2554\n",
            "Epoch 99/100, Train Loss: 0.1965, Val Loss: 0.2554\n",
            "Epoch 100/100, Train Loss: 0.1965, Val Loss: 0.2554\n"
          ]
        }
      ]
    },
    {
      "cell_type": "code",
      "source": [
        "Vanilla_optimizer = optim.SGD(my_model.parameters(), lr=0.0001, momentum=0.9)\n",
        "vanilla_train, vanilla_val = train(my_model, Vanilla_optimizer, criterion, train_loader, val_loader, num_epochs)\n",
        "Vanilla_loss.extend([vanilla_train, vanilla_val])"
      ],
      "metadata": {
        "colab": {
          "base_uri": "https://localhost:8080/"
        },
        "id": "L4L6mVQ2DEDX",
        "outputId": "5ecd26a3-1ca5-4ff0-cb35-6e57d79d5a8f"
      },
      "execution_count": 83,
      "outputs": [
        {
          "output_type": "stream",
          "name": "stdout",
          "text": [
            "Epoch 1/100, Train Loss: 0.2001, Val Loss: 0.2563\n",
            "Epoch 2/100, Train Loss: 0.1997, Val Loss: 0.2595\n",
            "Epoch 3/100, Train Loss: 0.1995, Val Loss: 0.2564\n",
            "Epoch 4/100, Train Loss: 0.1996, Val Loss: 0.2585\n",
            "Epoch 5/100, Train Loss: 0.1990, Val Loss: 0.2563\n",
            "Epoch 6/100, Train Loss: 0.1991, Val Loss: 0.2563\n",
            "Epoch 7/100, Train Loss: 0.1990, Val Loss: 0.2571\n",
            "Epoch 8/100, Train Loss: 0.1992, Val Loss: 0.2580\n",
            "Epoch 9/100, Train Loss: 0.1993, Val Loss: 0.2558\n",
            "Epoch 10/100, Train Loss: 0.1991, Val Loss: 0.2566\n",
            "Epoch 11/100, Train Loss: 0.1993, Val Loss: 0.2580\n",
            "Epoch 12/100, Train Loss: 0.1990, Val Loss: 0.2559\n",
            "Epoch 13/100, Train Loss: 0.1988, Val Loss: 0.2571\n",
            "Epoch 14/100, Train Loss: 0.1987, Val Loss: 0.2578\n",
            "Epoch 15/100, Train Loss: 0.1992, Val Loss: 0.2579\n",
            "Epoch 16/100, Train Loss: 0.1990, Val Loss: 0.2566\n",
            "Epoch 17/100, Train Loss: 0.1988, Val Loss: 0.2555\n",
            "Epoch 18/100, Train Loss: 0.1989, Val Loss: 0.2557\n",
            "Epoch 19/100, Train Loss: 0.1985, Val Loss: 0.2576\n",
            "Epoch 20/100, Train Loss: 0.1985, Val Loss: 0.2566\n",
            "Epoch 21/100, Train Loss: 0.1982, Val Loss: 0.2567\n",
            "Epoch 22/100, Train Loss: 0.1985, Val Loss: 0.2578\n",
            "Epoch 23/100, Train Loss: 0.1986, Val Loss: 0.2599\n",
            "Epoch 24/100, Train Loss: 0.1981, Val Loss: 0.2567\n",
            "Epoch 25/100, Train Loss: 0.1983, Val Loss: 0.2576\n",
            "Epoch 26/100, Train Loss: 0.1980, Val Loss: 0.2620\n",
            "Epoch 27/100, Train Loss: 0.1984, Val Loss: 0.2571\n",
            "Epoch 28/100, Train Loss: 0.1981, Val Loss: 0.2570\n",
            "Epoch 29/100, Train Loss: 0.1982, Val Loss: 0.2557\n",
            "Epoch 30/100, Train Loss: 0.1980, Val Loss: 0.2564\n",
            "Epoch 31/100, Train Loss: 0.1987, Val Loss: 0.2566\n",
            "Epoch 32/100, Train Loss: 0.1976, Val Loss: 0.2571\n",
            "Epoch 33/100, Train Loss: 0.1981, Val Loss: 0.2589\n",
            "Epoch 34/100, Train Loss: 0.1983, Val Loss: 0.2577\n",
            "Epoch 35/100, Train Loss: 0.1978, Val Loss: 0.2574\n",
            "Epoch 36/100, Train Loss: 0.1979, Val Loss: 0.2573\n",
            "Epoch 37/100, Train Loss: 0.1983, Val Loss: 0.2575\n",
            "Epoch 38/100, Train Loss: 0.1979, Val Loss: 0.2572\n",
            "Epoch 39/100, Train Loss: 0.1984, Val Loss: 0.2570\n",
            "Epoch 40/100, Train Loss: 0.1977, Val Loss: 0.2560\n",
            "Epoch 41/100, Train Loss: 0.1977, Val Loss: 0.2570\n",
            "Epoch 42/100, Train Loss: 0.1973, Val Loss: 0.2569\n",
            "Epoch 43/100, Train Loss: 0.1979, Val Loss: 0.2611\n",
            "Epoch 44/100, Train Loss: 0.1979, Val Loss: 0.2566\n",
            "Epoch 45/100, Train Loss: 0.1974, Val Loss: 0.2567\n",
            "Epoch 46/100, Train Loss: 0.1972, Val Loss: 0.2593\n",
            "Epoch 47/100, Train Loss: 0.1972, Val Loss: 0.2573\n",
            "Epoch 48/100, Train Loss: 0.1972, Val Loss: 0.2577\n",
            "Epoch 49/100, Train Loss: 0.1971, Val Loss: 0.2577\n",
            "Epoch 50/100, Train Loss: 0.1971, Val Loss: 0.2573\n",
            "Epoch 51/100, Train Loss: 0.1974, Val Loss: 0.2576\n",
            "Epoch 52/100, Train Loss: 0.1966, Val Loss: 0.2572\n",
            "Epoch 53/100, Train Loss: 0.1969, Val Loss: 0.2569\n",
            "Epoch 54/100, Train Loss: 0.1968, Val Loss: 0.2577\n",
            "Epoch 55/100, Train Loss: 0.1971, Val Loss: 0.2575\n",
            "Epoch 56/100, Train Loss: 0.1969, Val Loss: 0.2559\n",
            "Epoch 57/100, Train Loss: 0.1966, Val Loss: 0.2586\n",
            "Epoch 58/100, Train Loss: 0.1969, Val Loss: 0.2562\n",
            "Epoch 59/100, Train Loss: 0.1968, Val Loss: 0.2558\n",
            "Epoch 60/100, Train Loss: 0.1968, Val Loss: 0.2573\n",
            "Epoch 61/100, Train Loss: 0.1970, Val Loss: 0.2567\n",
            "Epoch 62/100, Train Loss: 0.1965, Val Loss: 0.2563\n",
            "Epoch 63/100, Train Loss: 0.1960, Val Loss: 0.2590\n",
            "Epoch 64/100, Train Loss: 0.1963, Val Loss: 0.2591\n",
            "Epoch 65/100, Train Loss: 0.1962, Val Loss: 0.2563\n",
            "Epoch 66/100, Train Loss: 0.1967, Val Loss: 0.2562\n",
            "Epoch 67/100, Train Loss: 0.1962, Val Loss: 0.2570\n",
            "Epoch 68/100, Train Loss: 0.1960, Val Loss: 0.2599\n",
            "Epoch 69/100, Train Loss: 0.1961, Val Loss: 0.2632\n",
            "Epoch 70/100, Train Loss: 0.1958, Val Loss: 0.2559\n",
            "Epoch 71/100, Train Loss: 0.1960, Val Loss: 0.2579\n",
            "Epoch 72/100, Train Loss: 0.1965, Val Loss: 0.2580\n",
            "Epoch 73/100, Train Loss: 0.1958, Val Loss: 0.2563\n",
            "Epoch 74/100, Train Loss: 0.1963, Val Loss: 0.2560\n",
            "Epoch 75/100, Train Loss: 0.1960, Val Loss: 0.2585\n",
            "Epoch 76/100, Train Loss: 0.1960, Val Loss: 0.2587\n",
            "Epoch 77/100, Train Loss: 0.1955, Val Loss: 0.2608\n",
            "Epoch 78/100, Train Loss: 0.1962, Val Loss: 0.2568\n",
            "Epoch 79/100, Train Loss: 0.1954, Val Loss: 0.2574\n",
            "Epoch 80/100, Train Loss: 0.1959, Val Loss: 0.2568\n",
            "Epoch 81/100, Train Loss: 0.1956, Val Loss: 0.2566\n",
            "Epoch 82/100, Train Loss: 0.1960, Val Loss: 0.2569\n",
            "Epoch 83/100, Train Loss: 0.1954, Val Loss: 0.2607\n",
            "Epoch 84/100, Train Loss: 0.1953, Val Loss: 0.2566\n",
            "Epoch 85/100, Train Loss: 0.1954, Val Loss: 0.2590\n",
            "Epoch 86/100, Train Loss: 0.1954, Val Loss: 0.2557\n",
            "Epoch 87/100, Train Loss: 0.1952, Val Loss: 0.2588\n",
            "Epoch 88/100, Train Loss: 0.1953, Val Loss: 0.2608\n",
            "Epoch 89/100, Train Loss: 0.1954, Val Loss: 0.2587\n",
            "Epoch 90/100, Train Loss: 0.1956, Val Loss: 0.2564\n",
            "Epoch 91/100, Train Loss: 0.1955, Val Loss: 0.2573\n",
            "Epoch 92/100, Train Loss: 0.1952, Val Loss: 0.2569\n",
            "Epoch 93/100, Train Loss: 0.1955, Val Loss: 0.2599\n",
            "Epoch 94/100, Train Loss: 0.1954, Val Loss: 0.2577\n",
            "Epoch 95/100, Train Loss: 0.1953, Val Loss: 0.2583\n",
            "Epoch 96/100, Train Loss: 0.1954, Val Loss: 0.2576\n",
            "Epoch 97/100, Train Loss: 0.1954, Val Loss: 0.2586\n",
            "Epoch 98/100, Train Loss: 0.1949, Val Loss: 0.2565\n",
            "Epoch 99/100, Train Loss: 0.1949, Val Loss: 0.2564\n",
            "Epoch 100/100, Train Loss: 0.1956, Val Loss: 0.2622\n"
          ]
        }
      ]
    },
    {
      "cell_type": "markdown",
      "source": [
        "Now I will plot 2 different sets of curves, one containing all the 6 training losses vs No. of Epochs and the other containing all the 6 Validation losses vs No. of Epochs"
      ],
      "metadata": {
        "id": "PI5tWlZLEflO"
      }
    },
    {
      "cell_type": "markdown",
      "source": [
        "**(A) For Training Losses**"
      ],
      "metadata": {
        "id": "7Mf5FvgdHxP8"
      }
    },
    {
      "cell_type": "code",
      "source": [
        "NUM_EPOCHS_LIST=[]\n",
        "for i in range(1,101):\n",
        "  NUM_EPOCHS_LIST.append(i)\n",
        "\n",
        "plt.plot(NUM_EPOCHS_LIST,Adam_loss[0],label='Adam')\n",
        "plt.plot(NUM_EPOCHS_LIST,NAG_loss[0],label='NAG')\n",
        "plt.plot(NUM_EPOCHS_LIST,Adagrad_loss[0],label='Adagrad')\n",
        "plt.plot(NUM_EPOCHS_LIST,Adamax_loss[0],label='Adamax')\n",
        "plt.plot(NUM_EPOCHS_LIST,Adadelta_loss[0],label='Adadelta')\n",
        "plt.plot(NUM_EPOCHS_LIST,Vanilla_loss[0],label='Vanilla')\n",
        "\n",
        "plt.xlabel('Number of Epochs')\n",
        "plt.ylabel('Loss')\n",
        "plt.title('Training losses')\n",
        "plt.legend()\n",
        "plt.show()\n"
      ],
      "metadata": {
        "colab": {
          "base_uri": "https://localhost:8080/",
          "height": 472
        },
        "id": "OVk7gOX7E7pk",
        "outputId": "b7d073be-369b-4f41-ef55-16e814c10784"
      },
      "execution_count": 84,
      "outputs": [
        {
          "output_type": "display_data",
          "data": {
            "text/plain": [
              "<Figure size 640x480 with 1 Axes>"
            ],
            "image/png": "[encoded data removed]"
          },
          "metadata": {}
        }
      ]
    },
    {
      "cell_type": "markdown",
      "source": [
        "**(B) For Validation Losses**"
      ],
      "metadata": {
        "id": "uZtuO-K-IBRS"
      }
    },
    {
      "cell_type": "code",
      "source": [
        "plt.plot(NUM_EPOCHS_LIST,Adam_loss[1],label='Adam')\n",
        "plt.plot(NUM_EPOCHS_LIST,NAG_loss[1],label='NAG')\n",
        "plt.plot(NUM_EPOCHS_LIST,Adagrad_loss[1],label='Adagrad')\n",
        "plt.plot(NUM_EPOCHS_LIST,Adamax_loss[1],label='Adamax')\n",
        "plt.plot(NUM_EPOCHS_LIST,Adadelta_loss[1],label='Adadelta')\n",
        "plt.plot(NUM_EPOCHS_LIST,Vanilla_loss[1],label='Vanilla')\n",
        "\n",
        "plt.xlabel('Number of Epochs')\n",
        "plt.ylabel('Loss')\n",
        "plt.title('Validation Losses')\n",
        "plt.legend()\n",
        "plt.show()"
      ],
      "metadata": {
        "id": "gaBP1npSGywl",
        "colab": {
          "base_uri": "https://localhost:8080/",
          "height": 472
        },
        "outputId": "e9e336be-e233-4bbf-fc13-4f08a626cc2d"
      },
      "execution_count": 85,
      "outputs": [
        {
          "output_type": "display_data",
          "data": {
            "text/plain": [
              "<Figure size 640x480 with 1 Axes>"
            ],
            "image/png": "[encoded data removed]"
          },
          "metadata": {}
        }
      ]
    },
    {
      "cell_type": "code",
      "source": [],
      "metadata": {
        "id": "GwZ-ilEyH9PW"
      },
      "execution_count": null,
      "outputs": []
    },
    {
      "cell_type": "markdown",
      "source": [
        "**Question No (5):** Synchronization of 2 curves can be measured by using correlation coefficient(np.corrcoef(curve1, curve2)[0, 1]): This measures the correlation value in between 0 and 1. Also I will plot the Loss vs Epochs plot of the 2 curves to compare them"
      ],
      "metadata": {
        "id": "ne3lcr5CziHW"
      }
    },
    {
      "cell_type": "markdown",
      "source": [
        "**COMPARISON OF TRAINING CURVES BUILT USING SCRATCH AND BUILT USING torch.optim for Adam Optimizer.**"
      ],
      "metadata": {
        "id": "U3YyBa1BCSpS"
      }
    },
    {
      "cell_type": "code",
      "source": [
        "plt.plot(NUM_EPOCHS_LIST,training_loss,label='Built-from Scratch(Adam)')\n",
        "plt.plot(NUM_EPOCHS_LIST,Adam_loss[0],label='Built using torch.optim(Adam)')\n",
        "plt.xlabel('Number of Epochs')\n",
        "plt.ylabel('Loss')\n",
        "plt.title('Comparison of Training Curves(of Adam Optimizer)')\n",
        "plt.legend()\n",
        "plt.show()"
      ],
      "metadata": {
        "colab": {
          "base_uri": "https://localhost:8080/",
          "height": 472
        },
        "id": "rgoTchuzzgp1",
        "outputId": "2a1cb9c6-2e77-4153-9c6e-b34f051a5ea2"
      },
      "execution_count": 86,
      "outputs": [
        {
          "output_type": "display_data",
          "data": {
            "text/plain": [
              "<Figure size 640x480 with 1 Axes>"
            ],
            "image/png": "[encoded data removed]"
          },
          "metadata": {}
        }
      ]
    },
    {
      "cell_type": "code",
      "source": [
        "correlation_coefficient_Adam_Training = np.corrcoef(training_loss, Adam_loss[0])[0, 1]\n",
        "print(correlation_coefficient_Adam_Training)"
      ],
      "metadata": {
        "colab": {
          "base_uri": "https://localhost:8080/"
        },
        "id": "8hes7qecCvHx",
        "outputId": "b99ea76c-443b-47c8-b61e-c8f94e54844d"
      },
      "execution_count": 87,
      "outputs": [
        {
          "output_type": "stream",
          "name": "stdout",
          "text": [
            "0.6471053743181084\n"
          ]
        }
      ]
    },
    {
      "cell_type": "markdown",
      "source": [
        "**COMPARISON OF VALIDATION CURVES BUILT USING SCRATCH AND BUILT USING torch.optim for Adam Optimizer.**"
      ],
      "metadata": {
        "id": "qIneueXCDsf7"
      }
    },
    {
      "cell_type": "code",
      "source": [
        "plt.plot(NUM_EPOCHS_LIST,validation_loss,label='Built-from Scratch(Adam)')\n",
        "plt.plot(NUM_EPOCHS_LIST,Adam_loss[1],label='Built using torch.optim(Adam)')\n",
        "plt.xlabel('Number of Epochs')\n",
        "plt.ylabel('Loss')\n",
        "plt.title('Comparison of Validation Curves(of Adam Optimizer)')\n",
        "plt.legend()\n",
        "plt.show()"
      ],
      "metadata": {
        "colab": {
          "base_uri": "https://localhost:8080/",
          "height": 472
        },
        "id": "JSjKPO6aDK3s",
        "outputId": "5586901b-f62b-4252-e79e-8127c0e024a4"
      },
      "execution_count": 88,
      "outputs": [
        {
          "output_type": "display_data",
          "data": {
            "text/plain": [
              "<Figure size 640x480 with 1 Axes>"
            ],
            "image/png": "[encoded data removed]"
          },
          "metadata": {}
        }
      ]
    },
    {
      "cell_type": "code",
      "source": [
        "correlation_coefficient_Adam_Validation = np.corrcoef(validation_loss, Adam_loss[1])[0, 1]\n",
        "print(correlation_coefficient_Adam_Validation)"
      ],
      "metadata": {
        "colab": {
          "base_uri": "https://localhost:8080/"
        },
        "id": "yYzhlzcKDbaf",
        "outputId": "354fd662-5503-4344-81bc-9a93fb223be2"
      },
      "execution_count": 89,
      "outputs": [
        {
          "output_type": "stream",
          "name": "stdout",
          "text": [
            "0.8760261838164765\n"
          ]
        }
      ]
    },
    {
      "cell_type": "markdown",
      "source": [
        "**COMPARISON OF TRAINING CURVES BUILT USING SCRATCH AND BUILT USING torch.optim for NAG(Nesterov Accelerated Gradient) Optimization algorithm.**"
      ],
      "metadata": {
        "id": "TmhFFaxmEdEN"
      }
    },
    {
      "cell_type": "code",
      "source": [
        "plt.plot(NUM_EPOCHS_LIST,training_loss_using_NAG,label='Built-from Scratch(NAG)')\n",
        "plt.plot(NUM_EPOCHS_LIST,NAG_loss[0],label='Built using torch.optim(NAG)')\n",
        "plt.xlabel('Number of Epochs')\n",
        "plt.ylabel('Loss')\n",
        "plt.title('Comparison of Training Curves(of NAG Optimization Algorithm)')\n",
        "plt.legend()\n",
        "plt.show()"
      ],
      "metadata": {
        "colab": {
          "base_uri": "https://localhost:8080/",
          "height": 472
        },
        "id": "wD0CBmGQEWrB",
        "outputId": "2a5d0839-5270-4bae-a838-a5dc05dde5ff"
      },
      "execution_count": 92,
      "outputs": [
        {
          "output_type": "display_data",
          "data": {
            "text/plain": [
              "<Figure size 640x480 with 1 Axes>"
            ],
            "image/png": "[encoded data removed]"
          },
          "metadata": {}
        }
      ]
    },
    {
      "cell_type": "code",
      "source": [
        "correlation_coefficient_NAG_training = np.corrcoef(training_loss_using_NAG, NAG_loss[0])[0, 1]\n",
        "print(correlation_coefficient_NAG_training)"
      ],
      "metadata": {
        "colab": {
          "base_uri": "https://localhost:8080/"
        },
        "id": "0w2sM7OCFtAh",
        "outputId": "107371d1-5f7a-4c90-ad13-44e7d77cb243"
      },
      "execution_count": 93,
      "outputs": [
        {
          "output_type": "stream",
          "name": "stdout",
          "text": [
            "-0.377835156975678\n"
          ]
        }
      ]
    },
    {
      "cell_type": "markdown",
      "source": [
        "**COMPARISON OF VALIDATION CURVES BUILT USING SCRATCH AND BUILT USING torch.optim for NAG(Nesterov Accelerated Gradient) Optimization algorithm.**"
      ],
      "metadata": {
        "id": "GRob76fNGuVY"
      }
    },
    {
      "cell_type": "code",
      "source": [
        "plt.plot(NUM_EPOCHS_LIST,validation_loss_using_NAG,label='Built-from Scratch(NAG)')\n",
        "plt.plot(NUM_EPOCHS_LIST,NAG_loss[1],label='Built using torch.optim(NAG)')\n",
        "plt.xlabel('Number of Epochs')\n",
        "plt.ylabel('Loss')\n",
        "plt.title('Comparison of Validation Curves(of NAG Optimization Algorithm)')\n",
        "plt.legend()\n",
        "plt.show()"
      ],
      "metadata": {
        "colab": {
          "base_uri": "https://localhost:8080/",
          "height": 472
        },
        "id": "5Nz2o9yoGEAk",
        "outputId": "bd87c202-4c76-4dc1-b078-dcaae8659e8c"
      },
      "execution_count": 94,
      "outputs": [
        {
          "output_type": "display_data",
          "data": {
            "text/plain": [
              "<Figure size 640x480 with 1 Axes>"
            ],
            "image/png": "[encoded data removed]"
          },
          "metadata": {}
        }
      ]
    },
    {
      "cell_type": "code",
      "source": [
        "correlation_coefficient_NAG_validation = np.corrcoef(validation_loss_using_NAG, NAG_loss[1])[0, 1]\n",
        "print(correlation_coefficient_NAG_validation)"
      ],
      "metadata": {
        "colab": {
          "base_uri": "https://localhost:8080/"
        },
        "id": "oquWvs3XGZ_9",
        "outputId": "444d154d-1611-4597-b317-8622c2b8c444"
      },
      "execution_count": 95,
      "outputs": [
        {
          "output_type": "stream",
          "name": "stdout",
          "text": [
            "-0.05651077284995771\n"
          ]
        }
      ]
    },
    {
      "cell_type": "code",
      "source": [],
      "metadata": {
        "id": "yqGuqtUoGoSZ"
      },
      "execution_count": null,
      "outputs": []
    }
  ],
  "metadata": {
    "accelerator": "GPU",
    "colab": {
      "gpuType": "T4",
      "provenance": []
    },
    "kernelspec": {
      "display_name": "Python 3",
      "name": "python3"
    },
    "language_info": {
      "name": "python"
    }
  },
  "nbformat": 4,
  "nbformat_minor": 0
}