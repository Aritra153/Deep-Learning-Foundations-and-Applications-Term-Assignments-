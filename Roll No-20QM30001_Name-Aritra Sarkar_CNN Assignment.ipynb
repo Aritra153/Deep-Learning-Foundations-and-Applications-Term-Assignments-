{
  "nbformat": 4,
  "nbformat_minor": 0,
  "metadata": {
    "colab": {
      "provenance": [],
      "gpuType": "T4"
    },
    "kernelspec": {
      "name": "python3",
      "display_name": "Python 3"
    },
    "language_info": {
      "name": "python"
    },
    "accelerator": "GPU"
  },
  "cells": [
    {
      "cell_type": "markdown",
      "source": [
        "**NAME** - Aritra Sarkar\n",
        "\n",
        "**ROLL NO** - 20QM30001"
      ],
      "metadata": {
        "id": "XvsDjHqqMgxr"
      }
    },
    {
      "cell_type": "code",
      "execution_count": null,
      "metadata": {
        "id": "AJHY1lSRjRCu"
      },
      "outputs": [],
      "source": [
        "import torch\n",
        "import torchvision\n",
        "import matplotlib.pyplot as plt\n",
        "import numpy as np\n",
        "from torchvision import datasets, transforms\n"
      ]
    },
    {
      "cell_type": "markdown",
      "source": [
        "Downloading the MNIST dataset"
      ],
      "metadata": {
        "id": "5Uv4YgFt9ijJ"
      }
    },
    {
      "cell_type": "code",
      "source": [
        "transform = transforms.ToTensor()\n",
        "\n",
        "#Loading the training set\n",
        "trainset = datasets.MNIST('~/.pytorch/MNIST_data/', download=True, train=True, transform=transform)\n",
        "trainloader = torch.utils.data.DataLoader(trainset, batch_size=len(trainset), shuffle=False)\n",
        "\n",
        "#Loading the test set\n",
        "testset = datasets.MNIST('~/.pytorch/MNIST_data/', download=True, train=False, transform=transform)\n",
        "testloader = torch.utils.data.DataLoader(testset, batch_size=len(testset), shuffle=False)\n",
        "\n"
      ],
      "metadata": {
        "id": "wfs10Lr_H36u"
      },
      "execution_count": null,
      "outputs": []
    },
    {
      "cell_type": "markdown",
      "source": [
        "Combining the training and testing sets together to calculate the grand mean and standard deviation"
      ],
      "metadata": {
        "id": "4o4AnPqA9oGj"
      }
    },
    {
      "cell_type": "code",
      "source": [
        "#I have combined the train and test data together to calculate the mean and standard deviation\n",
        "combined_data = torch.cat([next(iter(trainloader))[0], next(iter(testloader))[0]], dim=0)\n",
        "\n",
        "mean=combined_data.mean()\n",
        "std_dev=combined_data.std()\n",
        "\n"
      ],
      "metadata": {
        "id": "2x4_wPaPW3tI"
      },
      "execution_count": null,
      "outputs": []
    },
    {
      "cell_type": "code",
      "source": [
        "print(mean.item(),\" \",std_dev.item())"
      ],
      "metadata": {
        "colab": {
          "base_uri": "https://localhost:8080/"
        },
        "id": "pSZs3kp5XrmP",
        "outputId": "76612851-03bb-4f37-f547-27e59358856f"
      },
      "execution_count": null,
      "outputs": [
        {
          "output_type": "stream",
          "name": "stdout",
          "text": [
            "0.13092534244060516   0.30844852328300476\n"
          ]
        }
      ]
    },
    {
      "cell_type": "markdown",
      "source": [
        "Normalizing the dataset using the mean and standard deviation"
      ],
      "metadata": {
        "id": "4yWlxSQg93eP"
      }
    },
    {
      "cell_type": "code",
      "source": [
        "transform = transforms.Compose([transforms.ToTensor(),transforms.Normalize((mean,), (std_dev,))])\n",
        "\n",
        "#Next, I have used the mean and standard deviation to Normalize the\n",
        "normalized_training_set = datasets.MNIST('~/.pytorch/MNIST_data/', download=True, train=True, transform=transform)\n",
        "normalized_test_set = datasets.MNIST('~/.pytorch/MNIST_data/', download=True, train=False, transform=transform)"
      ],
      "metadata": {
        "id": "8y_xYgtOZBNg"
      },
      "execution_count": null,
      "outputs": []
    },
    {
      "cell_type": "markdown",
      "source": [
        "Using a batch size=300 to get training and testing mini-batches"
      ],
      "metadata": {
        "id": "xTu1jLVk9-t4"
      }
    },
    {
      "cell_type": "code",
      "source": [
        "batch_size = 300 #As instructed in the question, the batch_size should be greater than 256 for both training and test sets\n",
        "trainloader = torch.utils.data.DataLoader(normalized_training_set, batch_size=batch_size, shuffle=True)\n",
        "testloader = torch.utils.data.DataLoader(normalized_test_set, batch_size=batch_size, shuffle=False)\n"
      ],
      "metadata": {
        "id": "cEdXAZ4ngnsD"
      },
      "execution_count": null,
      "outputs": []
    },
    {
      "cell_type": "code",
      "source": [],
      "metadata": {
        "id": "qH5Ti9Inhvty"
      },
      "execution_count": null,
      "outputs": []
    },
    {
      "cell_type": "markdown",
      "source": [
        "Next, I have created the **ResNet** architecture by building it from scratch. As mentioned in the question, I have used 2 level Resnet block, used 2 Convolution layers(along with **MaxPooling** and **ReLU** activations) and residual connections. At the end, I have added 2 fully-connected layers and finally the output layer having 10 output Neurons."
      ],
      "metadata": {
        "id": "3B-EoIeRlzXu"
      }
    },
    {
      "cell_type": "code",
      "source": [
        "import torch\n",
        "import torch.nn as nn\n",
        "import torch.nn.functional as F\n",
        "from torchsummary import summary\n",
        "\n",
        "# Define a convolutional layer with 3x3 kernel\n",
        "def convo(input_channels, output_channels, stride=1):\n",
        "    return nn.Conv2d(input_channels, output_channels, kernel_size=3, stride=stride, padding=1, bias=True)\n",
        "\n",
        "# Defining a basic residual block with skip connection\n",
        "class Block(nn.Module):\n",
        "    def __init__(self, input_channels, output_channels, stride=1):\n",
        "        super(Block, self).__init__()\n",
        "        self.conv1 = convo(input_channels, output_channels, stride)\n",
        "        self.conv2 = convo(output_channels, output_channels)\n",
        "        self.shortcut = nn.Sequential()\n",
        "        if(stride != 1 or input_channels != output_channels):\n",
        "            self.shortcut = nn.Sequential(\n",
        "                nn.Conv2d(input_channels, output_channels, kernel_size=1, stride=stride, bias=True),\n",
        "            )\n",
        "\n",
        "    def forward(self, x):\n",
        "        output = nn.ReLU()(self.conv1(x))\n",
        "        output = (self.conv2(output))\n",
        "        output = output + self.shortcut(x)  # Adding the shortcut(or residual) connection\n",
        "        output = nn.ReLU()(output)\n",
        "        return output\n",
        "\n",
        "# Defining a single ResNet layer\n",
        "def ResNet_Layer(block, input_channels, output_channels,stride):\n",
        "\n",
        "    layers_list=[]\n",
        "    layers_list.append(block(input_channels, output_channels, stride))\n",
        "    input_channels = output_channels  # Update input channels for next block in the layer\n",
        "    return nn.Sequential(*layers_list)\n",
        "\n",
        "# Define the ResNet architecture\n",
        "def ResNet(num_classes=10):\n",
        "    # Start with a 3x3 convolutional layer, followed by batch normalization and ReLU\n",
        "    layers_list = [\n",
        "        convo(1, 16),        # Input channels: 1 (grayscale image), Output channels: 16\n",
        "        nn.ReLU(inplace=True),\n",
        "        nn.MaxPool2d(kernel_size=2, stride=2)  # Max pooling layer(as demonstrated in class)\n",
        "        ]\n",
        "    # Add the ResNet layers\n",
        "    layers_list.append(ResNet_Layer(Block, 16, 16, 1))  # First ResNet level\n",
        "    layers_list.append(ResNet_Layer(Block, 16, 32, 2))  # Second ResNet level\n",
        "    # Average pooling\n",
        "    layers_list.append(nn.AdaptiveAvgPool2d((1, 1))) #Average Pooling layer before Flatten(as demonstrated in class)\n",
        "    layers_list.append(nn.Flatten())\n",
        "    # Fully connected layers\n",
        "    layers_list.append(nn.Linear(32, 64))\n",
        "    layers_list.append(nn.ReLU(inplace=True))\n",
        "    layers_list.append(nn.Linear(64, num_classes))  # Output layer with num_classes neurons\n",
        "    layers_list.append(nn.Sigmoid())\n",
        "    return nn.Sequential(*layers_list)\n",
        "\n",
        "# Testing the network\n",
        "device = torch.device(\"cuda\" if torch.cuda.is_available() else \"cpu\")\n",
        "my_model=ResNet().to(device)\n",
        "print(my_model)\n",
        "summary(my_model, input_size=(1, 28, 28)) # As input size of each image in MNIST is (1 x 28 x 28)\n",
        "\n"
      ],
      "metadata": {
        "colab": {
          "base_uri": "https://localhost:8080/"
        },
        "id": "hkLhxmQvQHFA",
        "outputId": "cba247bf-0ada-4e9d-b5b3-8db6fd82ffb5"
      },
      "execution_count": null,
      "outputs": [
        {
          "output_type": "stream",
          "name": "stdout",
          "text": [
            "Sequential(\n",
            "  (0): Conv2d(1, 16, kernel_size=(3, 3), stride=(1, 1), padding=(1, 1))\n",
            "  (1): ReLU(inplace=True)\n",
            "  (2): MaxPool2d(kernel_size=2, stride=2, padding=0, dilation=1, ceil_mode=False)\n",
            "  (3): Sequential(\n",
            "    (0): Block(\n",
            "      (conv1): Conv2d(16, 16, kernel_size=(3, 3), stride=(1, 1), padding=(1, 1))\n",
            "      (conv2): Conv2d(16, 16, kernel_size=(3, 3), stride=(1, 1), padding=(1, 1))\n",
            "      (shortcut): Sequential()\n",
            "    )\n",
            "  )\n",
            "  (4): Sequential(\n",
            "    (0): Block(\n",
            "      (conv1): Conv2d(16, 32, kernel_size=(3, 3), stride=(2, 2), padding=(1, 1))\n",
            "      (conv2): Conv2d(32, 32, kernel_size=(3, 3), stride=(1, 1), padding=(1, 1))\n",
            "      (shortcut): Sequential(\n",
            "        (0): Conv2d(16, 32, kernel_size=(1, 1), stride=(2, 2))\n",
            "      )\n",
            "    )\n",
            "  )\n",
            "  (5): AdaptiveAvgPool2d(output_size=(1, 1))\n",
            "  (6): Flatten(start_dim=1, end_dim=-1)\n",
            "  (7): Linear(in_features=32, out_features=64, bias=True)\n",
            "  (8): ReLU(inplace=True)\n",
            "  (9): Linear(in_features=64, out_features=10, bias=True)\n",
            "  (10): Sigmoid()\n",
            ")\n",
            "----------------------------------------------------------------\n",
            "        Layer (type)               Output Shape         Param #\n",
            "================================================================\n",
            "            Conv2d-1           [-1, 16, 28, 28]             160\n",
            "              ReLU-2           [-1, 16, 28, 28]               0\n",
            "         MaxPool2d-3           [-1, 16, 14, 14]               0\n",
            "            Conv2d-4           [-1, 16, 14, 14]           2,320\n",
            "            Conv2d-5           [-1, 16, 14, 14]           2,320\n",
            "             Block-6           [-1, 16, 14, 14]               0\n",
            "            Conv2d-7             [-1, 32, 7, 7]           4,640\n",
            "            Conv2d-8             [-1, 32, 7, 7]           9,248\n",
            "            Conv2d-9             [-1, 32, 7, 7]             544\n",
            "            Block-10             [-1, 32, 7, 7]               0\n",
            "AdaptiveAvgPool2d-11             [-1, 32, 1, 1]               0\n",
            "          Flatten-12                   [-1, 32]               0\n",
            "           Linear-13                   [-1, 64]           2,112\n",
            "             ReLU-14                   [-1, 64]               0\n",
            "           Linear-15                   [-1, 10]             650\n",
            "          Sigmoid-16                   [-1, 10]               0\n",
            "================================================================\n",
            "Total params: 21,994\n",
            "Trainable params: 21,994\n",
            "Non-trainable params: 0\n",
            "----------------------------------------------------------------\n",
            "Input size (MB): 0.00\n",
            "Forward/backward pass size (MB): 0.34\n",
            "Params size (MB): 0.08\n",
            "Estimated Total Size (MB): 0.42\n",
            "----------------------------------------------------------------\n"
          ]
        }
      ]
    },
    {
      "cell_type": "markdown",
      "source": [
        "Hence, there are a total of 21,994 trainable parameters in the above model"
      ],
      "metadata": {
        "id": "ojOFi2C0Ab6Q"
      }
    },
    {
      "cell_type": "markdown",
      "source": [
        "Next, I have removed the skip or residual connection from the ResNet block to create CNN-Vanilla. The rest all architecture remains the same.  "
      ],
      "metadata": {
        "id": "PzJAXAJkAj8S"
      }
    },
    {
      "cell_type": "code",
      "source": [
        "# Define a convolutional layer with 3x3 kernel\n",
        "def convo(input_channels, output_channels, stride=1):\n",
        "    return nn.Conv2d(input_channels, output_channels, kernel_size=3, stride=stride, padding=1, bias=True)\n",
        "\n",
        "# Defining a basic residual block without any skip connection\n",
        "class Block(nn.Module):\n",
        "    def __init__(self, input_channels, output_channels, stride=1):\n",
        "        super(Block, self).__init__()\n",
        "        self.conv1 = convo(input_channels, output_channels, stride)\n",
        "        self.conv2 = convo(output_channels, output_channels)\n",
        "\n",
        "\n",
        "\n",
        "    def forward(self, x):\n",
        "        output = nn.ReLU()(self.conv1(x))\n",
        "        output = (self.conv2(output))\n",
        "        output = nn.ReLU()(output)\n",
        "        return output\n",
        "\n",
        "# Defining a CNN-Vanilla level(same basic structure as that of CNN-ResNet)\n",
        "def Vanilla_Layer(block, input_channels, output_channels,stride):\n",
        "\n",
        "    layers_list = []\n",
        "\n",
        "    layers_list.append(block(input_channels, output_channels, stride))\n",
        "    in_channels = output_channels  # Update input channels for next block in the layer\n",
        "    return nn.Sequential(*layers_list)\n",
        "\n",
        "# Define the ResNet architecture\n",
        "def Vanilla(num_classes=10):\n",
        "    # Start with a 3x3 convolutional layer, followed by batch normalization and ReLU\n",
        "    layers_list = [\n",
        "        convo(1, 16),        # Input channels: 1 (grayscale image), Output channels: 16\n",
        "        nn.ReLU(inplace=True),\n",
        "        nn.MaxPool2d(kernel_size=2, stride=2)  # Max pooling layer(as demonstrated in class)\n",
        "    ]\n",
        "    # Add the ResNet layers\n",
        "    layers_list.append(Vanilla_Layer(Block, 16, 16, 1))  # First Vanilla level\n",
        "    layers_list.append(Vanilla_Layer(Block, 16, 32, 2))  # Second Vanilla level\n",
        "    # Average pooling\n",
        "    layers_list.append(nn.AdaptiveAvgPool2d((1, 1)))\n",
        "    layers_list.append(nn.Flatten())\n",
        "    # Fully connected layers\n",
        "    layers_list.append(nn.Linear(32, 64))\n",
        "    layers_list.append(nn.ReLU(inplace=True))\n",
        "    layers_list.append(nn.Linear(64, num_classes))  # Output layer with num_classes neurons\n",
        "    layers_list.append(nn.Sigmoid())\n",
        "    return nn.Sequential(*layers_list)\n",
        "\n",
        "# Testing the network\n",
        "\n",
        "device = torch.device(\"cuda\" if torch.cuda.is_available() else \"cpu\")\n",
        "my_model_2=Vanilla().to(device)\n",
        "print(my_model_2)\n",
        "summary(my_model_2, input_size=(1, 28, 28)) # As input size of each image in MNIST is (1 x 28 x 28)\n",
        "\n"
      ],
      "metadata": {
        "colab": {
          "base_uri": "https://localhost:8080/"
        },
        "id": "6OIY3-LUxaYc",
        "outputId": "84e132d4-4718-48ab-dc04-26bd76e85fa6"
      },
      "execution_count": null,
      "outputs": [
        {
          "output_type": "stream",
          "name": "stdout",
          "text": [
            "Sequential(\n",
            "  (0): Conv2d(1, 16, kernel_size=(3, 3), stride=(1, 1), padding=(1, 1))\n",
            "  (1): ReLU(inplace=True)\n",
            "  (2): MaxPool2d(kernel_size=2, stride=2, padding=0, dilation=1, ceil_mode=False)\n",
            "  (3): Sequential(\n",
            "    (0): Block(\n",
            "      (conv1): Conv2d(16, 16, kernel_size=(3, 3), stride=(1, 1), padding=(1, 1))\n",
            "      (conv2): Conv2d(16, 16, kernel_size=(3, 3), stride=(1, 1), padding=(1, 1))\n",
            "    )\n",
            "  )\n",
            "  (4): Sequential(\n",
            "    (0): Block(\n",
            "      (conv1): Conv2d(16, 32, kernel_size=(3, 3), stride=(2, 2), padding=(1, 1))\n",
            "      (conv2): Conv2d(32, 32, kernel_size=(3, 3), stride=(1, 1), padding=(1, 1))\n",
            "    )\n",
            "  )\n",
            "  (5): AdaptiveAvgPool2d(output_size=(1, 1))\n",
            "  (6): Flatten(start_dim=1, end_dim=-1)\n",
            "  (7): Linear(in_features=32, out_features=64, bias=True)\n",
            "  (8): ReLU(inplace=True)\n",
            "  (9): Linear(in_features=64, out_features=10, bias=True)\n",
            "  (10): Sigmoid()\n",
            ")\n",
            "----------------------------------------------------------------\n",
            "        Layer (type)               Output Shape         Param #\n",
            "================================================================\n",
            "            Conv2d-1           [-1, 16, 28, 28]             160\n",
            "              ReLU-2           [-1, 16, 28, 28]               0\n",
            "         MaxPool2d-3           [-1, 16, 14, 14]               0\n",
            "            Conv2d-4           [-1, 16, 14, 14]           2,320\n",
            "            Conv2d-5           [-1, 16, 14, 14]           2,320\n",
            "             Block-6           [-1, 16, 14, 14]               0\n",
            "            Conv2d-7             [-1, 32, 7, 7]           4,640\n",
            "            Conv2d-8             [-1, 32, 7, 7]           9,248\n",
            "             Block-9             [-1, 32, 7, 7]               0\n",
            "AdaptiveAvgPool2d-10             [-1, 32, 1, 1]               0\n",
            "          Flatten-11                   [-1, 32]               0\n",
            "           Linear-12                   [-1, 64]           2,112\n",
            "             ReLU-13                   [-1, 64]               0\n",
            "           Linear-14                   [-1, 10]             650\n",
            "          Sigmoid-15                   [-1, 10]               0\n",
            "================================================================\n",
            "Total params: 21,450\n",
            "Trainable params: 21,450\n",
            "Non-trainable params: 0\n",
            "----------------------------------------------------------------\n",
            "Input size (MB): 0.00\n",
            "Forward/backward pass size (MB): 0.32\n",
            "Params size (MB): 0.08\n",
            "Estimated Total Size (MB): 0.41\n",
            "----------------------------------------------------------------\n"
          ]
        }
      ]
    },
    {
      "cell_type": "markdown",
      "source": [
        "There are a total of 21,450 trainable parameters in the CNN-Vanilla network.(above) Hence, the no. of parameters decrease as compared to CNN-ResNet"
      ],
      "metadata": {
        "id": "aLsTMvq6Hltc"
      }
    },
    {
      "cell_type": "markdown",
      "source": [
        "I have used my CNN-ResNet model(my_model) for training using the normalized dataset"
      ],
      "metadata": {
        "id": "KWGCrMBlOEtQ"
      }
    },
    {
      "cell_type": "code",
      "source": [
        "#Defining the model hyper parameters\n",
        "num_epochs = 30\n",
        "learning_rate = 0.001\n",
        "criterion = torch.nn.CrossEntropyLoss()\n",
        "optimizer = torch.optim.Adam(my_model.parameters(), lr=learning_rate)\n",
        "\n",
        "#Training process begins\n",
        "train_loss_list_ResNet = []\n",
        "for epoch in range(num_epochs):\n",
        "\tprint(f'Epoch {epoch+1}/{num_epochs}:', end = ' ')\n",
        "\ttrain_loss = 0\n",
        "\n",
        "\t#Iterating over the training dataset in batches\n",
        "\tmy_model.train()\n",
        "\tfor i, (images, labels) in enumerate(trainloader):\n",
        "\n",
        "\t\t#Extracting images and target labels for the batch being iterated\n",
        "\t\timages = images.to(device)\n",
        "\t\tlabels = labels.to(device)\n",
        "\n",
        "\t\t#Calculating the model output and the cross entropy loss\n",
        "\t\toutputs = my_model(images)\n",
        "\t\tloss = criterion(outputs, labels)\n",
        "\n",
        "\t\t#Updating weights according to calculated loss\n",
        "\t\toptimizer.zero_grad()\n",
        "\t\tloss.backward()\n",
        "\t\toptimizer.step()\n",
        "\t\ttrain_loss += loss.item()\n",
        "\n",
        "\t#Printing loss for each epoch\n",
        "\ttrain_loss_list_ResNet.append(train_loss/len(trainloader))\n",
        "\tprint(f\"Training loss = {train_loss_list_ResNet[-1]}\")\n",
        "\n",
        "#Plotting loss for all epochs\n",
        "plt.plot(range(1,num_epochs+1), train_loss_list_ResNet)\n",
        "plt.xlabel(\"Number of epochs\")\n",
        "plt.ylabel(\"Training loss\")\n"
      ],
      "metadata": {
        "colab": {
          "base_uri": "https://localhost:8080/",
          "height": 987
        },
        "id": "Xb7JYfNEYgth",
        "outputId": "604fc2af-6905-4a2b-a233-d89027943363"
      },
      "execution_count": null,
      "outputs": [
        {
          "output_type": "stream",
          "name": "stdout",
          "text": [
            "Epoch 1/30: Training loss = 2.061361753940582\n",
            "Epoch 2/30: Training loss = 1.7736898267269134\n",
            "Epoch 3/30: Training loss = 1.6481583297252655\n",
            "Epoch 4/30: Training loss = 1.6142249065637588\n",
            "Epoch 5/30: Training loss = 1.5909749174118042\n",
            "Epoch 6/30: Training loss = 1.5526673322916031\n",
            "Epoch 7/30: Training loss = 1.5321544700860976\n",
            "Epoch 8/30: Training loss = 1.5224400836229324\n",
            "Epoch 9/30: Training loss = 1.5171410125494003\n",
            "Epoch 10/30: Training loss = 1.5122455382347106\n",
            "Epoch 11/30: Training loss = 1.509059534072876\n",
            "Epoch 12/30: Training loss = 1.507209061384201\n",
            "Epoch 13/30: Training loss = 1.5049012130498887\n",
            "Epoch 14/30: Training loss = 1.504767890572548\n",
            "Epoch 15/30: Training loss = 1.5023568910360336\n",
            "Epoch 16/30: Training loss = 1.499708158969879\n",
            "Epoch 17/30: Training loss = 1.4976573008298875\n",
            "Epoch 18/30: Training loss = 1.4963599240779877\n",
            "Epoch 19/30: Training loss = 1.4952141332626343\n",
            "Epoch 20/30: Training loss = 1.4940448027849198\n",
            "Epoch 21/30: Training loss = 1.4949631100893022\n",
            "Epoch 22/30: Training loss = 1.4925461494922638\n",
            "Epoch 23/30: Training loss = 1.492284786105156\n",
            "Epoch 24/30: Training loss = 1.4915982782840729\n",
            "Epoch 25/30: Training loss = 1.4906636714935302\n",
            "Epoch 26/30: Training loss = 1.4896379774808883\n",
            "Epoch 27/30: Training loss = 1.4887094807624817\n",
            "Epoch 28/30: Training loss = 1.4889528334140778\n",
            "Epoch 29/30: Training loss = 1.4876171082258225\n",
            "Epoch 30/30: Training loss = 1.4863502460718154\n"
          ]
        },
        {
          "output_type": "execute_result",
          "data": {
            "text/plain": [
              "Text(0, 0.5, 'Training loss')"
            ]
          },
          "metadata": {},
          "execution_count": 25
        },
        {
          "output_type": "display_data",
          "data": {
            "text/plain": [
              "<Figure size 640x480 with 1 Axes>"
            ],
            "image/png": "[encoded data removed]"
          },
          "metadata": {}
        }
      ]
    },
    {
      "cell_type": "code",
      "source": [
        "# Evaluation mode\n",
        "my_model.eval()\n",
        "\n",
        "# Lists to store predictions and ground truth labels\n",
        "predicted_outputs = []\n",
        "ground_truth_labels = []\n",
        "\n",
        "# Disable gradient calculation for evaluation\n",
        "with torch.no_grad():\n",
        "    for images, labels in testloader:\n",
        "        # Move images and labels to device\n",
        "        images, labels = images.to(device), labels.to(device)\n",
        "\n",
        "        # Forward pass\n",
        "        outputs = my_model(images)\n",
        "\n",
        "        # Get predictions\n",
        "        _, predicted = torch.max(outputs, 1)\n",
        "\n",
        "        # Append predictions and labels to lists\n",
        "        predicted_outputs.extend(predicted.cpu().numpy())\n",
        "        ground_truth_labels.extend(labels.cpu().numpy())\n",
        "\n",
        "# Calculate accuracy\n",
        "correct = sum([1 if pred == true else 0 for pred, true in zip(predicted_outputs, ground_truth_labels)])\n",
        "total = len(ground_truth_labels)\n",
        "accuracy = correct / total * 100\n",
        "\n",
        "print(f\"Accuracy on the test set: {accuracy:.4f}%\")\n"
      ],
      "metadata": {
        "colab": {
          "base_uri": "https://localhost:8080/"
        },
        "id": "ZjLWfEZzc9nP",
        "outputId": "070efbf8-f13a-4bd9-eaf3-260b389ea792"
      },
      "execution_count": null,
      "outputs": [
        {
          "output_type": "stream",
          "name": "stdout",
          "text": [
            "Accuracy on the test set: 97.3500%\n"
          ]
        }
      ]
    },
    {
      "cell_type": "markdown",
      "source": [
        "Hence, I got an accuracy of 97.35% on the test set using my_model(above)"
      ],
      "metadata": {
        "id": "DNRbUvA2Q75d"
      }
    },
    {
      "cell_type": "markdown",
      "source": [
        "Next, I have used my CNN-Vanilla model(my_model_2) for training using the normalized dataset."
      ],
      "metadata": {
        "id": "PI5tRjFVRDkp"
      }
    },
    {
      "cell_type": "code",
      "source": [
        "num_epochs = 30\n",
        "learning_rate = 0.001\n",
        "criterion = torch.nn.CrossEntropyLoss()\n",
        "optimizer = torch.optim.Adam(my_model_2.parameters(), lr=learning_rate)\n",
        "\n",
        "#Training process begins\n",
        "train_loss_list_Vanilla = []\n",
        "for epoch in range(num_epochs):\n",
        "\tprint(f'Epoch {epoch+1}/{num_epochs}:', end = ' ')\n",
        "\ttrain_loss = 0\n",
        "\n",
        "\t#Iterating over the training dataset in batches\n",
        "\tmy_model_2.train()\n",
        "\tfor i, (images, labels) in enumerate(trainloader):\n",
        "\n",
        "\t\t#Extracting images and target labels for the batch being iterated\n",
        "\t\timages = images.to(device)\n",
        "\t\tlabels = labels.to(device)\n",
        "\n",
        "\t\t#Calculating the model output and the cross entropy loss\n",
        "\t\toutputs = my_model_2(images)\n",
        "\t\tloss = criterion(outputs, labels)\n",
        "\n",
        "\t\t#Updating weights according to calculated loss\n",
        "\t\toptimizer.zero_grad()\n",
        "\t\tloss.backward()\n",
        "\t\toptimizer.step()\n",
        "\t\ttrain_loss += loss.item()\n",
        "\n",
        "\t#Printing loss for each epoch\n",
        "\ttrain_loss_list_Vanilla.append(train_loss/len(trainloader))\n",
        "\tprint(f\"Training loss = {train_loss_list_Vanilla[-1]}\")\n",
        "\n",
        "#Plotting loss for all epochs\n",
        "plt.plot(range(1,num_epochs+1), train_loss_list_Vanilla)\n",
        "plt.xlabel(\"Number of epochs\")\n",
        "plt.ylabel(\"Training loss\")\n"
      ],
      "metadata": {
        "colab": {
          "base_uri": "https://localhost:8080/",
          "height": 988
        },
        "id": "7x-M0-ZCiaqL",
        "outputId": "589d1575-f553-4c6d-c356-74c5669198d5"
      },
      "execution_count": null,
      "outputs": [
        {
          "output_type": "stream",
          "name": "stdout",
          "text": [
            "Epoch 1/30: Training loss = 2.0790654891729354\n",
            "Epoch 2/30: Training loss = 1.816932837367058\n",
            "Epoch 3/30: Training loss = 1.6505686581134795\n",
            "Epoch 4/30: Training loss = 1.59936704993248\n",
            "Epoch 5/30: Training loss = 1.5723541700839996\n",
            "Epoch 6/30: Training loss = 1.5497856384515762\n",
            "Epoch 7/30: Training loss = 1.5391965478658676\n",
            "Epoch 8/30: Training loss = 1.527297813296318\n",
            "Epoch 9/30: Training loss = 1.5227702981233597\n",
            "Epoch 10/30: Training loss = 1.5162915122509002\n",
            "Epoch 11/30: Training loss = 1.5113046884536743\n",
            "Epoch 12/30: Training loss = 1.5092804324626923\n",
            "Epoch 13/30: Training loss = 1.5045385426282882\n",
            "Epoch 14/30: Training loss = 1.5030351316928863\n",
            "Epoch 15/30: Training loss = 1.5005958539247513\n",
            "Epoch 16/30: Training loss = 1.4978062385320663\n",
            "Epoch 17/30: Training loss = 1.49733349442482\n",
            "Epoch 18/30: Training loss = 1.4948333632946014\n",
            "Epoch 19/30: Training loss = 1.494069921374321\n",
            "Epoch 20/30: Training loss = 1.4928750932216643\n",
            "Epoch 21/30: Training loss = 1.4909059816598893\n",
            "Epoch 22/30: Training loss = 1.4904673784971236\n",
            "Epoch 23/30: Training loss = 1.48807242333889\n",
            "Epoch 24/30: Training loss = 1.4880146533250809\n",
            "Epoch 25/30: Training loss = 1.4862706500291825\n",
            "Epoch 26/30: Training loss = 1.4874093651771545\n",
            "Epoch 27/30: Training loss = 1.4857700258493423\n",
            "Epoch 28/30: Training loss = 1.484175465106964\n",
            "Epoch 29/30: Training loss = 1.4848913413286209\n",
            "Epoch 30/30: Training loss = 1.4847981959581376\n"
          ]
        },
        {
          "output_type": "execute_result",
          "data": {
            "text/plain": [
              "Text(0, 0.5, 'Training loss')"
            ]
          },
          "metadata": {},
          "execution_count": 12
        },
        {
          "output_type": "display_data",
          "data": {
            "text/plain": [
              "<Figure size 640x480 with 1 Axes>"
            ],
            "image/png": "[encoded data removed]"
          },
          "metadata": {}
        }
      ]
    },
    {
      "cell_type": "code",
      "source": [
        "# Evaluation mode\n",
        "my_model_2.eval()\n",
        "\n",
        "# Lists to store predictions and ground truth labels\n",
        "predicted_outputs = []\n",
        "ground_truth_labels = []\n",
        "\n",
        "# Disable gradient calculation for evaluation\n",
        "with torch.no_grad():\n",
        "    for images, labels in testloader:\n",
        "        # Move images and labels to device\n",
        "        images, labels = images.to(device), labels.to(device)\n",
        "\n",
        "        # Forward pass\n",
        "        outputs = my_model_2(images)\n",
        "\n",
        "        # Get predictions\n",
        "        _, predicted = torch.max(outputs, 1)\n",
        "\n",
        "        # Append predictions and labels to lists\n",
        "        predicted_outputs.extend(predicted.cpu().numpy())\n",
        "        ground_truth_labels.extend(labels.cpu().numpy())\n",
        "\n",
        "# Calculate accuracy\n",
        "correct = sum([1 if pred == true else 0 for pred, true in zip(predicted_outputs, ground_truth_labels)])\n",
        "total = len(ground_truth_labels)\n",
        "accuracy = correct / total * 100\n",
        "\n",
        "print(f\"Accuracy on the test set: {accuracy:.4f}%\")\n"
      ],
      "metadata": {
        "colab": {
          "base_uri": "https://localhost:8080/"
        },
        "outputId": "bb92e660-c7a2-4e39-cc64-2036f650ac5e",
        "id": "G52kqnR9gRW3"
      },
      "execution_count": null,
      "outputs": [
        {
          "output_type": "stream",
          "name": "stdout",
          "text": [
            "Accuracy on the test set: 97.0600%\n"
          ]
        }
      ]
    },
    {
      "cell_type": "markdown",
      "source": [
        "Hence, my 1st model(that is ResNet - my_model) provides better accuracy(97.65%) as compared to my 2nd model(that is Vanilla - my_model_2) with accuracy 97.06%. Also if we look at the number of Trainable parameters, it is 21,994 for my_model and 21,450 for my_model_2. Hence, there is not much difference. Therefore, I will prefer to use my_model(ResNet) for my next Experiment."
      ],
      "metadata": {
        "id": "F3iIA9mlhWK0"
      }
    },
    {
      "cell_type": "markdown",
      "source": [
        "**EXPERIMENT NO(2)**\n",
        "\n",
        "As suggested in Experiment-2, I will use the un-normalized dataset for training and use my_model. Hence, I have extracted the un-normalized dataset again in the next cell. I have already done the same experiment using the normalized dataset and my_model. So, I am not repeating the same training procedure again"
      ],
      "metadata": {
        "id": "DokL3FhPRZSx"
      }
    },
    {
      "cell_type": "code",
      "source": [
        "transform = transforms.ToTensor()\n",
        "BATCH_SIZE=300\n",
        "#Loading the training set\n",
        "trainset_1 = datasets.MNIST('~/.pytorch/MNIST_data/', download=True, train=True, transform=transform)\n",
        "trainloader_1 = torch.utils.data.DataLoader(trainset, batch_size=BATCH_SIZE, shuffle=True)\n",
        "\n",
        "#Loading the test set\n",
        "testset_1 = datasets.MNIST('~/.pytorch/MNIST_data/', download=True, train=False, transform=transform)\n",
        "testloader_1 = torch.utils.data.DataLoader(testset, batch_size=BATCH_SIZE, shuffle=False)"
      ],
      "metadata": {
        "id": "GfHO3-10iRqL"
      },
      "execution_count": null,
      "outputs": []
    },
    {
      "cell_type": "markdown",
      "source": [
        "I will perform training using my_model"
      ],
      "metadata": {
        "id": "faaKdvgKS5fA"
      }
    },
    {
      "cell_type": "code",
      "source": [
        "num_epochs = 30\n",
        "learning_rate = 0.001\n",
        "criterion = torch.nn.CrossEntropyLoss()\n",
        "optimizer = torch.optim.Adam(my_model.parameters(), lr=learning_rate)\n",
        "\n",
        "#Training process begins\n",
        "train_loss_list_ResNet = []\n",
        "for epoch in range(num_epochs):\n",
        "\tprint(f'Epoch {epoch+1}/{num_epochs}:', end = ' ')\n",
        "\ttrain_loss = 0\n",
        "\n",
        "\t#Iterating over the training dataset in batches\n",
        "\tmy_model.train()\n",
        "\tfor i, (images, labels) in enumerate(trainloader_1):\n",
        "\n",
        "\t\t#Extracting images and target labels for the batch being iterated\n",
        "\t\timages = images.to(device)\n",
        "\t\tlabels = labels.to(device)\n",
        "\n",
        "\t\t#Calculating the model output and the cross entropy loss\n",
        "\t\toutputs = my_model(images)\n",
        "\t\tloss = criterion(outputs, labels)\n",
        "\n",
        "\t\t#Updating weights according to calculated loss\n",
        "\t\toptimizer.zero_grad()\n",
        "\t\tloss.backward()\n",
        "\t\toptimizer.step()\n",
        "\t\ttrain_loss += loss.item()\n",
        "\n",
        "\t#Printing loss for each epoch\n",
        "\ttrain_loss_list_ResNet.append(train_loss/len(trainloader_1))\n",
        "\tprint(f\"Training loss = {train_loss_list_ResNet[-1]}\")\n",
        "\n",
        "#Plotting loss for all epochs\n",
        "plt.plot(range(1,num_epochs+1), train_loss_list_ResNet)\n",
        "plt.xlabel(\"Number of epochs\")\n",
        "plt.ylabel(\"Training loss\")\n"
      ],
      "metadata": {
        "colab": {
          "base_uri": "https://localhost:8080/",
          "height": 987
        },
        "id": "EXWfAvSHjLsK",
        "outputId": "52947480-07e8-476f-ca6f-c73eb5d71c93"
      },
      "execution_count": null,
      "outputs": [
        {
          "output_type": "stream",
          "name": "stdout",
          "text": [
            "Epoch 1/30: Training loss = 2.13126833319664\n",
            "Epoch 2/30: Training loss = 1.9199498999118805\n",
            "Epoch 3/30: Training loss = 1.8131529706716538\n",
            "Epoch 4/30: Training loss = 1.725165866613388\n",
            "Epoch 5/30: Training loss = 1.674343558549881\n",
            "Epoch 6/30: Training loss = 1.6396436750888825\n",
            "Epoch 7/30: Training loss = 1.607701562643051\n",
            "Epoch 8/30: Training loss = 1.584204815030098\n",
            "Epoch 9/30: Training loss = 1.5701019102334977\n",
            "Epoch 10/30: Training loss = 1.5553354108333588\n",
            "Epoch 11/30: Training loss = 1.540323566198349\n",
            "Epoch 12/30: Training loss = 1.5297032636404038\n",
            "Epoch 13/30: Training loss = 1.5234087938070298\n",
            "Epoch 14/30: Training loss = 1.5180015671253204\n",
            "Epoch 15/30: Training loss = 1.5139425855875015\n",
            "Epoch 16/30: Training loss = 1.5105297166109084\n",
            "Epoch 17/30: Training loss = 1.5077299642562867\n",
            "Epoch 18/30: Training loss = 1.504911561012268\n",
            "Epoch 19/30: Training loss = 1.5040644842386246\n",
            "Epoch 20/30: Training loss = 1.5011588805913925\n",
            "Epoch 21/30: Training loss = 1.4994340133666992\n",
            "Epoch 22/30: Training loss = 1.498163400888443\n",
            "Epoch 23/30: Training loss = 1.4960033893585205\n",
            "Epoch 24/30: Training loss = 1.4953471773862839\n",
            "Epoch 25/30: Training loss = 1.4934698992967606\n",
            "Epoch 26/30: Training loss = 1.4930998194217682\n",
            "Epoch 27/30: Training loss = 1.4915292221307754\n",
            "Epoch 28/30: Training loss = 1.490891801714897\n",
            "Epoch 29/30: Training loss = 1.4894041061401366\n",
            "Epoch 30/30: Training loss = 1.4880669188499451\n"
          ]
        },
        {
          "output_type": "execute_result",
          "data": {
            "text/plain": [
              "Text(0, 0.5, 'Training loss')"
            ]
          },
          "metadata": {},
          "execution_count": 16
        },
        {
          "output_type": "display_data",
          "data": {
            "text/plain": [
              "<Figure size 640x480 with 1 Axes>"
            ],
            "image/png": "[encoded data removed]"
          },
          "metadata": {}
        }
      ]
    },
    {
      "cell_type": "code",
      "source": [
        "my_model.eval()\n",
        "\n",
        "# Lists to store predictions and ground truth labels\n",
        "predicted_outputs = []\n",
        "ground_truth_labels = []\n",
        "\n",
        "# Disable gradient calculation for evaluation\n",
        "with torch.no_grad():\n",
        "    for images, labels in testloader_1:\n",
        "        # Move images and labels to device\n",
        "        images, labels = images.to(device), labels.to(device)\n",
        "\n",
        "        # Forward pass\n",
        "        outputs = my_model(images)\n",
        "\n",
        "        # Get predictions\n",
        "        _, predicted = torch.max(outputs, 1)\n",
        "\n",
        "        # Append predictions and labels to lists\n",
        "        predicted_outputs.extend(predicted.cpu().numpy())\n",
        "        ground_truth_labels.extend(labels.cpu().numpy())\n",
        "\n",
        "# Calculate accuracy\n",
        "correct = sum([1 if pred == true else 0 for pred, true in zip(predicted_outputs, ground_truth_labels)])\n",
        "total = len(ground_truth_labels)\n",
        "accuracy = correct / total * 100\n",
        "\n",
        "print(f\"Accuracy on the test set: {accuracy:.4f}%\")\n"
      ],
      "metadata": {
        "colab": {
          "base_uri": "https://localhost:8080/"
        },
        "id": "p88YFJLplqo6",
        "outputId": "2eb4f673-ab59-48ab-b572-67877385ff9a"
      },
      "execution_count": null,
      "outputs": [
        {
          "output_type": "stream",
          "name": "stdout",
          "text": [
            "Accuracy on the test set: 97.1900%\n"
          ]
        }
      ]
    },
    {
      "cell_type": "markdown",
      "source": [
        "So, The accuracy in the test set using the not normalized dataset is 97.19%. Therefore, it decreases a bit as compared to that of the normalized dataset(which was 97.65%). So, I will prefer to use Normalized dataset and my_model(ResNet model) for the next experiment."
      ],
      "metadata": {
        "id": "4UgtqwvNlyyk"
      }
    },
    {
      "cell_type": "markdown",
      "source": [
        "**EXPERIMENT NO - (3)**\n",
        "\n",
        "As suggested in **Experiment 3**, I have used different optimizers - mini-batch gradient descent, mini-batch gradient descent with momentum, and Adam Optimizer(which I am using by default) on top of my_model and used the normalized dataset. I have already used Adam Optimizer earlier(in my_model) with the normalized dataset. So, I am not repeating the same training procedure again"
      ],
      "metadata": {
        "id": "qJFnBsuoTDpL"
      }
    },
    {
      "cell_type": "markdown",
      "source": [
        "(1) Using Mini-batch without momentum"
      ],
      "metadata": {
        "id": "bwbHTVyZUsf1"
      }
    },
    {
      "cell_type": "code",
      "source": [
        "#Defining the model hyper parameters\n",
        "num_epochs = 30\n",
        "learning_rate = 0.001\n",
        "criterion = torch.nn.CrossEntropyLoss()\n",
        "optimizer = torch.optim.SGD(my_model.parameters(), lr=learning_rate)\n",
        "\n",
        "#Training process begins\n",
        "train_loss_list= []\n",
        "for epoch in range(num_epochs):\n",
        "\tprint(f'Epoch {epoch+1}/{num_epochs}:', end = ' ')\n",
        "\ttrain_loss = 0\n",
        "\n",
        "\t#Iterating over the training dataset in batches\n",
        "\tmy_model.train()\n",
        "\tfor i, (images, labels) in enumerate(trainloader):\n",
        "\n",
        "\t\t#Extracting images and target labels for the batch being iterated\n",
        "\t\timages = images.to(device)\n",
        "\t\tlabels = labels.to(device)\n",
        "\n",
        "\t\t#Calculating the model output and the cross entropy loss\n",
        "\t\toutputs = my_model(images)\n",
        "\t\tloss = criterion(outputs, labels)\n",
        "\n",
        "\t\t#Updating weights according to calculated loss\n",
        "\t\toptimizer.zero_grad()\n",
        "\t\tloss.backward()\n",
        "\t\toptimizer.step()\n",
        "\t\ttrain_loss += loss.item()\n",
        "\n",
        "\t#Printing loss for each epoch\n",
        "\ttrain_loss_list.append(train_loss/len(trainloader))\n",
        "\tprint(f\"Training loss = {train_loss_list[-1]}\")\n",
        "\n",
        "#Plotting loss for all epochs\n",
        "plt.plot(range(1,num_epochs+1), train_loss_list)\n",
        "plt.xlabel(\"Number of epochs\")\n",
        "plt.ylabel(\"Training loss\")\n"
      ],
      "metadata": {
        "colab": {
          "base_uri": "https://localhost:8080/",
          "height": 1000
        },
        "outputId": "fcf8f4b1-fef1-4994-9369-58688098f79b",
        "id": "MQhn53WQhPM2"
      },
      "execution_count": null,
      "outputs": [
        {
          "output_type": "stream",
          "name": "stdout",
          "text": [
            "Epoch 1/30: Training loss = 2.3026526498794557\n",
            "Epoch 2/30: Training loss = 2.302636765241623\n",
            "Epoch 3/30: Training loss = 2.302621477842331\n",
            "Epoch 4/30: Training loss = 2.3026065397262574\n",
            "Epoch 5/30: Training loss = 2.302591856718063\n",
            "Epoch 6/30: Training loss = 2.3025772976875305\n",
            "Epoch 7/30: Training loss = 2.302562795877457\n",
            "Epoch 8/30: Training loss = 2.3025483000278473\n",
            "Epoch 9/30: Training loss = 2.3025337719917296\n",
            "Epoch 10/30: Training loss = 2.3025191402435303\n",
            "Epoch 11/30: Training loss = 2.302504462003708\n",
            "Epoch 12/30: Training loss = 2.3024896597862243\n",
            "Epoch 13/30: Training loss = 2.302474697828293\n",
            "Epoch 14/30: Training loss = 2.3024596071243284\n",
            "Epoch 15/30: Training loss = 2.302444236278534\n",
            "Epoch 16/30: Training loss = 2.3024285888671874\n",
            "Epoch 17/30: Training loss = 2.3024128139019013\n",
            "Epoch 18/30: Training loss = 2.302396916151047\n",
            "Epoch 19/30: Training loss = 2.3023809254169465\n",
            "Epoch 20/30: Training loss = 2.3023648977279665\n",
            "Epoch 21/30: Training loss = 2.3023489725589754\n",
            "Epoch 22/30: Training loss = 2.302333220243454\n",
            "Epoch 23/30: Training loss = 2.302317517995834\n",
            "Epoch 24/30: Training loss = 2.30230198264122\n",
            "Epoch 25/30: Training loss = 2.3022865056991577\n",
            "Epoch 26/30: Training loss = 2.30227090716362\n",
            "Epoch 27/30: Training loss = 2.3022552263736724\n",
            "Epoch 28/30: Training loss = 2.3022393941879273\n",
            "Epoch 29/30: Training loss = 2.3022233867645263\n",
            "Epoch 30/30: Training loss = 2.302207098007202\n"
          ]
        },
        {
          "output_type": "execute_result",
          "data": {
            "text/plain": [
              "Text(0, 0.5, 'Training loss')"
            ]
          },
          "metadata": {},
          "execution_count": 50
        },
        {
          "output_type": "display_data",
          "data": {
            "text/plain": [
              "<Figure size 640x480 with 1 Axes>"
            ],
            "image/png": "[encoded data removed]"
          },
          "metadata": {}
        }
      ]
    },
    {
      "cell_type": "code",
      "source": [
        "# Evaluation mode\n",
        "my_model.eval()\n",
        "\n",
        "# Lists to store predictions and ground truth labels\n",
        "predicted_outputs = []\n",
        "ground_truth_labels = []\n",
        "\n",
        "# Disable gradient calculation for evaluation\n",
        "with torch.no_grad():\n",
        "    for images, labels in testloader:\n",
        "        # Move images and labels to device\n",
        "        images, labels = images.to(device), labels.to(device)\n",
        "\n",
        "        # Forward pass\n",
        "        outputs = my_model(images)\n",
        "\n",
        "        # Get predictions\n",
        "        _, predicted = torch.max(outputs, 1)\n",
        "\n",
        "        # Append predictions and labels to lists\n",
        "        predicted_outputs.extend(predicted.cpu().numpy())\n",
        "        ground_truth_labels.extend(labels.cpu().numpy())\n",
        "\n",
        "# Calculate accuracy\n",
        "correct = sum([1 if pred == true else 0 for pred, true in zip(predicted_outputs, ground_truth_labels)])\n",
        "total = len(ground_truth_labels)\n",
        "accuracy = correct / total * 100\n",
        "\n",
        "print(f\"Accuracy on the test set: {accuracy:.4f}%\")\n"
      ],
      "metadata": {
        "colab": {
          "base_uri": "https://localhost:8080/"
        },
        "id": "ORWtusumiiqU",
        "outputId": "d5a73d88-f7ad-4605-d719-55c7e13870f4"
      },
      "execution_count": null,
      "outputs": [
        {
          "output_type": "stream",
          "name": "stdout",
          "text": [
            "Accuracy on the test set: 9.8000%\n"
          ]
        }
      ]
    },
    {
      "cell_type": "markdown",
      "source": [
        "We find that it provides very less accuracy with the test set and the training loss also does not decrease in an ideal manner.(above)"
      ],
      "metadata": {
        "id": "7EypaAYAU2va"
      }
    },
    {
      "cell_type": "markdown",
      "source": [
        "Next, I will be using mini-batch gradient descent with momentum=0.9"
      ],
      "metadata": {
        "id": "OiISbtu5VTRF"
      }
    },
    {
      "cell_type": "code",
      "source": [
        "#Defining the model hyper parameters\n",
        "num_epochs = 30\n",
        "learning_rate = 0.001\n",
        "momentum = 0.9\n",
        "criterion = torch.nn.CrossEntropyLoss()\n",
        "optimizer = torch.optim.SGD(my_model.parameters(), lr=learning_rate, momentum=momentum)\n",
        "\n",
        "#Training process begins\n",
        "train_loss_list = []\n",
        "for epoch in range(num_epochs):\n",
        "\tprint(f'Epoch {epoch+1}/{num_epochs}:', end = ' ')\n",
        "\ttrain_loss = 0\n",
        "\n",
        "\t#Iterating over the training dataset in batches\n",
        "\tmy_model.train()\n",
        "\tfor i, (images, labels) in enumerate(trainloader):\n",
        "\n",
        "\t\t#Extracting images and target labels for the batch being iterated\n",
        "\t\timages = images.to(device)\n",
        "\t\tlabels = labels.to(device)\n",
        "\n",
        "\t\t#Calculating the model output and the cross entropy loss\n",
        "\t\toutputs = my_model(images)\n",
        "\t\tloss = criterion(outputs, labels)\n",
        "\n",
        "\t\t#Updating weights according to calculated loss\n",
        "\t\toptimizer.zero_grad()\n",
        "\t\tloss.backward()\n",
        "\t\toptimizer.step()\n",
        "\t\ttrain_loss += loss.item()\n",
        "\n",
        "\t#Printing loss for each epoch\n",
        "\ttrain_loss_list.append(train_loss/len(trainloader))\n",
        "\tprint(f\"Training loss = {train_loss_list[-1]}\")\n",
        "\n",
        "#Plotting loss for all epochs\n",
        "plt.plot(range(1,num_epochs+1), train_loss_list)\n",
        "plt.xlabel(\"Number of epochs\")\n",
        "plt.ylabel(\"Training loss\")\n"
      ],
      "metadata": {
        "colab": {
          "base_uri": "https://localhost:8080/",
          "height": 987
        },
        "id": "Uqm42W9XpcsB",
        "outputId": "73b67839-8485-4196-b069-e67f1b898701"
      },
      "execution_count": null,
      "outputs": [
        {
          "output_type": "stream",
          "name": "stdout",
          "text": [
            "Epoch 1/30: Training loss = 2.3027929508686067\n",
            "Epoch 2/30: Training loss = 2.302589987516403\n",
            "Epoch 3/30: Training loss = 2.302409255504608\n",
            "Epoch 4/30: Training loss = 2.302239146232605\n",
            "Epoch 5/30: Training loss = 2.3020716953277587\n",
            "Epoch 6/30: Training loss = 2.3018926763534546\n",
            "Epoch 7/30: Training loss = 2.3017105317115782\n",
            "Epoch 8/30: Training loss = 2.301545535326004\n",
            "Epoch 9/30: Training loss = 2.3013779091835023\n",
            "Epoch 10/30: Training loss = 2.301198137998581\n",
            "Epoch 11/30: Training loss = 2.300992990732193\n",
            "Epoch 12/30: Training loss = 2.300789396762848\n",
            "Epoch 13/30: Training loss = 2.300575933456421\n",
            "Epoch 14/30: Training loss = 2.300355257987976\n",
            "Epoch 15/30: Training loss = 2.3001246666908264\n",
            "Epoch 16/30: Training loss = 2.299882208108902\n",
            "Epoch 17/30: Training loss = 2.2996193063259125\n",
            "Epoch 18/30: Training loss = 2.2993304681777955\n",
            "Epoch 19/30: Training loss = 2.2990086925029756\n",
            "Epoch 20/30: Training loss = 2.2986459410190583\n",
            "Epoch 21/30: Training loss = 2.2982312834262846\n",
            "Epoch 22/30: Training loss = 2.2977516055107117\n",
            "Epoch 23/30: Training loss = 2.2971868824958803\n",
            "Epoch 24/30: Training loss = 2.2965096545219423\n",
            "Epoch 25/30: Training loss = 2.2956753301620485\n",
            "Epoch 26/30: Training loss = 2.2946107387542725\n",
            "Epoch 27/30: Training loss = 2.2932454788684846\n",
            "Epoch 28/30: Training loss = 2.2914933490753175\n",
            "Epoch 29/30: Training loss = 2.2891852819919585\n",
            "Epoch 30/30: Training loss = 2.2860859274864196\n"
          ]
        },
        {
          "output_type": "execute_result",
          "data": {
            "text/plain": [
              "Text(0, 0.5, 'Training loss')"
            ]
          },
          "metadata": {},
          "execution_count": 53
        },
        {
          "output_type": "display_data",
          "data": {
            "text/plain": [
              "<Figure size 640x480 with 1 Axes>"
            ],
            "image/png": "[encoded data removed]"
          },
          "metadata": {}
        }
      ]
    },
    {
      "cell_type": "code",
      "source": [
        "# Evaluation mode\n",
        "my_model.eval()\n",
        "\n",
        "# Lists to store predictions and ground truth labels\n",
        "predicted_outputs = []\n",
        "ground_truth_labels = []\n",
        "\n",
        "# Disable gradient calculation for evaluation\n",
        "with torch.no_grad():\n",
        "    for images, labels in testloader:\n",
        "        # Move images and labels to device\n",
        "        images, labels = images.to(device), labels.to(device)\n",
        "\n",
        "        # Forward pass\n",
        "        outputs = my_model(images)\n",
        "\n",
        "        # Get predictions\n",
        "        _, predicted = torch.max(outputs, 1)\n",
        "\n",
        "        # Append predictions and labels to lists\n",
        "        predicted_outputs.extend(predicted.cpu().numpy())\n",
        "        ground_truth_labels.extend(labels.cpu().numpy())\n",
        "\n",
        "# Calculate accuracy\n",
        "correct = sum([1 if pred == true else 0 for pred, true in zip(predicted_outputs, ground_truth_labels)])\n",
        "total = len(ground_truth_labels)\n",
        "accuracy = correct / total * 100\n",
        "\n",
        "print(f\"Accuracy on the test set: {accuracy:.4f}%\")"
      ],
      "metadata": {
        "colab": {
          "base_uri": "https://localhost:8080/"
        },
        "id": "k47jtl_OzZwG",
        "outputId": "e3513233-28d8-4830-ebd4-0eb82c5f8330"
      },
      "execution_count": null,
      "outputs": [
        {
          "output_type": "stream",
          "name": "stdout",
          "text": [
            "Accuracy on the test set: 19.5000%\n"
          ]
        }
      ]
    },
    {
      "cell_type": "markdown",
      "source": [
        "Hence, in the case of mini-batch gradient descent with momentum as well, the accuracy on the test set is quite less. So, using Adam optimizer is the best choice in this case for a learning rate=0.001"
      ],
      "metadata": {
        "id": "lzfF4pt6WgsG"
      }
    },
    {
      "cell_type": "markdown",
      "source": [
        "**OPTIONAL PART:** I will be perfroming Stochastic gradient descent with(that is a form of mini-batch gradient descent with batch size=1)"
      ],
      "metadata": {
        "id": "II9rgEAhvdQj"
      }
    },
    {
      "cell_type": "code",
      "source": [
        "batch_size = 1\n",
        "trainloader_2 = torch.utils.data.DataLoader(normalized_training_set, batch_size=batch_size, shuffle=True)\n",
        "testloader_2 = torch.utils.data.DataLoader(normalized_test_set, batch_size=batch_size, shuffle=False)"
      ],
      "metadata": {
        "id": "BgYVlXFA2N1g"
      },
      "execution_count": null,
      "outputs": []
    },
    {
      "cell_type": "code",
      "source": [
        "num_epochs = 30\n",
        "learning_rate = 0.001\n",
        "momentum = 0.9\n",
        "criterion = torch.nn.CrossEntropyLoss()\n",
        "optimizer = torch.optim.SGD(my_model.parameters(), lr=learning_rate, momentum=momentum)\n",
        "\n",
        "#Training process begins\n",
        "train_loss_list = []\n",
        "for epoch in range(num_epochs):\n",
        "\tprint(f'Epoch {epoch+1}/{num_epochs}:', end = ' ')\n",
        "\ttrain_loss = 0\n",
        "\n",
        "\t#Iterating over the training dataset in batches\n",
        "\tmy_model.train()\n",
        "\tfor i, (images, labels) in enumerate(trainloader_2):\n",
        "\n",
        "\t\t#Extracting images and target labels for the batch being iterated\n",
        "\t\timages = images.to(device)\n",
        "\t\tlabels = labels.to(device)\n",
        "\n",
        "\t\t#Calculating the model output and the cross entropy loss\n",
        "\t\toutputs = my_model(images)\n",
        "\t\tloss = criterion(outputs, labels)\n",
        "\n",
        "\t\t#Updating weights according to calculated loss\n",
        "\t\toptimizer.zero_grad()\n",
        "\t\tloss.backward()\n",
        "\t\toptimizer.step()\n",
        "\t\ttrain_loss += loss.item()\n",
        "\n",
        "\t#Printing loss for each epoch\n",
        "\ttrain_loss_list.append(train_loss/len(trainloader_2))\n",
        "\tprint(f\"Training loss = {train_loss_list[-1]}\")\n",
        "\n",
        "#Plotting loss for all epochs\n",
        "plt.plot(range(1,num_epochs+1), train_loss_list)\n",
        "plt.xlabel(\"Number of epochs\")\n",
        "plt.ylabel(\"Training loss\")\n"
      ],
      "metadata": {
        "colab": {
          "base_uri": "https://localhost:8080/"
        },
        "id": "EeLu3rH_v9Er",
        "outputId": "37393d7f-75af-4384-a645-72cc08532586"
      },
      "execution_count": null,
      "outputs": [
        {
          "output_type": "stream",
          "name": "stdout",
          "text": [
            "Epoch 1/30: Training loss = 1.8354413278301558\n",
            "Epoch 2/30: Training loss = 1.538168882592519\n",
            "Epoch 3/30: Training loss = 1.5072242976804575\n",
            "Epoch 4/30: Training loss = 1.4955490562697251\n",
            "Epoch 5/30: Training loss = 1.490276513717572\n",
            "Epoch 6/30: Training loss = 1.4849954907774925\n",
            "Epoch 7/30: Training loss = 1.4832126101255416\n",
            "Epoch 8/30: Training loss = 1.480580398217837\n",
            "Epoch 9/30: Training loss = 1.4793668199876944\n",
            "Epoch 10/30: Training loss = 1.4775011581718922\n",
            "Epoch 11/30: "
          ]
        }
      ]
    },
    {
      "cell_type": "markdown",
      "source": [
        "Using Google Colab, I could train upto 10 complete Epochs only.(my GPU access ended as it was consuming a lot of time). We can see that the Training loss is decreasing in a well behaved manner in this case"
      ],
      "metadata": {
        "id": "6X5JWxFnYdyO"
      }
    },
    {
      "cell_type": "markdown",
      "source": [
        "So, the **best Optimizer** choice is **Adam Optimizer** and it provides the best results when I **Normalize the dataset**(for the model I have created). So, I will be using these criterias and my ResNet model(my_model) and modify the model by increasing the **network depth**."
      ],
      "metadata": {
        "id": "XR7xMdU12zp8"
      }
    },
    {
      "cell_type": "markdown",
      "source": [
        "(a) Modified ResNet with **4 ResNet layers** and **2 fully connected layers**"
      ],
      "metadata": {
        "id": "Igu1EDLSB_db"
      }
    },
    {
      "cell_type": "code",
      "source": [
        "# Defining a convolutional layer with 3x3 kernel\n",
        "def convo(input_channels, output_channels, stride=1):\n",
        "    return nn.Conv2d(input_channels, output_channels, kernel_size=3, stride=stride, padding=1, bias=True)\n",
        "\n",
        "# Defining a basic residual block with skip connection\n",
        "class Block(nn.Module):\n",
        "    def __init__(self, input_channels, output_channels, stride=1):\n",
        "        super(Block, self).__init__()\n",
        "        self.conv1 = convo(input_channels, output_channels, stride)\n",
        "        self.conv2 = convo(output_channels, output_channels)\n",
        "        self.shortcut = nn.Sequential()\n",
        "        if(stride != 1 or input_channels != output_channels):\n",
        "            self.shortcut = nn.Sequential(\n",
        "                nn.Conv2d(input_channels, output_channels, kernel_size=1, stride=stride, bias=True),\n",
        "            )\n",
        "\n",
        "    def forward(self, x):\n",
        "        output = nn.ReLU()(self.conv1(x))\n",
        "        output = (self.conv2(output))\n",
        "        output = output + self.shortcut(x)  # Adding the shortcut(residual) connection\n",
        "        output = nn.ReLU()(output)\n",
        "        return output\n",
        "\n",
        "# Defining a ResNet layer\n",
        "def ResNet_Layer(block, input_channels, output_channels, stride):\n",
        "\n",
        "    layers_list=[]\n",
        "    layers_list.append(block(input_channels, output_channels, stride))\n",
        "    input_channels = output_channels  # Update input channels for next block in the layer\n",
        "    return nn.Sequential(*layers_list)\n",
        "\n",
        "# Define the ResNet architecture\n",
        "def ResNet(num_classes=10):\n",
        "    layers_list = [\n",
        "        convo(1, 16),        # Input channels: 1 (grayscale image), Output channels: 16\n",
        "        nn.ReLU(inplace=True),\n",
        "        nn.MaxPool2d(kernel_size=2, stride=2)  # Max pooling layer(as demonstrated in class)\n",
        "        ]\n",
        "    layers_list.append(ResNet_Layer(Block, 16, 16, 1))  # First ResNet level\n",
        "    layers_list.append(ResNet_Layer(Block, 16, 32, 2))  # Second ResNet level\n",
        "    layers_list.append(ResNet_Layer(Block, 32, 64, 2))  # Third ResNet level\n",
        "    layers_list.append(ResNet_Layer(Block, 64, 128, 2))  # Fourth ResNet level\n",
        "    # Average pooling\n",
        "    layers_list.append(nn.AdaptiveAvgPool2d((1, 1))) # Average Pooling layer before Flatten(as demonstrated in class)\n",
        "    layers_list.append(nn.Flatten())\n",
        "    # Fully connected layers\n",
        "    layers_list.append(nn.Linear(128, 32))\n",
        "    layers_list.append(nn.ReLU(inplace=True))\n",
        "    layers_list.append(nn.Linear(32, num_classes))  # Output layer with num_classes neurons\n",
        "    layers_list.append(nn.Sigmoid())\n",
        "    return nn.Sequential(*layers_list)\n",
        "\n",
        "# Testing the network\n",
        "device = torch.device(\"cuda\" if torch.cuda.is_available() else \"cpu\")\n",
        "my_model_3=ResNet().to(device)\n",
        "print(my_model_3)\n",
        "summary(my_model_3, input_size=(1, 28, 28)) # As input size of each image in MNIST is (1 x 28 x 28)\n"
      ],
      "metadata": {
        "id": "NQ-v2DL7-pEI",
        "colab": {
          "base_uri": "https://localhost:8080/"
        },
        "outputId": "e2501f0d-77e9-4082-fa9c-f61719204074"
      },
      "execution_count": null,
      "outputs": [
        {
          "output_type": "stream",
          "name": "stdout",
          "text": [
            "Sequential(\n",
            "  (0): Conv2d(1, 16, kernel_size=(3, 3), stride=(1, 1), padding=(1, 1))\n",
            "  (1): ReLU(inplace=True)\n",
            "  (2): MaxPool2d(kernel_size=2, stride=2, padding=0, dilation=1, ceil_mode=False)\n",
            "  (3): Sequential(\n",
            "    (0): Block(\n",
            "      (conv1): Conv2d(16, 16, kernel_size=(3, 3), stride=(1, 1), padding=(1, 1))\n",
            "      (conv2): Conv2d(16, 16, kernel_size=(3, 3), stride=(1, 1), padding=(1, 1))\n",
            "      (shortcut): Sequential()\n",
            "    )\n",
            "  )\n",
            "  (4): Sequential(\n",
            "    (0): Block(\n",
            "      (conv1): Conv2d(16, 32, kernel_size=(3, 3), stride=(2, 2), padding=(1, 1))\n",
            "      (conv2): Conv2d(32, 32, kernel_size=(3, 3), stride=(1, 1), padding=(1, 1))\n",
            "      (shortcut): Sequential(\n",
            "        (0): Conv2d(16, 32, kernel_size=(1, 1), stride=(2, 2))\n",
            "      )\n",
            "    )\n",
            "  )\n",
            "  (5): Sequential(\n",
            "    (0): Block(\n",
            "      (conv1): Conv2d(32, 64, kernel_size=(3, 3), stride=(2, 2), padding=(1, 1))\n",
            "      (conv2): Conv2d(64, 64, kernel_size=(3, 3), stride=(1, 1), padding=(1, 1))\n",
            "      (shortcut): Sequential(\n",
            "        (0): Conv2d(32, 64, kernel_size=(1, 1), stride=(2, 2))\n",
            "      )\n",
            "    )\n",
            "  )\n",
            "  (6): Sequential(\n",
            "    (0): Block(\n",
            "      (conv1): Conv2d(64, 128, kernel_size=(3, 3), stride=(2, 2), padding=(1, 1))\n",
            "      (conv2): Conv2d(128, 128, kernel_size=(3, 3), stride=(1, 1), padding=(1, 1))\n",
            "      (shortcut): Sequential(\n",
            "        (0): Conv2d(64, 128, kernel_size=(1, 1), stride=(2, 2))\n",
            "      )\n",
            "    )\n",
            "  )\n",
            "  (7): AdaptiveAvgPool2d(output_size=(1, 1))\n",
            "  (8): Flatten(start_dim=1, end_dim=-1)\n",
            "  (9): Linear(in_features=128, out_features=32, bias=True)\n",
            "  (10): ReLU(inplace=True)\n",
            "  (11): Linear(in_features=32, out_features=10, bias=True)\n",
            "  (12): Sigmoid()\n",
            ")\n",
            "----------------------------------------------------------------\n",
            "        Layer (type)               Output Shape         Param #\n",
            "================================================================\n",
            "            Conv2d-1           [-1, 16, 28, 28]             160\n",
            "              ReLU-2           [-1, 16, 28, 28]               0\n",
            "         MaxPool2d-3           [-1, 16, 14, 14]               0\n",
            "            Conv2d-4           [-1, 16, 14, 14]           2,320\n",
            "            Conv2d-5           [-1, 16, 14, 14]           2,320\n",
            "             Block-6           [-1, 16, 14, 14]               0\n",
            "            Conv2d-7             [-1, 32, 7, 7]           4,640\n",
            "            Conv2d-8             [-1, 32, 7, 7]           9,248\n",
            "            Conv2d-9             [-1, 32, 7, 7]             544\n",
            "            Block-10             [-1, 32, 7, 7]               0\n",
            "           Conv2d-11             [-1, 64, 4, 4]          18,496\n",
            "           Conv2d-12             [-1, 64, 4, 4]          36,928\n",
            "           Conv2d-13             [-1, 64, 4, 4]           2,112\n",
            "            Block-14             [-1, 64, 4, 4]               0\n",
            "           Conv2d-15            [-1, 128, 2, 2]          73,856\n",
            "           Conv2d-16            [-1, 128, 2, 2]         147,584\n",
            "           Conv2d-17            [-1, 128, 2, 2]           8,320\n",
            "            Block-18            [-1, 128, 2, 2]               0\n",
            "AdaptiveAvgPool2d-19            [-1, 128, 1, 1]               0\n",
            "          Flatten-20                  [-1, 128]               0\n",
            "           Linear-21                   [-1, 32]           4,128\n",
            "             ReLU-22                   [-1, 32]               0\n",
            "           Linear-23                   [-1, 10]             330\n",
            "          Sigmoid-24                   [-1, 10]               0\n",
            "================================================================\n",
            "Total params: 310,986\n",
            "Trainable params: 310,986\n",
            "Non-trainable params: 0\n",
            "----------------------------------------------------------------\n",
            "Input size (MB): 0.00\n",
            "Forward/backward pass size (MB): 0.38\n",
            "Params size (MB): 1.19\n",
            "Estimated Total Size (MB): 1.57\n",
            "----------------------------------------------------------------\n"
          ]
        }
      ]
    },
    {
      "cell_type": "markdown",
      "source": [
        "The total no. of trainable parameters in the above model(my_model_3) is 310986"
      ],
      "metadata": {
        "id": "2t0TNnVahKpw"
      }
    },
    {
      "cell_type": "markdown",
      "source": [
        "(b) Modified ResNet architecture with **2 level ResNet layer** and **4 Fully connected layers**"
      ],
      "metadata": {
        "id": "7uuyH-OsJnp-"
      }
    },
    {
      "cell_type": "code",
      "source": [
        "# Define a convolutional layer with 3x3 kernel\n",
        "def convo(input_channels, output_channels, stride=1):\n",
        "    return nn.Conv2d(input_channels, output_channels, kernel_size=3, stride=stride, padding=1, bias=True)\n",
        "\n",
        "# Define a basic residual block with skip connection\n",
        "class Block(nn.Module):\n",
        "    def __init__(self, input_channels, output_channels, stride=1):\n",
        "        super(Block, self).__init__()\n",
        "        self.conv1 = convo(input_channels, output_channels, stride)\n",
        "        self.conv2 = convo(output_channels, output_channels)\n",
        "        self.shortcut = nn.Sequential()\n",
        "        if(stride != 1 or input_channels != output_channels):\n",
        "            self.shortcut = nn.Sequential(\n",
        "                nn.Conv2d(input_channels, output_channels, kernel_size=1, stride=stride, bias=True),\n",
        "            )\n",
        "\n",
        "    def forward(self, x):\n",
        "        output = nn.ReLU()(self.conv1(x))\n",
        "        output = (self.conv2(output))\n",
        "        output = output + self.shortcut(x)  # Add the shortcut connection\n",
        "        output = nn.ReLU()(output)\n",
        "        return output\n",
        "\n",
        "# Define a ResNet layer which contains multiple residual blocks\n",
        "def ResNetLayer(block, input_channels, output_channels, stride):\n",
        "\n",
        "    layers_list=[]\n",
        "    layers_list.append(block(input_channels, output_channels, stride))\n",
        "    input_channels = output_channels  # Update input channels for next block in the layer\n",
        "    return nn.Sequential(*layers_list)\n",
        "\n",
        "# Define the ResNet architecture\n",
        "def ResNet(num_classes=10):\n",
        "    # Start with a 3x3 convolutional layer, followed by batch normalization and ReLU\n",
        "    layers_list = [\n",
        "        convo(1, 16),        # Input channels: 1 (grayscale image), Output channels: 16\n",
        "        nn.ReLU(inplace=True),\n",
        "        nn.MaxPool2d(kernel_size=2, stride=2)  # Max pooling layer(as demonstrated in class)\n",
        "        ]\n",
        "    layers_list.append(ResNetLayer(Block, 16, 16, 1))  # First ResNet level\n",
        "    layers_list.append(ResNetLayer(Block, 16, 32, 2))  # Second ResNet level\n",
        "\n",
        "    # Global average pooling\n",
        "    layers_list.append(nn.AdaptiveAvgPool2d((1, 1))) # Average Pooling layer before Flatten(as demonstrated in class)\n",
        "    layers_list.append(nn.Flatten())\n",
        "    # Fully connected layers\n",
        "    layers_list.append(nn.Linear(32, 128))\n",
        "    layers_list.append(nn.ReLU(inplace=True))\n",
        "    layers_list.append(nn.Linear(128, 64))\n",
        "    layers_list.append(nn.ReLU(inplace=True))\n",
        "    layers_list.append(nn.Linear(64, 32))\n",
        "    layers_list.append(nn.ReLU(inplace=True))\n",
        "    layers_list.append(nn.Linear(32, num_classes))  # Output layer with num_classes neurons\n",
        "    layers_list.append(nn.Sigmoid())\n",
        "    return nn.Sequential(*layers_list)\n",
        "\n",
        "# Testing the network\n",
        "#my_model=ResNet()\n",
        "device = torch.device(\"cuda\" if torch.cuda.is_available() else \"cpu\")\n",
        "my_model_4=ResNet().to(device)\n",
        "print(my_model_4)\n",
        "summary(my_model_4, input_size=(1, 28, 28)) # As input size of each image in MNIST is (1 x 28 x 28)"
      ],
      "metadata": {
        "id": "jZE9uO1dKysz",
        "colab": {
          "base_uri": "https://localhost:8080/"
        },
        "outputId": "247f4216-f53e-4945-c086-e31c0facf0d4"
      },
      "execution_count": null,
      "outputs": [
        {
          "output_type": "stream",
          "name": "stdout",
          "text": [
            "Sequential(\n",
            "  (0): Conv2d(1, 16, kernel_size=(3, 3), stride=(1, 1), padding=(1, 1))\n",
            "  (1): ReLU(inplace=True)\n",
            "  (2): MaxPool2d(kernel_size=2, stride=2, padding=0, dilation=1, ceil_mode=False)\n",
            "  (3): Sequential(\n",
            "    (0): Block(\n",
            "      (conv1): Conv2d(16, 16, kernel_size=(3, 3), stride=(1, 1), padding=(1, 1))\n",
            "      (conv2): Conv2d(16, 16, kernel_size=(3, 3), stride=(1, 1), padding=(1, 1))\n",
            "      (shortcut): Sequential()\n",
            "    )\n",
            "  )\n",
            "  (4): Sequential(\n",
            "    (0): Block(\n",
            "      (conv1): Conv2d(16, 32, kernel_size=(3, 3), stride=(2, 2), padding=(1, 1))\n",
            "      (conv2): Conv2d(32, 32, kernel_size=(3, 3), stride=(1, 1), padding=(1, 1))\n",
            "      (shortcut): Sequential(\n",
            "        (0): Conv2d(16, 32, kernel_size=(1, 1), stride=(2, 2))\n",
            "      )\n",
            "    )\n",
            "  )\n",
            "  (5): AdaptiveAvgPool2d(output_size=(1, 1))\n",
            "  (6): Flatten(start_dim=1, end_dim=-1)\n",
            "  (7): Linear(in_features=32, out_features=128, bias=True)\n",
            "  (8): ReLU(inplace=True)\n",
            "  (9): Linear(in_features=128, out_features=64, bias=True)\n",
            "  (10): ReLU(inplace=True)\n",
            "  (11): Linear(in_features=64, out_features=32, bias=True)\n",
            "  (12): ReLU(inplace=True)\n",
            "  (13): Linear(in_features=32, out_features=10, bias=True)\n",
            "  (14): Sigmoid()\n",
            ")\n",
            "----------------------------------------------------------------\n",
            "        Layer (type)               Output Shape         Param #\n",
            "================================================================\n",
            "            Conv2d-1           [-1, 16, 28, 28]             160\n",
            "              ReLU-2           [-1, 16, 28, 28]               0\n",
            "         MaxPool2d-3           [-1, 16, 14, 14]               0\n",
            "            Conv2d-4           [-1, 16, 14, 14]           2,320\n",
            "            Conv2d-5           [-1, 16, 14, 14]           2,320\n",
            "             Block-6           [-1, 16, 14, 14]               0\n",
            "            Conv2d-7             [-1, 32, 7, 7]           4,640\n",
            "            Conv2d-8             [-1, 32, 7, 7]           9,248\n",
            "            Conv2d-9             [-1, 32, 7, 7]             544\n",
            "            Block-10             [-1, 32, 7, 7]               0\n",
            "AdaptiveAvgPool2d-11             [-1, 32, 1, 1]               0\n",
            "          Flatten-12                   [-1, 32]               0\n",
            "           Linear-13                  [-1, 128]           4,224\n",
            "             ReLU-14                  [-1, 128]               0\n",
            "           Linear-15                   [-1, 64]           8,256\n",
            "             ReLU-16                   [-1, 64]               0\n",
            "           Linear-17                   [-1, 32]           2,080\n",
            "             ReLU-18                   [-1, 32]               0\n",
            "           Linear-19                   [-1, 10]             330\n",
            "          Sigmoid-20                   [-1, 10]               0\n",
            "================================================================\n",
            "Total params: 34,122\n",
            "Trainable params: 34,122\n",
            "Non-trainable params: 0\n",
            "----------------------------------------------------------------\n",
            "Input size (MB): 0.00\n",
            "Forward/backward pass size (MB): 0.34\n",
            "Params size (MB): 0.13\n",
            "Estimated Total Size (MB): 0.47\n",
            "----------------------------------------------------------------\n"
          ]
        }
      ]
    },
    {
      "cell_type": "markdown",
      "source": [
        "The total no. of trainable parameters in the above model(my_model_4) is 34122(It is quite less as compared to my_model_3)"
      ],
      "metadata": {
        "id": "EWVs0h43hieI"
      }
    },
    {
      "cell_type": "code",
      "source": [
        "num_epochs = 30\n",
        "learning_rate = 0.001\n",
        "criterion = torch.nn.CrossEntropyLoss()\n",
        "optimizer = torch.optim.Adam(my_model_3.parameters(), lr=learning_rate)\n",
        "\n",
        "#Training process begins\n",
        "train_loss_list_ResNet = []\n",
        "for epoch in range(num_epochs):\n",
        "\tprint(f'Epoch {epoch+1}/{num_epochs}:', end = ' ')\n",
        "\ttrain_loss = 0\n",
        "\n",
        "\t#Iterating over the training dataset in batches\n",
        "\tmy_model_3.train()\n",
        "\tfor i, (images, labels) in enumerate(trainloader):\n",
        "\n",
        "\t\t#Extracting images and target labels for the batch being iterated\n",
        "\t\timages = images.to(device)\n",
        "\t\tlabels = labels.to(device)\n",
        "\n",
        "\t\t#Calculating the model output and the cross entropy loss\n",
        "\t\toutputs = my_model_3(images)\n",
        "\t\tloss = criterion(outputs, labels)\n",
        "\n",
        "\t\t#Updating weights according to calculated loss\n",
        "\t\toptimizer.zero_grad()\n",
        "\t\tloss.backward()\n",
        "\t\toptimizer.step()\n",
        "\t\ttrain_loss += loss.item()\n",
        "\n",
        "\t#Printing loss for each epoch\n",
        "\ttrain_loss_list_ResNet.append(train_loss/len(trainloader))\n",
        "\tprint(f\"Training loss = {train_loss_list_ResNet[-1]}\")\n",
        "\n",
        "#Plotting loss for all epochs\n",
        "plt.plot(range(1,num_epochs+1), train_loss_list_ResNet)\n",
        "plt.xlabel(\"Number of epochs\")\n",
        "plt.ylabel(\"Training loss\")\n"
      ],
      "metadata": {
        "id": "C3UlT5owQLoH",
        "colab": {
          "base_uri": "https://localhost:8080/",
          "height": 987
        },
        "outputId": "b15f3eaa-7746-4b5c-c154-cff9fa6884ee"
      },
      "execution_count": null,
      "outputs": [
        {
          "output_type": "stream",
          "name": "stdout",
          "text": [
            "Epoch 1/30: Training loss = 1.6851886278390884\n",
            "Epoch 2/30: Training loss = 1.5105963295698166\n",
            "Epoch 3/30: Training loss = 1.491760774254799\n",
            "Epoch 4/30: Training loss = 1.4847231847047806\n",
            "Epoch 5/30: Training loss = 1.4800428181886673\n",
            "Epoch 6/30: Training loss = 1.4776175475120545\n",
            "Epoch 7/30: Training loss = 1.475441467165947\n",
            "Epoch 8/30: Training loss = 1.4738379859924315\n",
            "Epoch 9/30: Training loss = 1.4719174271821975\n",
            "Epoch 10/30: Training loss = 1.4727036333084107\n",
            "Epoch 11/30: Training loss = 1.4711235022544862\n",
            "Epoch 12/30: Training loss = 1.4702631628513336\n",
            "Epoch 13/30: Training loss = 1.4707306241989135\n",
            "Epoch 14/30: Training loss = 1.4701442217826843\n",
            "Epoch 15/30: Training loss = 1.4691329193115235\n",
            "Epoch 16/30: Training loss = 1.4690225291252137\n",
            "Epoch 17/30: Training loss = 1.4702441066503524\n",
            "Epoch 18/30: Training loss = 1.4707141035795213\n",
            "Epoch 19/30: Training loss = 1.47031514108181\n",
            "Epoch 20/30: Training loss = 1.4688447761535643\n",
            "Epoch 21/30: Training loss = 1.4684760230779648\n",
            "Epoch 22/30: Training loss = 1.4676265341043473\n",
            "Epoch 23/30: Training loss = 1.4681210577487946\n",
            "Epoch 24/30: Training loss = 1.4697200959920884\n",
            "Epoch 25/30: Training loss = 1.4679381662607194\n",
            "Epoch 26/30: Training loss = 1.467625640630722\n",
            "Epoch 27/30: Training loss = 1.468873319029808\n",
            "Epoch 28/30: Training loss = 1.4719518679380417\n",
            "Epoch 29/30: Training loss = 1.4704891926050185\n",
            "Epoch 30/30: Training loss = 1.4699741578102112\n"
          ]
        },
        {
          "output_type": "execute_result",
          "data": {
            "text/plain": [
              "Text(0, 0.5, 'Training loss')"
            ]
          },
          "metadata": {},
          "execution_count": 36
        },
        {
          "output_type": "display_data",
          "data": {
            "text/plain": [
              "<Figure size 640x480 with 1 Axes>"
            ],
            "image/png": "[encoded data removed]"
          },
          "metadata": {}
        }
      ]
    },
    {
      "cell_type": "code",
      "source": [
        "# Evaluation mode\n",
        "my_model_3.eval()\n",
        "\n",
        "# Lists to store predictions and ground truth labels\n",
        "predicted_outputs = []\n",
        "ground_truth_labels = []\n",
        "\n",
        "# Disable gradient calculation for evaluation\n",
        "with torch.no_grad():\n",
        "    for images, labels in testloader:\n",
        "        # Move images and labels to device\n",
        "        images, labels = images.to(device), labels.to(device)\n",
        "\n",
        "        # Forward pass\n",
        "        outputs = my_model_3(images)\n",
        "\n",
        "        # Get predictions\n",
        "        _, predicted = torch.max(outputs, 1)\n",
        "\n",
        "        # Append predictions and labels to lists\n",
        "        predicted_outputs.extend(predicted.cpu().numpy())\n",
        "        ground_truth_labels.extend(labels.cpu().numpy())\n",
        "\n",
        "# Calculate accuracy\n",
        "correct = sum([1 if pred == true else 0 for pred, true in zip(predicted_outputs, ground_truth_labels)])\n",
        "total = len(ground_truth_labels)\n",
        "accuracy = correct / total * 100\n",
        "\n",
        "print(f\"Accuracy on the test set: {accuracy:.4f}%\")"
      ],
      "metadata": {
        "id": "_YSdi7bIVeG-",
        "colab": {
          "base_uri": "https://localhost:8080/"
        },
        "outputId": "a14e8aa5-343a-4d84-c31b-dba4bb258f76"
      },
      "execution_count": null,
      "outputs": [
        {
          "output_type": "stream",
          "name": "stdout",
          "text": [
            "Accuracy on the test set: 98.4300%\n"
          ]
        }
      ]
    },
    {
      "cell_type": "markdown",
      "source": [
        "**Training for part(b)**, **using my_model_4**"
      ],
      "metadata": {
        "id": "SR3FNu0tVtLr"
      }
    },
    {
      "cell_type": "code",
      "source": [
        "num_epochs = 30\n",
        "learning_rate = 0.001\n",
        "criterion = torch.nn.CrossEntropyLoss()\n",
        "optimizer = torch.optim.Adam(my_model_4.parameters(), lr=learning_rate)\n",
        "\n",
        "#Training process begins\n",
        "train_loss_list_ResNet = []\n",
        "for epoch in range(num_epochs):\n",
        "\tprint(f'Epoch {epoch+1}/{num_epochs}:', end = ' ')\n",
        "\ttrain_loss = 0\n",
        "\n",
        "\t#Iterating over the training dataset in batches\n",
        "\tmy_model_4.train()\n",
        "\tfor i, (images, labels) in enumerate(trainloader):\n",
        "\n",
        "\t\t#Extracting images and target labels for the batch being iterated\n",
        "\t\timages = images.to(device)\n",
        "\t\tlabels = labels.to(device)\n",
        "\n",
        "\t\t#Calculating the model output and the cross entropy loss\n",
        "\t\toutputs = my_model_4(images)\n",
        "\t\tloss = criterion(outputs, labels)\n",
        "\n",
        "\t\t#Updating weights according to calculated loss\n",
        "\t\toptimizer.zero_grad()\n",
        "\t\tloss.backward()\n",
        "\t\toptimizer.step()\n",
        "\t\ttrain_loss += loss.item()\n",
        "\n",
        "\t#Printing loss for each epoch\n",
        "\ttrain_loss_list_ResNet.append(train_loss/len(trainloader))\n",
        "\tprint(f\"Training loss = {train_loss_list_ResNet[-1]}\")\n",
        "\n",
        "#Plotting loss for all epochs\n",
        "plt.plot(range(1,num_epochs+1), train_loss_list_ResNet)\n",
        "plt.xlabel(\"Number of epochs\")\n",
        "plt.ylabel(\"Training loss\")\n"
      ],
      "metadata": {
        "id": "BRJlcotHVqcq",
        "colab": {
          "base_uri": "https://localhost:8080/",
          "height": 987
        },
        "outputId": "aa9bc57a-6c66-409c-f87c-bb0d31c17e43"
      },
      "execution_count": null,
      "outputs": [
        {
          "output_type": "stream",
          "name": "stdout",
          "text": [
            "Epoch 1/30: Training loss = 2.0832392209768296\n",
            "Epoch 2/30: Training loss = 1.8444063395261765\n",
            "Epoch 3/30: Training loss = 1.731382098197937\n",
            "Epoch 4/30: Training loss = 1.651612993478775\n",
            "Epoch 5/30: Training loss = 1.6019245433807372\n",
            "Epoch 6/30: Training loss = 1.583406319618225\n",
            "Epoch 7/30: Training loss = 1.5688291895389557\n",
            "Epoch 8/30: Training loss = 1.5561510133743286\n",
            "Epoch 9/30: Training loss = 1.5451723140478135\n",
            "Epoch 10/30: Training loss = 1.533695387840271\n",
            "Epoch 11/30: Training loss = 1.5241873687505723\n",
            "Epoch 12/30: Training loss = 1.5171592050790788\n",
            "Epoch 13/30: Training loss = 1.5129813295602799\n",
            "Epoch 14/30: Training loss = 1.5107858687639237\n",
            "Epoch 15/30: Training loss = 1.5063431131839753\n",
            "Epoch 16/30: Training loss = 1.5029900753498078\n",
            "Epoch 17/30: Training loss = 1.499893872141838\n",
            "Epoch 18/30: Training loss = 1.4980750918388366\n",
            "Epoch 19/30: Training loss = 1.49758245408535\n",
            "Epoch 20/30: Training loss = 1.4939591413736344\n",
            "Epoch 21/30: Training loss = 1.4918953090906144\n",
            "Epoch 22/30: Training loss = 1.4917175763845443\n",
            "Epoch 23/30: Training loss = 1.4893507218360902\n",
            "Epoch 24/30: Training loss = 1.4886372596025468\n",
            "Epoch 25/30: Training loss = 1.4873888623714446\n",
            "Epoch 26/30: Training loss = 1.486341624855995\n",
            "Epoch 27/30: Training loss = 1.4859043782949448\n",
            "Epoch 28/30: Training loss = 1.4841146552562714\n",
            "Epoch 29/30: Training loss = 1.4845389467477799\n",
            "Epoch 30/30: Training loss = 1.4822760117053986\n"
          ]
        },
        {
          "output_type": "execute_result",
          "data": {
            "text/plain": [
              "Text(0, 0.5, 'Training loss')"
            ]
          },
          "metadata": {},
          "execution_count": 38
        },
        {
          "output_type": "display_data",
          "data": {
            "text/plain": [
              "<Figure size 640x480 with 1 Axes>"
            ],
            "image/png": "[encoded data removed]"
          },
          "metadata": {}
        }
      ]
    },
    {
      "cell_type": "code",
      "source": [
        "# Evaluation mode\n",
        "my_model_4.eval()\n",
        "\n",
        "# Lists to store predictions and ground truth labels\n",
        "predicted_outputs = []\n",
        "ground_truth_labels = []\n",
        "\n",
        "# Disable gradient calculation for evaluation\n",
        "with torch.no_grad():\n",
        "    for images, labels in testloader:\n",
        "        # Move images and labels to device\n",
        "        images, labels = images.to(device), labels.to(device)\n",
        "\n",
        "        # Forward pass\n",
        "        outputs = my_model_4(images)\n",
        "\n",
        "        # Get predictions\n",
        "        _, predicted = torch.max(outputs, 1)\n",
        "\n",
        "        # Append predictions and labels to lists\n",
        "        predicted_outputs.extend(predicted.cpu().numpy())\n",
        "        ground_truth_labels.extend(labels.cpu().numpy())\n",
        "\n",
        "# Calculate accuracy\n",
        "correct = sum([1 if pred == true else 0 for pred, true in zip(predicted_outputs, ground_truth_labels)])\n",
        "total = len(ground_truth_labels)\n",
        "accuracy = correct / total * 100\n",
        "\n",
        "print(f\"Accuracy on the test set: {accuracy:.4f}%\")"
      ],
      "metadata": {
        "id": "UR7KcOgdWXOq",
        "colab": {
          "base_uri": "https://localhost:8080/"
        },
        "outputId": "334d3723-6afa-4fa3-e449-a910b018a602"
      },
      "execution_count": null,
      "outputs": [
        {
          "output_type": "stream",
          "name": "stdout",
          "text": [
            "Accuracy on the test set: 97.2500%\n"
          ]
        }
      ]
    },
    {
      "cell_type": "markdown",
      "source": [
        "Hence, the accuracy on the test set is more in case of my_model_3(98.43%) as compared to my_model_4(97.25%)"
      ],
      "metadata": {
        "id": "LHwLY5qRiA7E"
      }
    },
    {
      "cell_type": "code",
      "source": [],
      "metadata": {
        "id": "yQcw_mHDBo2g"
      },
      "execution_count": null,
      "outputs": []
    },
    {
      "cell_type": "markdown",
      "source": [
        "**EXPERIMENT 5 : Part(a)**\n",
        "\n",
        "Next I have used my_model(the model with 2 ResNet layers and 2 Fully-connected layers), used normalized dataset and Adam Optimizer and incorporated Batch Normalization this time. I named my complete training model as **my_model_5**"
      ],
      "metadata": {
        "id": "5ePRKTgqizZ3"
      }
    },
    {
      "cell_type": "code",
      "source": [
        "import torch\n",
        "import torch.nn as nn\n",
        "from torchsummary import summary\n",
        "\n",
        "# Define a convolutional layer with 3x3 kernel\n",
        "def convo(input_channels, output_channels, stride=1):\n",
        "    return nn.Conv2d(input_channels, output_channels, kernel_size=3, stride=stride, padding=1, bias=False)\n",
        "\n",
        "# Define a basic residual block with skip connection\n",
        "class Block(nn.Module):\n",
        "    def __init__(self, input_channels, output_channels, stride=1):\n",
        "        super(Block, self).__init__()\n",
        "        self.conv1 = convo(input_channels, output_channels, stride)\n",
        "        self.bn1 = nn.BatchNorm2d(output_channels)\n",
        "        self.conv2 = convo(output_channels, output_channels)\n",
        "        self.bn2 = nn.BatchNorm2d(output_channels)\n",
        "        self.shortcut = nn.Sequential()\n",
        "        if (stride != 1) or (input_channels != output_channels):\n",
        "            self.shortcut = nn.Sequential(\n",
        "                nn.Conv2d(input_channels, output_channels, kernel_size=1, stride=stride, bias=False),\n",
        "                nn.BatchNorm2d(output_channels)\n",
        "            )\n",
        "\n",
        "    def forward(self, x):\n",
        "        output = F.relu(self.bn1(self.conv1(x)))\n",
        "        output = self.bn2(self.conv2(output))\n",
        "        output = output + self.shortcut(x)\n",
        "        output = F.relu(output)\n",
        "        return output\n",
        "\n",
        "# Define a ResNet layer which contains multiple residual blocks\n",
        "def ResNet_Layer(block, input_channels, output_channels, stride):\n",
        "    layers_list = []\n",
        "    layers_list.append(block(input_channels, output_channels, stride))\n",
        "    input_channels = output_channels\n",
        "    return nn.Sequential(*layers_list)\n",
        "\n",
        "# Define the ResNet architecture\n",
        "def ResNet(num_classes=10):\n",
        "    # Start with a 3x3 convolutional layer, followed by batch normalization and ReLU\n",
        "    layers_list = [\n",
        "        convo(1, 16),\n",
        "        nn.BatchNorm2d(16),\n",
        "        nn.ReLU(inplace=True),\n",
        "        nn.MaxPool2d(kernel_size=2, stride=2)\n",
        "    ]\n",
        "    # Add the ResNet layers\n",
        "    layers_list.append(ResNet_Layer(Block, 16, 16, 1))\n",
        "    layers_list.append(ResNet_Layer(Block, 16, 32, 2))\n",
        "    # Global average pooling\n",
        "    layers_list.append(nn.AdaptiveAvgPool2d((1, 1)))\n",
        "    layers_list.append(nn.Flatten())\n",
        "    # Fully connected layers\n",
        "    layers_list.append(nn.Linear(32, 64))\n",
        "    layers_list.append(nn.BatchNorm1d(64))\n",
        "    layers_list.append(nn.ReLU(inplace=True))\n",
        "    layers_list.append(nn.Linear(64, num_classes))\n",
        "    layers_list.append(nn.Sigmoid())\n",
        "    return nn.Sequential(*layers_list)\n",
        "\n",
        "\n",
        "\n",
        "\n",
        "# Testing the network\n",
        "device = torch.device(\"cuda\" if torch.cuda.is_available() else \"cpu\")\n",
        "my_model_5=ResNet().to(device)\n",
        "print(my_model_5)\n",
        "summary(my_model_5, input_size=(1, 28, 28)) # As input size of each image in MNIST is (1 x 28 x 28)\n",
        "\n"
      ],
      "metadata": {
        "colab": {
          "base_uri": "https://localhost:8080/"
        },
        "id": "CT2iFxUG7_vB",
        "outputId": "cc3e6bf8-72f0-4924-93c6-8e592854f726"
      },
      "execution_count": null,
      "outputs": [
        {
          "output_type": "stream",
          "name": "stdout",
          "text": [
            "Sequential(\n",
            "  (0): Conv2d(1, 16, kernel_size=(3, 3), stride=(1, 1), padding=(1, 1), bias=False)\n",
            "  (1): BatchNorm2d(16, eps=1e-05, momentum=0.1, affine=True, track_running_stats=True)\n",
            "  (2): ReLU(inplace=True)\n",
            "  (3): MaxPool2d(kernel_size=2, stride=2, padding=0, dilation=1, ceil_mode=False)\n",
            "  (4): Sequential(\n",
            "    (0): Block(\n",
            "      (conv1): Conv2d(16, 16, kernel_size=(3, 3), stride=(1, 1), padding=(1, 1), bias=False)\n",
            "      (bn1): BatchNorm2d(16, eps=1e-05, momentum=0.1, affine=True, track_running_stats=True)\n",
            "      (conv2): Conv2d(16, 16, kernel_size=(3, 3), stride=(1, 1), padding=(1, 1), bias=False)\n",
            "      (bn2): BatchNorm2d(16, eps=1e-05, momentum=0.1, affine=True, track_running_stats=True)\n",
            "      (shortcut): Sequential()\n",
            "    )\n",
            "  )\n",
            "  (5): Sequential(\n",
            "    (0): Block(\n",
            "      (conv1): Conv2d(16, 32, kernel_size=(3, 3), stride=(2, 2), padding=(1, 1), bias=False)\n",
            "      (bn1): BatchNorm2d(32, eps=1e-05, momentum=0.1, affine=True, track_running_stats=True)\n",
            "      (conv2): Conv2d(32, 32, kernel_size=(3, 3), stride=(1, 1), padding=(1, 1), bias=False)\n",
            "      (bn2): BatchNorm2d(32, eps=1e-05, momentum=0.1, affine=True, track_running_stats=True)\n",
            "      (shortcut): Sequential(\n",
            "        (0): Conv2d(16, 32, kernel_size=(1, 1), stride=(2, 2), bias=False)\n",
            "        (1): BatchNorm2d(32, eps=1e-05, momentum=0.1, affine=True, track_running_stats=True)\n",
            "      )\n",
            "    )\n",
            "  )\n",
            "  (6): AdaptiveAvgPool2d(output_size=(1, 1))\n",
            "  (7): Flatten(start_dim=1, end_dim=-1)\n",
            "  (8): Linear(in_features=32, out_features=64, bias=True)\n",
            "  (9): BatchNorm1d(64, eps=1e-05, momentum=0.1, affine=True, track_running_stats=True)\n",
            "  (10): ReLU(inplace=True)\n",
            "  (11): Linear(in_features=64, out_features=10, bias=True)\n",
            "  (12): Sigmoid()\n",
            ")\n",
            "----------------------------------------------------------------\n",
            "        Layer (type)               Output Shape         Param #\n",
            "================================================================\n",
            "            Conv2d-1           [-1, 16, 28, 28]             144\n",
            "       BatchNorm2d-2           [-1, 16, 28, 28]              32\n",
            "              ReLU-3           [-1, 16, 28, 28]               0\n",
            "         MaxPool2d-4           [-1, 16, 14, 14]               0\n",
            "            Conv2d-5           [-1, 16, 14, 14]           2,304\n",
            "       BatchNorm2d-6           [-1, 16, 14, 14]              32\n",
            "            Conv2d-7           [-1, 16, 14, 14]           2,304\n",
            "       BatchNorm2d-8           [-1, 16, 14, 14]              32\n",
            "             Block-9           [-1, 16, 14, 14]               0\n",
            "           Conv2d-10             [-1, 32, 7, 7]           4,608\n",
            "      BatchNorm2d-11             [-1, 32, 7, 7]              64\n",
            "           Conv2d-12             [-1, 32, 7, 7]           9,216\n",
            "      BatchNorm2d-13             [-1, 32, 7, 7]              64\n",
            "           Conv2d-14             [-1, 32, 7, 7]             512\n",
            "      BatchNorm2d-15             [-1, 32, 7, 7]              64\n",
            "            Block-16             [-1, 32, 7, 7]               0\n",
            "AdaptiveAvgPool2d-17             [-1, 32, 1, 1]               0\n",
            "          Flatten-18                   [-1, 32]               0\n",
            "           Linear-19                   [-1, 64]           2,112\n",
            "      BatchNorm1d-20                   [-1, 64]             128\n",
            "             ReLU-21                   [-1, 64]               0\n",
            "           Linear-22                   [-1, 10]             650\n",
            "          Sigmoid-23                   [-1, 10]               0\n",
            "================================================================\n",
            "Total params: 22,266\n",
            "Trainable params: 22,266\n",
            "Non-trainable params: 0\n",
            "----------------------------------------------------------------\n",
            "Input size (MB): 0.00\n",
            "Forward/backward pass size (MB): 0.52\n",
            "Params size (MB): 0.08\n",
            "Estimated Total Size (MB): 0.60\n",
            "----------------------------------------------------------------\n"
          ]
        }
      ]
    },
    {
      "cell_type": "code",
      "source": [],
      "metadata": {
        "id": "CUAnQdaP857i"
      },
      "execution_count": null,
      "outputs": []
    },
    {
      "cell_type": "code",
      "source": [
        "num_epochs = 30\n",
        "learning_rate = 0.001\n",
        "criterion = torch.nn.CrossEntropyLoss()\n",
        "optimizer = torch.optim.Adam(my_model_5.parameters(), lr=learning_rate)\n",
        "\n",
        "#Training process begins\n",
        "train_loss_list_ResNet = []\n",
        "for epoch in range(num_epochs):\n",
        "\tprint(f'Epoch {epoch+1}/{num_epochs}:', end = ' ')\n",
        "\ttrain_loss = 0\n",
        "\n",
        "\t#Iterating over the training dataset in batches\n",
        "\tmy_model_5.train()\n",
        "\tfor i, (images, labels) in enumerate(trainloader):\n",
        "\n",
        "\t\t#Extracting images and target labels for the batch being iterated\n",
        "\t\timages = images.to(device)\n",
        "\t\tlabels = labels.to(device)\n",
        "\n",
        "\t\t#Calculating the model output and the cross entropy loss\n",
        "\t\toutputs = my_model_5(images)\n",
        "\t\tloss = criterion(outputs, labels)\n",
        "\n",
        "\t\t#Updating weights according to calculated loss\n",
        "\t\toptimizer.zero_grad()\n",
        "\t\tloss.backward()\n",
        "\t\toptimizer.step()\n",
        "\t\ttrain_loss += loss.item()\n",
        "\n",
        "\t#Printing loss for each epoch\n",
        "\ttrain_loss_list_ResNet.append(train_loss/len(trainloader))\n",
        "\tprint(f\"Training loss = {train_loss_list_ResNet[-1]}\")\n",
        "\n",
        "#Plotting loss for all epochs\n",
        "plt.plot(range(1,num_epochs+1), train_loss_list_ResNet)\n",
        "plt.xlabel(\"Number of epochs\")\n",
        "plt.ylabel(\"Training loss\")\n"
      ],
      "metadata": {
        "colab": {
          "base_uri": "https://localhost:8080/",
          "height": 987
        },
        "outputId": "81ba2513-9975-4094-e0b8-6799223fdd04",
        "id": "-53ORZTv9TNN"
      },
      "execution_count": null,
      "outputs": [
        {
          "output_type": "stream",
          "name": "stdout",
          "text": [
            "Epoch 1/30: Training loss = 1.734516059756279\n",
            "Epoch 2/30: Training loss = 1.5070467406511308\n",
            "Epoch 3/30: Training loss = 1.4846214658021928\n",
            "Epoch 4/30: Training loss = 1.477316240668297\n",
            "Epoch 5/30: Training loss = 1.4734938871860503\n",
            "Epoch 6/30: Training loss = 1.4709680557250977\n",
            "Epoch 7/30: Training loss = 1.4695411157608032\n",
            "Epoch 8/30: Training loss = 1.4683222198486328\n",
            "Epoch 9/30: Training loss = 1.4675450724363328\n",
            "Epoch 10/30: Training loss = 1.4670164531469345\n",
            "Epoch 11/30: Training loss = 1.4660209971666336\n",
            "Epoch 12/30: Training loss = 1.465417641401291\n",
            "Epoch 13/30: Training loss = 1.465280590057373\n",
            "Epoch 14/30: Training loss = 1.464589700102806\n",
            "Epoch 15/30: Training loss = 1.464757782816887\n",
            "Epoch 16/30: Training loss = 1.4640993452072144\n",
            "Epoch 17/30: Training loss = 1.4640498566627502\n",
            "Epoch 18/30: Training loss = 1.4638570898771286\n",
            "Epoch 19/30: Training loss = 1.463851182460785\n",
            "Epoch 20/30: Training loss = 1.4631124585866928\n",
            "Epoch 21/30: Training loss = 1.463555969595909\n",
            "Epoch 22/30: Training loss = 1.4632511115074158\n",
            "Epoch 23/30: Training loss = 1.4634051555395127\n",
            "Epoch 24/30: Training loss = 1.4628358852863312\n",
            "Epoch 25/30: Training loss = 1.4629286324977875\n",
            "Epoch 26/30: Training loss = 1.4630168223381042\n",
            "Epoch 27/30: Training loss = 1.4630938625335694\n",
            "Epoch 28/30: Training loss = 1.4625733107328416\n",
            "Epoch 29/30: Training loss = 1.4625489050149918\n",
            "Epoch 30/30: Training loss = 1.4624326258897782\n"
          ]
        },
        {
          "output_type": "execute_result",
          "data": {
            "text/plain": [
              "Text(0, 0.5, 'Training loss')"
            ]
          },
          "metadata": {},
          "execution_count": 31
        },
        {
          "output_type": "display_data",
          "data": {
            "text/plain": [
              "<Figure size 640x480 with 1 Axes>"
            ],
            "image/png": "[encoded data removed]"
          },
          "metadata": {}
        }
      ]
    },
    {
      "cell_type": "code",
      "source": [
        "# Evaluation mode\n",
        "my_model_5.eval()\n",
        "\n",
        "# Lists to store predictions and ground truth labels\n",
        "predicted_outputs = []\n",
        "ground_truth_labels = []\n",
        "\n",
        "# Disable gradient calculation for evaluation\n",
        "with torch.no_grad():\n",
        "    for images, labels in testloader:\n",
        "        # Move images and labels to device\n",
        "        images, labels = images.to(device), labels.to(device)\n",
        "\n",
        "        # Forward pass\n",
        "        outputs = my_model_5(images)\n",
        "\n",
        "        # Get predictions\n",
        "        _, predicted = torch.max(outputs, 1)\n",
        "\n",
        "        # Append predictions and labels to lists\n",
        "        predicted_outputs.extend(predicted.cpu().numpy())\n",
        "        ground_truth_labels.extend(labels.cpu().numpy())\n",
        "\n",
        "# Calculate accuracy\n",
        "correct = sum([1 if pred == true else 0 for pred, true in zip(predicted_outputs, ground_truth_labels)])\n",
        "total = len(ground_truth_labels)\n",
        "accuracy = correct / total * 100\n",
        "\n",
        "print(f\"Accuracy on the test set: {accuracy:.4f}%\")"
      ],
      "metadata": {
        "colab": {
          "base_uri": "https://localhost:8080/"
        },
        "outputId": "6615e1b1-be07-4463-f77e-d9789aacc768",
        "id": "r8VmIaiy86Jv"
      },
      "execution_count": null,
      "outputs": [
        {
          "output_type": "stream",
          "name": "stdout",
          "text": [
            "Accuracy on the test set: 98.8300%\n"
          ]
        }
      ]
    },
    {
      "cell_type": "markdown",
      "source": [
        "Hence, the accuracy has increased(98.83%) now(in my_model_5) as compared to when I did not use Batch-Normalization(97.35% in my_model)"
      ],
      "metadata": {
        "id": "_L9GY7yAHFHr"
      }
    },
    {
      "cell_type": "markdown",
      "source": [
        "**EXPERIMENT - 5 (B)**\n",
        "\n",
        "Next, I have introduced **Dropout** in between different layers of **my_model** and named it **my_model_6**"
      ],
      "metadata": {
        "id": "K3rF3bTwFjA3"
      }
    },
    {
      "cell_type": "code",
      "source": [
        "import torch\n",
        "import torch.nn as nn\n",
        "from torchsummary import summary\n",
        "\n",
        "# Define a convolutional layer with 3x3 kernel\n",
        "def convo(input_channels, output_channels, stride=1):\n",
        "    return nn.Conv2d(input_channels, output_channels, kernel_size=3, stride=stride, padding=1, bias=False)\n",
        "\n",
        "# Define a basic residual block with skip connection\n",
        "class Block(nn.Module):\n",
        "    def __init__(self, input_channels, output_channels, stride=1, dropout_prob=0.25):\n",
        "        super(Block, self).__init__()\n",
        "        self.conv1 = convo(input_channels, output_channels, stride)\n",
        "        self.dropout = nn.Dropout2d(dropout_prob)\n",
        "        self.conv2 = convo(output_channels, output_channels)\n",
        "        self.shortcut = nn.Sequential()\n",
        "        if (stride != 1) or (input_channels != output_channels):\n",
        "            self.shortcut = nn.Sequential(\n",
        "                nn.Conv2d(input_channels, output_channels, kernel_size=1, stride=stride, bias=False)\n",
        "            )\n",
        "\n",
        "    def forward(self, x):\n",
        "        output = F.relu(self.conv1(x))\n",
        "        output = self.dropout(output)\n",
        "        output = self.conv2(output)\n",
        "        output = output + self.shortcut(x)\n",
        "        output = F.relu(output)\n",
        "        return output\n",
        "\n",
        "# Defining a ResNet layer\n",
        "def ResNet_Layer(block, input_channels, output_channels, stride, dropout_prob=0.25):\n",
        "    layers_list = []\n",
        "    layers_list.append(block(input_channels, output_channels, stride, dropout_prob))\n",
        "    input_channels = output_channels\n",
        "    return nn.Sequential(*layers_list)\n",
        "\n",
        "# Defining the ResNet architecture\n",
        "def ResNet(num_classes=10, dropout_prob=0.0):\n",
        "    # Start with a 3x3 convolutional layer, followed by dropout and ReLU\n",
        "    layers_list = [\n",
        "        convo(1, 16),\n",
        "        nn.ReLU(inplace=True),\n",
        "        nn.MaxPool2d(kernel_size=2, stride=2)\n",
        "    ]\n",
        "    # Adding the ResNet layers\n",
        "    layers_list.append(ResNet_Layer(Block, 16, 16, 1, dropout_prob)) # ResNet layer 1\n",
        "    layers_list.append(ResNet_Layer(Block, 16, 32, 2, dropout_prob)) # ResNet layer 2\n",
        "    # Average pooling\n",
        "    layers_list.append(nn.AdaptiveAvgPool2d((1, 1)))\n",
        "    layers_list.append(nn.Flatten())\n",
        "    # Fully connected layers\n",
        "    layers_list.append(nn.Linear(32, 64))\n",
        "    layers_list.append(nn.ReLU(inplace=True))\n",
        "    layers_list.append(nn.Dropout(dropout_prob))\n",
        "    layers_list.append(nn.Linear(64, num_classes))\n",
        "    layers_list.append(nn.Sigmoid())\n",
        "    return nn.Sequential(*layers_list)\n",
        "\n",
        "# Testing the network\n",
        "device = torch.device(\"cuda\" if torch.cuda.is_available() else \"cpu\")\n",
        "my_model_6=ResNet(dropout_prob=0.25).to(device)\n",
        "print(my_model_6)\n",
        "summary(my_model_6, input_size=(1, 28, 28)) # As input size of each image in MNIST is (1 x 28 x 28)"
      ],
      "metadata": {
        "colab": {
          "base_uri": "https://localhost:8080/"
        },
        "id": "yqoInqAFG598",
        "outputId": "4c522e2e-5228-4f13-9295-73ae65a04dcc"
      },
      "execution_count": null,
      "outputs": [
        {
          "output_type": "stream",
          "name": "stdout",
          "text": [
            "Sequential(\n",
            "  (0): Conv2d(1, 16, kernel_size=(3, 3), stride=(1, 1), padding=(1, 1), bias=False)\n",
            "  (1): ReLU(inplace=True)\n",
            "  (2): MaxPool2d(kernel_size=2, stride=2, padding=0, dilation=1, ceil_mode=False)\n",
            "  (3): Sequential(\n",
            "    (0): Block(\n",
            "      (conv1): Conv2d(16, 16, kernel_size=(3, 3), stride=(1, 1), padding=(1, 1), bias=False)\n",
            "      (dropout): Dropout2d(p=0.25, inplace=False)\n",
            "      (conv2): Conv2d(16, 16, kernel_size=(3, 3), stride=(1, 1), padding=(1, 1), bias=False)\n",
            "      (shortcut): Sequential()\n",
            "    )\n",
            "  )\n",
            "  (4): Sequential(\n",
            "    (0): Block(\n",
            "      (conv1): Conv2d(16, 32, kernel_size=(3, 3), stride=(2, 2), padding=(1, 1), bias=False)\n",
            "      (dropout): Dropout2d(p=0.25, inplace=False)\n",
            "      (conv2): Conv2d(32, 32, kernel_size=(3, 3), stride=(1, 1), padding=(1, 1), bias=False)\n",
            "      (shortcut): Sequential(\n",
            "        (0): Conv2d(16, 32, kernel_size=(1, 1), stride=(2, 2), bias=False)\n",
            "      )\n",
            "    )\n",
            "  )\n",
            "  (5): AdaptiveAvgPool2d(output_size=(1, 1))\n",
            "  (6): Flatten(start_dim=1, end_dim=-1)\n",
            "  (7): Linear(in_features=32, out_features=64, bias=True)\n",
            "  (8): ReLU(inplace=True)\n",
            "  (9): Dropout(p=0.25, inplace=False)\n",
            "  (10): Linear(in_features=64, out_features=10, bias=True)\n",
            "  (11): Sigmoid()\n",
            ")\n",
            "----------------------------------------------------------------\n",
            "        Layer (type)               Output Shape         Param #\n",
            "================================================================\n",
            "            Conv2d-1           [-1, 16, 28, 28]             144\n",
            "              ReLU-2           [-1, 16, 28, 28]               0\n",
            "         MaxPool2d-3           [-1, 16, 14, 14]               0\n",
            "            Conv2d-4           [-1, 16, 14, 14]           2,304\n",
            "         Dropout2d-5           [-1, 16, 14, 14]               0\n",
            "            Conv2d-6           [-1, 16, 14, 14]           2,304\n",
            "             Block-7           [-1, 16, 14, 14]               0\n",
            "            Conv2d-8             [-1, 32, 7, 7]           4,608\n",
            "         Dropout2d-9             [-1, 32, 7, 7]               0\n",
            "           Conv2d-10             [-1, 32, 7, 7]           9,216\n",
            "           Conv2d-11             [-1, 32, 7, 7]             512\n",
            "            Block-12             [-1, 32, 7, 7]               0\n",
            "AdaptiveAvgPool2d-13             [-1, 32, 1, 1]               0\n",
            "          Flatten-14                   [-1, 32]               0\n",
            "           Linear-15                   [-1, 64]           2,112\n",
            "             ReLU-16                   [-1, 64]               0\n",
            "          Dropout-17                   [-1, 64]               0\n",
            "           Linear-18                   [-1, 10]             650\n",
            "          Sigmoid-19                   [-1, 10]               0\n",
            "================================================================\n",
            "Total params: 21,850\n",
            "Trainable params: 21,850\n",
            "Non-trainable params: 0\n",
            "----------------------------------------------------------------\n",
            "Input size (MB): 0.00\n",
            "Forward/backward pass size (MB): 0.37\n",
            "Params size (MB): 0.08\n",
            "Estimated Total Size (MB): 0.46\n",
            "----------------------------------------------------------------\n"
          ]
        }
      ]
    },
    {
      "cell_type": "markdown",
      "source": [
        "The no. of training parameters in the above model is 21,850"
      ],
      "metadata": {
        "id": "5nzVfqoCKZrJ"
      }
    },
    {
      "cell_type": "code",
      "source": [
        "num_epochs = 30\n",
        "learning_rate = 0.001\n",
        "criterion = torch.nn.CrossEntropyLoss()\n",
        "optimizer = torch.optim.Adam(my_model_6.parameters(), lr=learning_rate)\n",
        "\n",
        "#Training process begins\n",
        "train_loss_list_ResNet = []\n",
        "for epoch in range(num_epochs):\n",
        "\tprint(f'Epoch {epoch+1}/{num_epochs}:', end = ' ')\n",
        "\ttrain_loss = 0\n",
        "\n",
        "\t#Iterating over the training dataset in batches\n",
        "\tmy_model_6.train()\n",
        "\tfor i, (images, labels) in enumerate(trainloader):\n",
        "\n",
        "\t\t#Extracting images and target labels for the batch being iterated\n",
        "\t\timages = images.to(device)\n",
        "\t\tlabels = labels.to(device)\n",
        "\n",
        "\t\t#Calculating the model output and the cross entropy loss\n",
        "\t\toutputs = my_model_6(images)\n",
        "\t\tloss = criterion(outputs, labels)\n",
        "\n",
        "\t\t#Updating weights according to calculated loss\n",
        "\t\toptimizer.zero_grad()\n",
        "\t\tloss.backward()\n",
        "\t\toptimizer.step()\n",
        "\t\ttrain_loss += loss.item()\n",
        "\n",
        "\t#Printing loss for each epoch\n",
        "\ttrain_loss_list_ResNet.append(train_loss/len(trainloader))\n",
        "\tprint(f\"Training loss = {train_loss_list_ResNet[-1]}\")\n",
        "\n",
        "#Plotting loss for all epochs\n",
        "plt.plot(range(1,num_epochs+1), train_loss_list_ResNet)\n",
        "plt.xlabel(\"Number of epochs\")\n",
        "plt.ylabel(\"Training loss\")\n"
      ],
      "metadata": {
        "colab": {
          "base_uri": "https://localhost:8080/",
          "height": 987
        },
        "outputId": "85f75add-abba-4581-ab9b-09514b499ac8",
        "id": "9tE0oUxdOJGB"
      },
      "execution_count": null,
      "outputs": [
        {
          "output_type": "stream",
          "name": "stdout",
          "text": [
            "Epoch 1/30: Training loss = 2.0670394819974898\n",
            "Epoch 2/30: Training loss = 1.7110178536176681\n",
            "Epoch 3/30: Training loss = 1.6252529621124268\n",
            "Epoch 4/30: Training loss = 1.5905085039138793\n",
            "Epoch 5/30: Training loss = 1.5714120489358903\n",
            "Epoch 6/30: Training loss = 1.555225437283516\n",
            "Epoch 7/30: Training loss = 1.5450696676969529\n",
            "Epoch 8/30: Training loss = 1.5371146607398987\n",
            "Epoch 9/30: Training loss = 1.5299876153469085\n",
            "Epoch 10/30: Training loss = 1.5244574415683747\n",
            "Epoch 11/30: Training loss = 1.5206332784891128\n",
            "Epoch 12/30: Training loss = 1.5160731446743012\n",
            "Epoch 13/30: Training loss = 1.5130604594945907\n",
            "Epoch 14/30: Training loss = 1.5123312932252884\n",
            "Epoch 15/30: Training loss = 1.5095250868797303\n",
            "Epoch 16/30: Training loss = 1.5063100582361222\n",
            "Epoch 17/30: Training loss = 1.5047190362215042\n",
            "Epoch 18/30: Training loss = 1.5019687044620513\n",
            "Epoch 19/30: Training loss = 1.5016724771261216\n",
            "Epoch 20/30: Training loss = 1.5009178334474564\n",
            "Epoch 21/30: Training loss = 1.4995246094465255\n",
            "Epoch 22/30: Training loss = 1.4982643938064575\n",
            "Epoch 23/30: Training loss = 1.4971448081731795\n",
            "Epoch 24/30: Training loss = 1.495438088774681\n",
            "Epoch 25/30: Training loss = 1.4945727896690368\n",
            "Epoch 26/30: Training loss = 1.4931808108091353\n",
            "Epoch 27/30: Training loss = 1.492541615962982\n",
            "Epoch 28/30: Training loss = 1.491696331501007\n",
            "Epoch 29/30: Training loss = 1.4920320504903792\n",
            "Epoch 30/30: Training loss = 1.4909774380922318\n"
          ]
        },
        {
          "output_type": "execute_result",
          "data": {
            "text/plain": [
              "Text(0, 0.5, 'Training loss')"
            ]
          },
          "metadata": {},
          "execution_count": 43
        },
        {
          "output_type": "display_data",
          "data": {
            "text/plain": [
              "<Figure size 640x480 with 1 Axes>"
            ],
            "image/png": "[encoded data removed]"
          },
          "metadata": {}
        }
      ]
    },
    {
      "cell_type": "code",
      "source": [
        "# Evaluation mode\n",
        "my_model_6.eval()\n",
        "\n",
        "# Lists to store predictions and ground truth labels\n",
        "predicted_outputs = []\n",
        "ground_truth_labels = []\n",
        "\n",
        "# Disable gradient calculation for evaluation\n",
        "with torch.no_grad():\n",
        "    for images, labels in testloader:\n",
        "        # Move images and labels to device\n",
        "        images, labels = images.to(device), labels.to(device)\n",
        "\n",
        "        # Forward pass\n",
        "        outputs = my_model_6(images)\n",
        "\n",
        "        # Get predictions\n",
        "        _, predicted = torch.max(outputs, 1)\n",
        "\n",
        "        # Append predictions and labels to lists\n",
        "        predicted_outputs.extend(predicted.cpu().numpy())\n",
        "        ground_truth_labels.extend(labels.cpu().numpy())\n",
        "\n",
        "# Calculate accuracy\n",
        "correct = sum([1 if pred == true else 0 for pred, true in zip(predicted_outputs, ground_truth_labels)])\n",
        "total = len(ground_truth_labels)\n",
        "accuracy = correct / total * 100\n",
        "\n",
        "print(f\"Accuracy on the test set: {accuracy:.4f}%\")"
      ],
      "metadata": {
        "colab": {
          "base_uri": "https://localhost:8080/"
        },
        "outputId": "22402793-c993-4f5f-95e2-90dd4b5e7988",
        "id": "gPbvzBu_RY7D"
      },
      "execution_count": null,
      "outputs": [
        {
          "output_type": "stream",
          "name": "stdout",
          "text": [
            "Accuracy on the test set: 97.7100%\n"
          ]
        }
      ]
    },
    {
      "cell_type": "markdown",
      "source": [
        "Hence, the above model gives an accuracy of 97.71%."
      ],
      "metadata": {
        "id": "UNuvnfQKHE9z"
      }
    },
    {
      "cell_type": "markdown",
      "source": [
        "**EXPERIMENT NO - 5(C)**\n",
        "\n",
        "I have introduced both **Batch Normalization and Dropout** in my_model. I have named it my_model_7"
      ],
      "metadata": {
        "id": "oDPoKxMAK4PS"
      }
    },
    {
      "cell_type": "code",
      "source": [
        "# Define a convolutional layer with 3x3 kernel\n",
        "def convo(input_channels, output_channels, stride=1):\n",
        "    return nn.Conv2d(input_channels, output_channels, kernel_size=3, stride=stride, padding=1, bias=False)\n",
        "\n",
        "# Define a basic residual block with skip connection\n",
        "class Block(nn.Module):\n",
        "    def __init__(self, input_channels, output_channels, stride=1, dropout_prob=0.25):\n",
        "        super(Block, self).__init__()\n",
        "        self.conv1 = convo(input_channels, output_channels, stride)\n",
        "        self.bn1 = nn.BatchNorm2d(output_channels)\n",
        "        self.dropout = nn.Dropout2d(dropout_prob)\n",
        "        self.conv2 = convo(output_channels, output_channels)\n",
        "        self.bn2 = nn.BatchNorm2d(output_channels)\n",
        "        self.shortcut = nn.Sequential()\n",
        "        if (stride != 1) or (input_channels != output_channels):\n",
        "            self.shortcut = nn.Sequential(\n",
        "                nn.Conv2d(input_channels, output_channels, kernel_size=1, stride=stride, bias=False),\n",
        "                nn.BatchNorm2d(output_channels)\n",
        "            )\n",
        "\n",
        "    def forward(self, x):\n",
        "        output = self.conv1(x)\n",
        "        output = self.bn1(output)\n",
        "        output = F.relu(output)\n",
        "        output = self.dropout(output)\n",
        "        output = self.conv2(output)\n",
        "        output = self.bn2(output)\n",
        "        output += self.shortcut(x)\n",
        "        output = F.relu(output)\n",
        "        return output\n",
        "\n",
        "# Define a ResNet layer which contains multiple residual blocks\n",
        "def ResNet_Layer(block, input_channels, output_channels, stride, dropout_prob=0.25):\n",
        "    layers_list = []\n",
        "    layers_list.append(block(input_channels, output_channels, stride, dropout_prob))\n",
        "    input_channels = output_channels\n",
        "    return nn.Sequential(*layers_list)\n",
        "\n",
        "# Define the ResNet architecture\n",
        "def ResNet(num_classes=10, dropout_prob=0.25):\n",
        "    # Start with a 3x3 convolutional layer, followed by batch normalization and ReLU\n",
        "    layers_list = [\n",
        "        convo(1, 16),\n",
        "        nn.BatchNorm2d(16),\n",
        "        nn.ReLU(inplace=True),\n",
        "        nn.MaxPool2d(kernel_size=2, stride=2)\n",
        "    ]\n",
        "    # Add the ResNet layers\n",
        "    layers_list.append(ResNet_Layer(Block, 16, 16, 1, dropout_prob))\n",
        "    layers_list.append(ResNet_Layer(Block, 16, 32, 2, dropout_prob))\n",
        "    # Global average pooling\n",
        "    layers_list.append(nn.AdaptiveAvgPool2d((1, 1)))\n",
        "    layers_list.append(nn.Flatten())\n",
        "    # Fully connected layers\n",
        "    layers_list.append(nn.Linear(32, 64))\n",
        "    layers_list.append(nn.BatchNorm1d(64))\n",
        "    layers_list.append(nn.ReLU(inplace=True))\n",
        "    layers_list.append(nn.Dropout(dropout_prob))\n",
        "    layers_list.append(nn.Linear(64, num_classes))\n",
        "    layers_list.append(nn.Sigmoid())\n",
        "    return nn.Sequential(*layers_list)\n",
        "\n",
        "# Testing the network\n",
        "device = torch.device(\"cuda\" if torch.cuda.is_available() else \"cpu\")\n",
        "my_model_7=ResNet(dropout_prob=0.25).to(device)\n",
        "print(my_model_7)\n",
        "summary(my_model_7, input_size=(1, 28, 28)) # As input size of each image in MNIST is (1 x 28 x 28)\n"
      ],
      "metadata": {
        "colab": {
          "base_uri": "https://localhost:8080/"
        },
        "id": "PmeupAYFRbm1",
        "outputId": "6dab8a7d-5833-4c83-ed22-9088d8a76650"
      },
      "execution_count": null,
      "outputs": [
        {
          "output_type": "stream",
          "name": "stdout",
          "text": [
            "Sequential(\n",
            "  (0): Conv2d(1, 16, kernel_size=(3, 3), stride=(1, 1), padding=(1, 1), bias=False)\n",
            "  (1): BatchNorm2d(16, eps=1e-05, momentum=0.1, affine=True, track_running_stats=True)\n",
            "  (2): ReLU(inplace=True)\n",
            "  (3): MaxPool2d(kernel_size=2, stride=2, padding=0, dilation=1, ceil_mode=False)\n",
            "  (4): Sequential(\n",
            "    (0): Block(\n",
            "      (conv1): Conv2d(16, 16, kernel_size=(3, 3), stride=(1, 1), padding=(1, 1), bias=False)\n",
            "      (bn1): BatchNorm2d(16, eps=1e-05, momentum=0.1, affine=True, track_running_stats=True)\n",
            "      (dropout): Dropout2d(p=0.25, inplace=False)\n",
            "      (conv2): Conv2d(16, 16, kernel_size=(3, 3), stride=(1, 1), padding=(1, 1), bias=False)\n",
            "      (bn2): BatchNorm2d(16, eps=1e-05, momentum=0.1, affine=True, track_running_stats=True)\n",
            "      (shortcut): Sequential()\n",
            "    )\n",
            "  )\n",
            "  (5): Sequential(\n",
            "    (0): Block(\n",
            "      (conv1): Conv2d(16, 32, kernel_size=(3, 3), stride=(2, 2), padding=(1, 1), bias=False)\n",
            "      (bn1): BatchNorm2d(32, eps=1e-05, momentum=0.1, affine=True, track_running_stats=True)\n",
            "      (dropout): Dropout2d(p=0.25, inplace=False)\n",
            "      (conv2): Conv2d(32, 32, kernel_size=(3, 3), stride=(1, 1), padding=(1, 1), bias=False)\n",
            "      (bn2): BatchNorm2d(32, eps=1e-05, momentum=0.1, affine=True, track_running_stats=True)\n",
            "      (shortcut): Sequential(\n",
            "        (0): Conv2d(16, 32, kernel_size=(1, 1), stride=(2, 2), bias=False)\n",
            "        (1): BatchNorm2d(32, eps=1e-05, momentum=0.1, affine=True, track_running_stats=True)\n",
            "      )\n",
            "    )\n",
            "  )\n",
            "  (6): AdaptiveAvgPool2d(output_size=(1, 1))\n",
            "  (7): Flatten(start_dim=1, end_dim=-1)\n",
            "  (8): Linear(in_features=32, out_features=64, bias=True)\n",
            "  (9): BatchNorm1d(64, eps=1e-05, momentum=0.1, affine=True, track_running_stats=True)\n",
            "  (10): ReLU(inplace=True)\n",
            "  (11): Dropout(p=0.25, inplace=False)\n",
            "  (12): Linear(in_features=64, out_features=10, bias=True)\n",
            "  (13): Sigmoid()\n",
            ")\n",
            "----------------------------------------------------------------\n",
            "        Layer (type)               Output Shape         Param #\n",
            "================================================================\n",
            "            Conv2d-1           [-1, 16, 28, 28]             144\n",
            "       BatchNorm2d-2           [-1, 16, 28, 28]              32\n",
            "              ReLU-3           [-1, 16, 28, 28]               0\n",
            "         MaxPool2d-4           [-1, 16, 14, 14]               0\n",
            "            Conv2d-5           [-1, 16, 14, 14]           2,304\n",
            "       BatchNorm2d-6           [-1, 16, 14, 14]              32\n",
            "         Dropout2d-7           [-1, 16, 14, 14]               0\n",
            "            Conv2d-8           [-1, 16, 14, 14]           2,304\n",
            "       BatchNorm2d-9           [-1, 16, 14, 14]              32\n",
            "            Block-10           [-1, 16, 14, 14]               0\n",
            "           Conv2d-11             [-1, 32, 7, 7]           4,608\n",
            "      BatchNorm2d-12             [-1, 32, 7, 7]              64\n",
            "        Dropout2d-13             [-1, 32, 7, 7]               0\n",
            "           Conv2d-14             [-1, 32, 7, 7]           9,216\n",
            "      BatchNorm2d-15             [-1, 32, 7, 7]              64\n",
            "           Conv2d-16             [-1, 32, 7, 7]             512\n",
            "      BatchNorm2d-17             [-1, 32, 7, 7]              64\n",
            "            Block-18             [-1, 32, 7, 7]               0\n",
            "AdaptiveAvgPool2d-19             [-1, 32, 1, 1]               0\n",
            "          Flatten-20                   [-1, 32]               0\n",
            "           Linear-21                   [-1, 64]           2,112\n",
            "      BatchNorm1d-22                   [-1, 64]             128\n",
            "             ReLU-23                   [-1, 64]               0\n",
            "          Dropout-24                   [-1, 64]               0\n",
            "           Linear-25                   [-1, 10]             650\n",
            "          Sigmoid-26                   [-1, 10]               0\n",
            "================================================================\n",
            "Total params: 22,266\n",
            "Trainable params: 22,266\n",
            "Non-trainable params: 0\n",
            "----------------------------------------------------------------\n",
            "Input size (MB): 0.00\n",
            "Forward/backward pass size (MB): 0.55\n",
            "Params size (MB): 0.08\n",
            "Estimated Total Size (MB): 0.64\n",
            "----------------------------------------------------------------\n"
          ]
        }
      ]
    },
    {
      "cell_type": "markdown",
      "source": [
        "The no. of training parameters in the above model is 22,226"
      ],
      "metadata": {
        "id": "LJC3ga1GKsCO"
      }
    },
    {
      "cell_type": "code",
      "source": [
        "num_epochs = 30\n",
        "learning_rate = 0.001\n",
        "criterion = torch.nn.CrossEntropyLoss()\n",
        "optimizer = torch.optim.Adam(my_model_7.parameters(), lr=learning_rate)\n",
        "\n",
        "#Training process begins\n",
        "train_loss_list_ResNet = []\n",
        "for epoch in range(num_epochs):\n",
        "\tprint(f'Epoch {epoch+1}/{num_epochs}:', end = ' ')\n",
        "\ttrain_loss = 0\n",
        "\n",
        "\t#Iterating over the training dataset in batches\n",
        "\tmy_model_7.train()\n",
        "\tfor i, (images, labels) in enumerate(trainloader):\n",
        "\n",
        "\t\t#Extracting images and target labels for the batch being iterated\n",
        "\t\timages = images.to(device)\n",
        "\t\tlabels = labels.to(device)\n",
        "\n",
        "\t\t#Calculating the model output and the cross entropy loss\n",
        "\t\toutputs = my_model_7(images)\n",
        "\t\tloss = criterion(outputs, labels)\n",
        "\n",
        "\t\t#Updating weights according to calculated loss\n",
        "\t\toptimizer.zero_grad()\n",
        "\t\tloss.backward()\n",
        "\t\toptimizer.step()\n",
        "\t\ttrain_loss += loss.item()\n",
        "\n",
        "\t#Printing loss for each epoch\n",
        "\ttrain_loss_list_ResNet.append(train_loss/len(trainloader))\n",
        "\tprint(f\"Training loss = {train_loss_list_ResNet[-1]}\")\n",
        "\n",
        "#Plotting loss for all epochs\n",
        "plt.plot(range(1,num_epochs+1), train_loss_list_ResNet)\n",
        "plt.xlabel(\"Number of epochs\")\n",
        "plt.ylabel(\"Training loss\")\n"
      ],
      "metadata": {
        "colab": {
          "base_uri": "https://localhost:8080/",
          "height": 987
        },
        "outputId": "40a5263f-6141-43b5-aca0-38d451767171",
        "id": "ElSbKdZzSNYF"
      },
      "execution_count": null,
      "outputs": [
        {
          "output_type": "stream",
          "name": "stdout",
          "text": [
            "Epoch 1/30: Training loss = 1.8573263615369797\n",
            "Epoch 2/30: Training loss = 1.5609987473487854\n",
            "Epoch 3/30: Training loss = 1.5157232695817948\n",
            "Epoch 4/30: Training loss = 1.50079632461071\n",
            "Epoch 5/30: Training loss = 1.4937890857458114\n",
            "Epoch 6/30: Training loss = 1.4892255336046218\n",
            "Epoch 7/30: Training loss = 1.4861291074752807\n",
            "Epoch 8/30: Training loss = 1.4838412845134734\n",
            "Epoch 9/30: Training loss = 1.482071503996849\n",
            "Epoch 10/30: Training loss = 1.4806493294239045\n",
            "Epoch 11/30: Training loss = 1.479507222175598\n",
            "Epoch 12/30: Training loss = 1.4782087129354478\n",
            "Epoch 13/30: Training loss = 1.4775219279527665\n",
            "Epoch 14/30: Training loss = 1.4767416936159135\n",
            "Epoch 15/30: Training loss = 1.476163199543953\n",
            "Epoch 16/30: Training loss = 1.4761428254842759\n",
            "Epoch 17/30: Training loss = 1.475425792336464\n",
            "Epoch 18/30: Training loss = 1.474561779499054\n",
            "Epoch 19/30: Training loss = 1.4737647479772569\n",
            "Epoch 20/30: Training loss = 1.4735556358098985\n",
            "Epoch 21/30: Training loss = 1.4731843763589858\n",
            "Epoch 22/30: Training loss = 1.4727017092704773\n",
            "Epoch 23/30: Training loss = 1.472185462117195\n",
            "Epoch 24/30: Training loss = 1.4724159640073777\n",
            "Epoch 25/30: Training loss = 1.472050934433937\n",
            "Epoch 26/30: Training loss = 1.4722892439365387\n",
            "Epoch 27/30: Training loss = 1.4717430514097214\n",
            "Epoch 28/30: Training loss = 1.471392874121666\n",
            "Epoch 29/30: Training loss = 1.4711542361974717\n",
            "Epoch 30/30: Training loss = 1.471093720793724\n"
          ]
        },
        {
          "output_type": "execute_result",
          "data": {
            "text/plain": [
              "Text(0, 0.5, 'Training loss')"
            ]
          },
          "metadata": {},
          "execution_count": 46
        },
        {
          "output_type": "display_data",
          "data": {
            "text/plain": [
              "<Figure size 640x480 with 1 Axes>"
            ],
            "image/png": "[encoded data removed]"
          },
          "metadata": {}
        }
      ]
    },
    {
      "cell_type": "code",
      "source": [
        "# Evaluation mode\n",
        "my_model_7.eval()\n",
        "\n",
        "# Lists to store predictions and ground truth labels\n",
        "predicted_outputs = []\n",
        "ground_truth_labels = []\n",
        "\n",
        "# Disable gradient calculation for evaluation\n",
        "with torch.no_grad():\n",
        "    for images, labels in testloader:\n",
        "        # Move images and labels to device\n",
        "        images, labels = images.to(device), labels.to(device)\n",
        "\n",
        "        # Forward pass\n",
        "        outputs = my_model_7(images)\n",
        "\n",
        "        # Get predictions\n",
        "        _, predicted = torch.max(outputs, 1)\n",
        "\n",
        "        # Append predictions and labels to lists\n",
        "        predicted_outputs.extend(predicted.cpu().numpy())\n",
        "        ground_truth_labels.extend(labels.cpu().numpy())\n",
        "\n",
        "# Calculate accuracy\n",
        "correct = sum([1 if pred == true else 0 for pred, true in zip(predicted_outputs, ground_truth_labels)])\n",
        "total = len(ground_truth_labels)\n",
        "accuracy = correct / total * 100\n",
        "\n",
        "print(f\"Accuracy on the test set: {accuracy:.4f}%\")"
      ],
      "metadata": {
        "colab": {
          "base_uri": "https://localhost:8080/"
        },
        "outputId": "706a7cb4-e09c-48a2-cff2-2ca30d7f8e56",
        "id": "nvh6YqAySGnR"
      },
      "execution_count": null,
      "outputs": [
        {
          "output_type": "stream",
          "name": "stdout",
          "text": [
            "Accuracy on the test set: 99.1400%\n"
          ]
        }
      ]
    },
    {
      "cell_type": "markdown",
      "source": [
        "Hence, if I use both Batch Normalization and Dropout together, it gives the best accuracy in my test set."
      ],
      "metadata": {
        "id": "mli4jK59LryW"
      }
    },
    {
      "cell_type": "markdown",
      "source": [
        "Therefore, among 5(a), 5(b) and 5(c), the increasing order of accuracies is 5(c)> 5(a) > 5(b)\n",
        "\n",
        "The best choice among the 3 cases will be the 3rd one [that is part (C)], as the accuracy on test set is 99.14% and also no. of trainable parameters also do not differ much amongst the 3 cases(and hence, so does the computation cost)."
      ],
      "metadata": {
        "id": "KNtedHoILZho"
      }
    },
    {
      "cell_type": "code",
      "source": [],
      "metadata": {
        "id": "TW4pImcyV_kl"
      },
      "execution_count": null,
      "outputs": []
    }
  ]
}