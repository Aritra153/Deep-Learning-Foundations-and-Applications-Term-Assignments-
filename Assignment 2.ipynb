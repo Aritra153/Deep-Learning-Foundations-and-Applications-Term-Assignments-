{
  "nbformat": 4,
  "nbformat_minor": 0,
  "metadata": {
    "colab": {
      "provenance": []
    },
    "kernelspec": {
      "name": "python3",
      "display_name": "Python 3"
    },
    "language_info": {
      "name": "python"
    }
  },
  "cells": [
    {
      "cell_type": "code",
      "execution_count": 104,
      "metadata": {
        "id": "hRIDaONdUWUf"
      },
      "outputs": [],
      "source": [
        "import numpy as np\n",
        "import torch\n",
        "from PIL import Image\n",
        "import torchvision.transforms as transforms\n",
        "import pandas as pd\n",
        "import os\n",
        "import matplotlib.pyplot as plt\n",
        "import cv2"
      ]
    },
    {
      "cell_type": "markdown",
      "source": [
        "**QUESTION 1**"
      ],
      "metadata": {
        "id": "ujh_OaG2YfUs"
      }
    },
    {
      "cell_type": "markdown",
      "source": [
        "**I HAVE USED GOOGLE COLAB FOR DOING THIS COMPLETE ASSIGNMENT 2. USING REMOTE DESKTOP/LAPTOP GPU(JUPYTER NOTEBOOK) MAY REQUIRE MODIFYING CERTAIN PART OF THE CODE OR INSTALL CERTAIN LIBRARIES.SIR/MAAM, YOU CAN UPLOAD THIS NOTEBOOK IN GOOGLE COLAB TO TEST THE CODE MORE BETTER.**"
      ],
      "metadata": {
        "id": "WAXqgjHqDy83"
      }
    },
    {
      "cell_type": "code",
      "source": [
        "!pip install kaggle\n"
      ],
      "metadata": {
        "colab": {
          "base_uri": "https://localhost:8080/"
        },
        "id": "wHQIWMf2UpU7",
        "outputId": "f2f7d4e5-1728-46cc-8172-8e6dd32468d4"
      },
      "execution_count": 105,
      "outputs": [
        {
          "output_type": "stream",
          "name": "stdout",
          "text": [
            "Requirement already satisfied: kaggle in /usr/local/lib/python3.10/dist-packages (1.5.16)\n",
            "Requirement already satisfied: six>=1.10 in /usr/local/lib/python3.10/dist-packages (from kaggle) (1.16.0)\n",
            "Requirement already satisfied: certifi in /usr/local/lib/python3.10/dist-packages (from kaggle) (2024.2.2)\n",
            "Requirement already satisfied: python-dateutil in /usr/local/lib/python3.10/dist-packages (from kaggle) (2.8.2)\n",
            "Requirement already satisfied: requests in /usr/local/lib/python3.10/dist-packages (from kaggle) (2.31.0)\n",
            "Requirement already satisfied: tqdm in /usr/local/lib/python3.10/dist-packages (from kaggle) (4.66.1)\n",
            "Requirement already satisfied: python-slugify in /usr/local/lib/python3.10/dist-packages (from kaggle) (8.0.4)\n",
            "Requirement already satisfied: urllib3 in /usr/local/lib/python3.10/dist-packages (from kaggle) (2.0.7)\n",
            "Requirement already satisfied: bleach in /usr/local/lib/python3.10/dist-packages (from kaggle) (6.1.0)\n",
            "Requirement already satisfied: webencodings in /usr/local/lib/python3.10/dist-packages (from bleach->kaggle) (0.5.1)\n",
            "Requirement already satisfied: text-unidecode>=1.3 in /usr/local/lib/python3.10/dist-packages (from python-slugify->kaggle) (1.3)\n",
            "Requirement already satisfied: charset-normalizer<4,>=2 in /usr/local/lib/python3.10/dist-packages (from requests->kaggle) (3.3.2)\n",
            "Requirement already satisfied: idna<4,>=2.5 in /usr/local/lib/python3.10/dist-packages (from requests->kaggle) (3.6)\n"
          ]
        }
      ]
    },
    {
      "cell_type": "code",
      "source": [
        "\n",
        "os.environ['KAGGLE_USERNAME'] = 'mlenthusiast567'\n",
        "os.environ['KAGGLE_KEY'] = 'a42169d0f0d3e13a33e4c031f4364c3e'\n"
      ],
      "metadata": {
        "id": "TDIu8-ioF_wv"
      },
      "execution_count": 3,
      "outputs": []
    },
    {
      "cell_type": "code",
      "source": [
        "from kaggle.api.kaggle_api_extended import KaggleApi\n",
        "api = KaggleApi()"
      ],
      "metadata": {
        "id": "okC7--fMX1jB"
      },
      "execution_count": 4,
      "outputs": []
    },
    {
      "cell_type": "code",
      "source": [
        "api.authenticate()\n"
      ],
      "metadata": {
        "id": "9V_qEaauGKnY"
      },
      "execution_count": 5,
      "outputs": []
    },
    {
      "cell_type": "markdown",
      "source": [
        "In cell below, I have downloaded the given dataset directly from Kaggle into the current working directory"
      ],
      "metadata": {
        "id": "DffbvRjtDlgO"
      }
    },
    {
      "cell_type": "code",
      "source": [
        "! kaggle datasets download jeffheaton/count-the-paperclips\n"
      ],
      "metadata": {
        "colab": {
          "base_uri": "https://localhost:8080/"
        },
        "id": "KpKMbe5okjHw",
        "outputId": "3a932016-c073-4ed3-e86a-1e956cb941d6"
      },
      "execution_count": 6,
      "outputs": [
        {
          "output_type": "stream",
          "name": "stdout",
          "text": [
            "Downloading count-the-paperclips.zip to /content\n",
            "100% 1.65G/1.65G [00:14<00:00, 165MB/s]\n",
            "100% 1.65G/1.65G [00:14<00:00, 121MB/s]\n"
          ]
        }
      ]
    },
    {
      "cell_type": "code",
      "source": [
        "import zipfile\n",
        "\n",
        "\n",
        "local_zip = '/content/count-the-paperclips.zip'\n",
        "zip_ref = zipfile.ZipFile(local_zip, 'r')\n",
        "zip_ref.extractall('/content/count the paperclips')\n",
        "zip_ref.close()"
      ],
      "metadata": {
        "id": "MexxQtqdm31N"
      },
      "execution_count": 7,
      "outputs": []
    },
    {
      "cell_type": "code",
      "source": [
        "training_set=pd.read_csv(\"/content/count the paperclips/train.csv\")"
      ],
      "metadata": {
        "id": "aSXmikcco8PK"
      },
      "execution_count": 8,
      "outputs": []
    },
    {
      "cell_type": "code",
      "source": [
        "training_set"
      ],
      "metadata": {
        "id": "RwziiEg4VvBM",
        "colab": {
          "base_uri": "https://localhost:8080/",
          "height": 423
        },
        "outputId": "4ccd1a2b-d62c-416c-9070-32d66c636844"
      },
      "execution_count": 9,
      "outputs": [
        {
          "output_type": "execute_result",
          "data": {
            "text/plain": [
              "          id  clip_count\n",
              "0      30001          11\n",
              "1      30002           2\n",
              "2      30003          26\n",
              "3      30004          41\n",
              "4      30005          49\n",
              "...      ...         ...\n",
              "19995  49996          35\n",
              "19996  49997          54\n",
              "19997  49998          72\n",
              "19998  49999          24\n",
              "19999  50000          35\n",
              "\n",
              "[20000 rows x 2 columns]"
            ],
            "text/html": [
              "\n",
              "  <div id=\"df-818b468a-7c68-4168-ae9e-22b0ed845d67\" class=\"colab-df-container\">\n",
              "    <div>\n",
              "<style scoped>\n",
              "    .dataframe tbody tr th:only-of-type {\n",
              "        vertical-align: middle;\n",
              "    }\n",
              "\n",
              "    .dataframe tbody tr th {\n",
              "        vertical-align: top;\n",
              "    }\n",
              "\n",
              "    .dataframe thead th {\n",
              "        text-align: right;\n",
              "    }\n",
              "</style>\n",
              "<table border=\"1\" class=\"dataframe\">\n",
              "  <thead>\n",
              "    <tr style=\"text-align: right;\">\n",
              "      <th></th>\n",
              "      <th>id</th>\n",
              "      <th>clip_count</th>\n",
              "    </tr>\n",
              "  </thead>\n",
              "  <tbody>\n",
              "    <tr>\n",
              "      <th>0</th>\n",
              "      <td>30001</td>\n",
              "      <td>11</td>\n",
              "    </tr>\n",
              "    <tr>\n",
              "      <th>1</th>\n",
              "      <td>30002</td>\n",
              "      <td>2</td>\n",
              "    </tr>\n",
              "    <tr>\n",
              "      <th>2</th>\n",
              "      <td>30003</td>\n",
              "      <td>26</td>\n",
              "    </tr>\n",
              "    <tr>\n",
              "      <th>3</th>\n",
              "      <td>30004</td>\n",
              "      <td>41</td>\n",
              "    </tr>\n",
              "    <tr>\n",
              "      <th>4</th>\n",
              "      <td>30005</td>\n",
              "      <td>49</td>\n",
              "    </tr>\n",
              "    <tr>\n",
              "      <th>...</th>\n",
              "      <td>...</td>\n",
              "      <td>...</td>\n",
              "    </tr>\n",
              "    <tr>\n",
              "      <th>19995</th>\n",
              "      <td>49996</td>\n",
              "      <td>35</td>\n",
              "    </tr>\n",
              "    <tr>\n",
              "      <th>19996</th>\n",
              "      <td>49997</td>\n",
              "      <td>54</td>\n",
              "    </tr>\n",
              "    <tr>\n",
              "      <th>19997</th>\n",
              "      <td>49998</td>\n",
              "      <td>72</td>\n",
              "    </tr>\n",
              "    <tr>\n",
              "      <th>19998</th>\n",
              "      <td>49999</td>\n",
              "      <td>24</td>\n",
              "    </tr>\n",
              "    <tr>\n",
              "      <th>19999</th>\n",
              "      <td>50000</td>\n",
              "      <td>35</td>\n",
              "    </tr>\n",
              "  </tbody>\n",
              "</table>\n",
              "<p>20000 rows × 2 columns</p>\n",
              "</div>\n",
              "    <div class=\"colab-df-buttons\">\n",
              "\n",
              "  <div class=\"colab-df-container\">\n",
              "    <button class=\"colab-df-convert\" onclick=\"convertToInteractive('df-818b468a-7c68-4168-ae9e-22b0ed845d67')\"\n",
              "            title=\"Convert this dataframe to an interactive table.\"\n",
              "            style=\"display:none;\">\n",
              "\n",
              "  <svg xmlns=\"http://www.w3.org/2000/svg\" height=\"24px\" viewBox=\"0 -960 960 960\">\n",
              "    <path d=\"M120-120v-720h720v720H120Zm60-500h600v-160H180v160Zm220 220h160v-160H400v160Zm0 220h160v-160H400v160ZM180-400h160v-160H180v160Zm440 0h160v-160H620v160ZM180-180h160v-160H180v160Zm440 0h160v-160H620v160Z\"/>\n",
              "  </svg>\n",
              "    </button>\n",
              "\n",
              "  <style>\n",
              "    .colab-df-container {\n",
              "      display:flex;\n",
              "      gap: 12px;\n",
              "    }\n",
              "\n",
              "    .colab-df-convert {\n",
              "      background-color: #E8F0FE;\n",
              "      border: none;\n",
              "      border-radius: 50%;\n",
              "      cursor: pointer;\n",
              "      display: none;\n",
              "      fill: #1967D2;\n",
              "      height: 32px;\n",
              "      padding: 0 0 0 0;\n",
              "      width: 32px;\n",
              "    }\n",
              "\n",
              "    .colab-df-convert:hover {\n",
              "      background-color: #E2EBFA;\n",
              "      box-shadow: 0px 1px 2px rgba(60, 64, 67, 0.3), 0px 1px 3px 1px rgba(60, 64, 67, 0.15);\n",
              "      fill: #174EA6;\n",
              "    }\n",
              "\n",
              "    .colab-df-buttons div {\n",
              "      margin-bottom: 4px;\n",
              "    }\n",
              "\n",
              "    [theme=dark] .colab-df-convert {\n",
              "      background-color: #3B4455;\n",
              "      fill: #D2E3FC;\n",
              "    }\n",
              "\n",
              "    [theme=dark] .colab-df-convert:hover {\n",
              "      background-color: #434B5C;\n",
              "      box-shadow: 0px 1px 3px 1px rgba(0, 0, 0, 0.15);\n",
              "      filter: drop-shadow(0px 1px 2px rgba(0, 0, 0, 0.3));\n",
              "      fill: #FFFFFF;\n",
              "    }\n",
              "  </style>\n",
              "\n",
              "    <script>\n",
              "      const buttonEl =\n",
              "        document.querySelector('#df-818b468a-7c68-4168-ae9e-22b0ed845d67 button.colab-df-convert');\n",
              "      buttonEl.style.display =\n",
              "        google.colab.kernel.accessAllowed ? 'block' : 'none';\n",
              "\n",
              "      async function convertToInteractive(key) {\n",
              "        const element = document.querySelector('#df-818b468a-7c68-4168-ae9e-22b0ed845d67');\n",
              "        const dataTable =\n",
              "          await google.colab.kernel.invokeFunction('convertToInteractive',\n",
              "                                                    [key], {});\n",
              "        if (!dataTable) return;\n",
              "\n",
              "        const docLinkHtml = 'Like what you see? Visit the ' +\n",
              "          '<a target=\"_blank\" href=https://colab.research.google.com/notebooks/data_table.ipynb>data table notebook</a>'\n",
              "          + ' to learn more about interactive tables.';\n",
              "        element.innerHTML = '';\n",
              "        dataTable['output_type'] = 'display_data';\n",
              "        await google.colab.output.renderOutput(dataTable, element);\n",
              "        const docLink = document.createElement('div');\n",
              "        docLink.innerHTML = docLinkHtml;\n",
              "        element.appendChild(docLink);\n",
              "      }\n",
              "    </script>\n",
              "  </div>\n",
              "\n",
              "\n",
              "<div id=\"df-45d98076-4501-4918-aa5b-f5a03665eaca\">\n",
              "  <button class=\"colab-df-quickchart\" onclick=\"quickchart('df-45d98076-4501-4918-aa5b-f5a03665eaca')\"\n",
              "            title=\"Suggest charts\"\n",
              "            style=\"display:none;\">\n",
              "\n",
              "<svg xmlns=\"http://www.w3.org/2000/svg\" height=\"24px\"viewBox=\"0 0 24 24\"\n",
              "     width=\"24px\">\n",
              "    <g>\n",
              "        <path d=\"M19 3H5c-1.1 0-2 .9-2 2v14c0 1.1.9 2 2 2h14c1.1 0 2-.9 2-2V5c0-1.1-.9-2-2-2zM9 17H7v-7h2v7zm4 0h-2V7h2v10zm4 0h-2v-4h2v4z\"/>\n",
              "    </g>\n",
              "</svg>\n",
              "  </button>\n",
              "\n",
              "<style>\n",
              "  .colab-df-quickchart {\n",
              "      --bg-color: #E8F0FE;\n",
              "      --fill-color: #1967D2;\n",
              "      --hover-bg-color: #E2EBFA;\n",
              "      --hover-fill-color: #174EA6;\n",
              "      --disabled-fill-color: #AAA;\n",
              "      --disabled-bg-color: #DDD;\n",
              "  }\n",
              "\n",
              "  [theme=dark] .colab-df-quickchart {\n",
              "      --bg-color: #3B4455;\n",
              "      --fill-color: #D2E3FC;\n",
              "      --hover-bg-color: #434B5C;\n",
              "      --hover-fill-color: #FFFFFF;\n",
              "      --disabled-bg-color: #3B4455;\n",
              "      --disabled-fill-color: #666;\n",
              "  }\n",
              "\n",
              "  .colab-df-quickchart {\n",
              "    background-color: var(--bg-color);\n",
              "    border: none;\n",
              "    border-radius: 50%;\n",
              "    cursor: pointer;\n",
              "    display: none;\n",
              "    fill: var(--fill-color);\n",
              "    height: 32px;\n",
              "    padding: 0;\n",
              "    width: 32px;\n",
              "  }\n",
              "\n",
              "  .colab-df-quickchart:hover {\n",
              "    background-color: var(--hover-bg-color);\n",
              "    box-shadow: 0 1px 2px rgba(60, 64, 67, 0.3), 0 1px 3px 1px rgba(60, 64, 67, 0.15);\n",
              "    fill: var(--button-hover-fill-color);\n",
              "  }\n",
              "\n",
              "  .colab-df-quickchart-complete:disabled,\n",
              "  .colab-df-quickchart-complete:disabled:hover {\n",
              "    background-color: var(--disabled-bg-color);\n",
              "    fill: var(--disabled-fill-color);\n",
              "    box-shadow: none;\n",
              "  }\n",
              "\n",
              "  .colab-df-spinner {\n",
              "    border: 2px solid var(--fill-color);\n",
              "    border-color: transparent;\n",
              "    border-bottom-color: var(--fill-color);\n",
              "    animation:\n",
              "      spin 1s steps(1) infinite;\n",
              "  }\n",
              "\n",
              "  @keyframes spin {\n",
              "    0% {\n",
              "      border-color: transparent;\n",
              "      border-bottom-color: var(--fill-color);\n",
              "      border-left-color: var(--fill-color);\n",
              "    }\n",
              "    20% {\n",
              "      border-color: transparent;\n",
              "      border-left-color: var(--fill-color);\n",
              "      border-top-color: var(--fill-color);\n",
              "    }\n",
              "    30% {\n",
              "      border-color: transparent;\n",
              "      border-left-color: var(--fill-color);\n",
              "      border-top-color: var(--fill-color);\n",
              "      border-right-color: var(--fill-color);\n",
              "    }\n",
              "    40% {\n",
              "      border-color: transparent;\n",
              "      border-right-color: var(--fill-color);\n",
              "      border-top-color: var(--fill-color);\n",
              "    }\n",
              "    60% {\n",
              "      border-color: transparent;\n",
              "      border-right-color: var(--fill-color);\n",
              "    }\n",
              "    80% {\n",
              "      border-color: transparent;\n",
              "      border-right-color: var(--fill-color);\n",
              "      border-bottom-color: var(--fill-color);\n",
              "    }\n",
              "    90% {\n",
              "      border-color: transparent;\n",
              "      border-bottom-color: var(--fill-color);\n",
              "    }\n",
              "  }\n",
              "</style>\n",
              "\n",
              "  <script>\n",
              "    async function quickchart(key) {\n",
              "      const quickchartButtonEl =\n",
              "        document.querySelector('#' + key + ' button');\n",
              "      quickchartButtonEl.disabled = true;  // To prevent multiple clicks.\n",
              "      quickchartButtonEl.classList.add('colab-df-spinner');\n",
              "      try {\n",
              "        const charts = await google.colab.kernel.invokeFunction(\n",
              "            'suggestCharts', [key], {});\n",
              "      } catch (error) {\n",
              "        console.error('Error during call to suggestCharts:', error);\n",
              "      }\n",
              "      quickchartButtonEl.classList.remove('colab-df-spinner');\n",
              "      quickchartButtonEl.classList.add('colab-df-quickchart-complete');\n",
              "    }\n",
              "    (() => {\n",
              "      let quickchartButtonEl =\n",
              "        document.querySelector('#df-45d98076-4501-4918-aa5b-f5a03665eaca button');\n",
              "      quickchartButtonEl.style.display =\n",
              "        google.colab.kernel.accessAllowed ? 'block' : 'none';\n",
              "    })();\n",
              "  </script>\n",
              "</div>\n",
              "\n",
              "  <div id=\"id_0ce958a8-b35b-40db-adda-1c113966836e\">\n",
              "    <style>\n",
              "      .colab-df-generate {\n",
              "        background-color: #E8F0FE;\n",
              "        border: none;\n",
              "        border-radius: 50%;\n",
              "        cursor: pointer;\n",
              "        display: none;\n",
              "        fill: #1967D2;\n",
              "        height: 32px;\n",
              "        padding: 0 0 0 0;\n",
              "        width: 32px;\n",
              "      }\n",
              "\n",
              "      .colab-df-generate:hover {\n",
              "        background-color: #E2EBFA;\n",
              "        box-shadow: 0px 1px 2px rgba(60, 64, 67, 0.3), 0px 1px 3px 1px rgba(60, 64, 67, 0.15);\n",
              "        fill: #174EA6;\n",
              "      }\n",
              "\n",
              "      [theme=dark] .colab-df-generate {\n",
              "        background-color: #3B4455;\n",
              "        fill: #D2E3FC;\n",
              "      }\n",
              "\n",
              "      [theme=dark] .colab-df-generate:hover {\n",
              "        background-color: #434B5C;\n",
              "        box-shadow: 0px 1px 3px 1px rgba(0, 0, 0, 0.15);\n",
              "        filter: drop-shadow(0px 1px 2px rgba(0, 0, 0, 0.3));\n",
              "        fill: #FFFFFF;\n",
              "      }\n",
              "    </style>\n",
              "    <button class=\"colab-df-generate\" onclick=\"generateWithVariable('training_set')\"\n",
              "            title=\"Generate code using this dataframe.\"\n",
              "            style=\"display:none;\">\n",
              "\n",
              "  <svg xmlns=\"http://www.w3.org/2000/svg\" height=\"24px\"viewBox=\"0 0 24 24\"\n",
              "       width=\"24px\">\n",
              "    <path d=\"M7,19H8.4L18.45,9,17,7.55,7,17.6ZM5,21V16.75L18.45,3.32a2,2,0,0,1,2.83,0l1.4,1.43a1.91,1.91,0,0,1,.58,1.4,1.91,1.91,0,0,1-.58,1.4L9.25,21ZM18.45,9,17,7.55Zm-12,3A5.31,5.31,0,0,0,4.9,8.1,5.31,5.31,0,0,0,1,6.5,5.31,5.31,0,0,0,4.9,4.9,5.31,5.31,0,0,0,6.5,1,5.31,5.31,0,0,0,8.1,4.9,5.31,5.31,0,0,0,12,6.5,5.46,5.46,0,0,0,6.5,12Z\"/>\n",
              "  </svg>\n",
              "    </button>\n",
              "    <script>\n",
              "      (() => {\n",
              "      const buttonEl =\n",
              "        document.querySelector('#id_0ce958a8-b35b-40db-adda-1c113966836e button.colab-df-generate');\n",
              "      buttonEl.style.display =\n",
              "        google.colab.kernel.accessAllowed ? 'block' : 'none';\n",
              "\n",
              "      buttonEl.onclick = () => {\n",
              "        google.colab.notebook.generateWithVariable('training_set');\n",
              "      }\n",
              "      })();\n",
              "    </script>\n",
              "  </div>\n",
              "\n",
              "    </div>\n",
              "  </div>\n"
            ],
            "application/vnd.google.colaboratory.intrinsic+json": {
              "type": "dataframe",
              "variable_name": "training_set",
              "summary": "{\n  \"name\": \"training_set\",\n  \"rows\": 20000,\n  \"fields\": [\n    {\n      \"column\": \"id\",\n      \"properties\": {\n        \"dtype\": \"number\",\n        \"std\": 5773,\n        \"min\": 30001,\n        \"max\": 50000,\n        \"samples\": [\n          40651,\n          32042,\n          38669\n        ],\n        \"num_unique_values\": 20000,\n        \"semantic_type\": \"\",\n        \"description\": \"\"\n      }\n    },\n    {\n      \"column\": \"clip_count\",\n      \"properties\": {\n        \"dtype\": \"number\",\n        \"std\": 21,\n        \"min\": 0,\n        \"max\": 75,\n        \"samples\": [\n          49,\n          47,\n          13\n        ],\n        \"num_unique_values\": 76,\n        \"semantic_type\": \"\",\n        \"description\": \"\"\n      }\n    }\n  ]\n}"
            }
          },
          "metadata": {},
          "execution_count": 9
        }
      ]
    },
    {
      "cell_type": "code",
      "source": [
        "training_dict={}\n",
        "for i in range(len(training_set[\"id\"])):\n",
        "  training_dict[training_set[\"id\"][i]]=training_set[\"clip_count\"][i]"
      ],
      "metadata": {
        "id": "6nVa_Dfq9kQE"
      },
      "execution_count": 10,
      "outputs": []
    },
    {
      "cell_type": "code",
      "source": [
        "'''\n",
        "Here, I have created a list that stores \"id's\" of all the images in the training set\n",
        "'''\n",
        "train_img_ids_list=[]\n",
        "#len(training_set[\"id\"])\n",
        "for i in range(len(training_set[\"id\"])):\n",
        "  train_img_ids_list.append(training_set[\"id\"][i])"
      ],
      "metadata": {
        "id": "am1SvGpQmRE5"
      },
      "execution_count": 11,
      "outputs": []
    },
    {
      "cell_type": "code",
      "source": [
        "len(train_img_ids_list) #The output of this should be 20000(Size of Training Set)"
      ],
      "metadata": {
        "colab": {
          "base_uri": "https://localhost:8080/"
        },
        "id": "sE0fvowrn2LR",
        "outputId": "99f7f583-1998-4139-bfbb-53295b50826b"
      },
      "execution_count": 12,
      "outputs": [
        {
          "output_type": "execute_result",
          "data": {
            "text/plain": [
              "20000"
            ]
          },
          "metadata": {},
          "execution_count": 12
        }
      ]
    },
    {
      "cell_type": "markdown",
      "source": [
        "The data_loader() function I have defined below takes as input the **train_img_ids_list** and **training_set**(which is basically the train.csv file). It generates a random Image ID from the training set and provides as output the path to that image and the training_label(which is basically the ***number of clips***)"
      ],
      "metadata": {
        "id": "dtJJqRVl7nha"
      }
    },
    {
      "cell_type": "code",
      "source": [
        "import random\n",
        "def data_loader(train_img_ids_list,training_set):\n",
        "  '''\n",
        "  I have already created the training_set to store train.csv and hence I am taking it as an input to the function\n",
        "  '''\n",
        "  input_img_id=random.randint(0,len(train_img_ids_list)-1)\n",
        "  input_img_id_1=train_img_ids_list[input_img_id]\n",
        "  image_path_dir='/content/count the paperclips/clips-data-2020/clips'\n",
        "  image_path=os.path.join(image_path_dir,'clips-'+str(input_img_id_1)+'.png')\n",
        "  #img=cv2.imread(image_path)\n",
        "  #RGB_img = cv2.cvtColor(img, cv2.COLOR_BGR2RGB)\n",
        "  training_label=training_set[\"clip_count\"][input_img_id]\n",
        "\n",
        "  return image_path,training_label,input_img_id_1\n",
        "\n"
      ],
      "metadata": {
        "id": "8trUxiSgXoMk"
      },
      "execution_count": 13,
      "outputs": []
    },
    {
      "cell_type": "code",
      "source": [
        "image_path,training_label,image_id=data_loader(train_img_ids_list,training_set)"
      ],
      "metadata": {
        "id": "lW3wqjkO3dbv"
      },
      "execution_count": 14,
      "outputs": []
    },
    {
      "cell_type": "code",
      "source": [
        "image_path"
      ],
      "metadata": {
        "colab": {
          "base_uri": "https://localhost:8080/",
          "height": 36
        },
        "id": "TvMvQMUs5mqU",
        "outputId": "be0c6970-4908-44f1-debb-4032c2f24c4c"
      },
      "execution_count": 15,
      "outputs": [
        {
          "output_type": "execute_result",
          "data": {
            "text/plain": [
              "'/content/count the paperclips/clips-data-2020/clips/clips-38254.png'"
            ],
            "application/vnd.google.colaboratory.intrinsic+json": {
              "type": "string"
            }
          },
          "metadata": {},
          "execution_count": 15
        }
      ]
    },
    {
      "cell_type": "code",
      "source": [
        "training_label"
      ],
      "metadata": {
        "colab": {
          "base_uri": "https://localhost:8080/"
        },
        "id": "mSC4jjCl5rCo",
        "outputId": "910a5f76-64e6-4347-99e8-eda3420132f6"
      },
      "execution_count": 16,
      "outputs": [
        {
          "output_type": "execute_result",
          "data": {
            "text/plain": [
              "44"
            ]
          },
          "metadata": {},
          "execution_count": 16
        }
      ]
    },
    {
      "cell_type": "code",
      "source": [
        "img=cv2.imread(image_path)\n",
        "RGB_img = cv2.cvtColor(img, cv2.COLOR_BGR2RGB)"
      ],
      "metadata": {
        "id": "r_3Zrcgr57yv"
      },
      "execution_count": 17,
      "outputs": []
    },
    {
      "cell_type": "code",
      "source": [
        "plt.imshow(RGB_img)\n"
      ],
      "metadata": {
        "colab": {
          "base_uri": "https://localhost:8080/",
          "height": 452
        },
        "id": "YrKDM_FJ6n0N",
        "outputId": "3bd200b2-d8cf-4b59-d56e-1c8ec93cce4e"
      },
      "execution_count": 18,
      "outputs": [
        {
          "output_type": "execute_result",
          "data": {
            "text/plain": [
              "<matplotlib.image.AxesImage at 0x78a249667490>"
            ]
          },
          "metadata": {},
          "execution_count": 18
        },
        {
          "output_type": "display_data",
          "data": {
            "text/plain": [
              "<Figure size 640x480 with 1 Axes>"
            ],
            "image/png": "[encoded data removed]"
          },
          "metadata": {}
        }
      ]
    },
    {
      "cell_type": "markdown",
      "source": [
        "In the next cell, I have converted the image to a Tensor"
      ],
      "metadata": {
        "id": "zN5Fk5uLDTQh"
      }
    },
    {
      "cell_type": "code",
      "source": [
        "#image = Image.open(img)\n",
        "def convert_to_Tensor(image):\n",
        "  transform = transforms.Compose([transforms.ToTensor()])\n",
        "  img_tensor = transform(image)\n",
        "  return img_tensor\n"
      ],
      "metadata": {
        "id": "eexSraJW6tJS"
      },
      "execution_count": 19,
      "outputs": []
    },
    {
      "cell_type": "code",
      "source": [
        "img_tensor=convert_to_Tensor(RGB_img)\n",
        "print(img_tensor)\n",
        "#img_tensor.size()\n"
      ],
      "metadata": {
        "colab": {
          "base_uri": "https://localhost:8080/"
        },
        "id": "hw_gf6gfI0c9",
        "outputId": "e6e734f5-1b90-4e6f-d3a5-52b076e2d0de"
      },
      "execution_count": 20,
      "outputs": [
        {
          "output_type": "stream",
          "name": "stdout",
          "text": [
            "tensor([[[1.0000, 1.0000, 1.0000,  ..., 1.0000, 1.0000, 1.0000],\n",
            "         [1.0000, 1.0000, 1.0000,  ..., 1.0000, 1.0000, 1.0000],\n",
            "         [1.0000, 1.0000, 1.0000,  ..., 1.0000, 1.0000, 1.0000],\n",
            "         ...,\n",
            "         [0.6078, 0.6078, 0.6078,  ..., 0.6078, 0.6078, 0.6078],\n",
            "         [1.0000, 1.0000, 1.0000,  ..., 1.0000, 1.0000, 1.0000],\n",
            "         [0.9569, 0.9569, 0.9569,  ..., 0.9569, 0.9569, 0.9569]],\n",
            "\n",
            "        [[1.0000, 1.0000, 1.0000,  ..., 1.0000, 1.0000, 1.0000],\n",
            "         [1.0000, 1.0000, 1.0000,  ..., 1.0000, 1.0000, 1.0000],\n",
            "         [1.0000, 1.0000, 1.0000,  ..., 1.0000, 1.0000, 1.0000],\n",
            "         ...,\n",
            "         [0.7255, 0.7255, 0.7255,  ..., 0.7255, 0.7255, 0.7255],\n",
            "         [1.0000, 1.0000, 1.0000,  ..., 1.0000, 1.0000, 1.0000],\n",
            "         [0.9804, 0.9804, 0.9804,  ..., 0.9804, 0.9804, 0.9804]],\n",
            "\n",
            "        [[1.0000, 1.0000, 1.0000,  ..., 1.0000, 1.0000, 1.0000],\n",
            "         [1.0000, 1.0000, 1.0000,  ..., 1.0000, 1.0000, 1.0000],\n",
            "         [1.0000, 1.0000, 1.0000,  ..., 1.0000, 1.0000, 1.0000],\n",
            "         ...,\n",
            "         [0.9843, 0.9843, 0.9843,  ..., 0.9843, 0.9804, 0.9843],\n",
            "         [1.0000, 1.0000, 1.0000,  ..., 1.0000, 1.0000, 1.0000],\n",
            "         [0.9765, 0.9765, 0.9765,  ..., 0.9765, 0.9765, 0.9765]]])\n"
          ]
        }
      ]
    },
    {
      "cell_type": "code",
      "source": [
        "img_tensor.size()"
      ],
      "metadata": {
        "colab": {
          "base_uri": "https://localhost:8080/"
        },
        "id": "pwiBS-Uh7uEo",
        "outputId": "420b975c-b663-4633-d7ca-8207357b1be5"
      },
      "execution_count": 21,
      "outputs": [
        {
          "output_type": "execute_result",
          "data": {
            "text/plain": [
              "torch.Size([3, 256, 256])"
            ]
          },
          "metadata": {},
          "execution_count": 21
        }
      ]
    },
    {
      "cell_type": "markdown",
      "source": [
        "The above command(and output) shows that the shape of the image is in the form (channels,height,width)"
      ],
      "metadata": {
        "id": "Dw27m-qNTONr"
      }
    },
    {
      "cell_type": "code",
      "source": [
        "#I have created a folder named RESIZED_IMAGE_FOLDER in the current working directory\n",
        "!mkdir RESIZED_IMAGE_FOLDER\n"
      ],
      "metadata": {
        "id": "dRxfSt38SobV"
      },
      "execution_count": 22,
      "outputs": []
    },
    {
      "cell_type": "code",
      "source": [
        "#I have saved the resized image in the above created folder\n",
        "resized_image=cv2.resize(RGB_img,(28,28))\n",
        "resized_image_output_path=os.path.join('/content/RESIZED_IMAGE_FOLDER','resized_image.png')\n",
        "cv2.imwrite(resized_image_output_path,resized_image)"
      ],
      "metadata": {
        "colab": {
          "base_uri": "https://localhost:8080/"
        },
        "id": "iv58yw5Tzzaf",
        "outputId": "8ea5e2e7-a31b-433c-97e2-010501198747"
      },
      "execution_count": 23,
      "outputs": [
        {
          "output_type": "execute_result",
          "data": {
            "text/plain": [
              "True"
            ]
          },
          "metadata": {},
          "execution_count": 23
        }
      ]
    },
    {
      "cell_type": "code",
      "source": [
        "plt.imshow(resized_image)"
      ],
      "metadata": {
        "colab": {
          "base_uri": "https://localhost:8080/",
          "height": 447
        },
        "id": "vEbBK6xFsOyb",
        "outputId": "57609f85-833f-4481-84a9-940f140efaf4"
      },
      "execution_count": 24,
      "outputs": [
        {
          "output_type": "execute_result",
          "data": {
            "text/plain": [
              "<matplotlib.image.AxesImage at 0x78a249817af0>"
            ]
          },
          "metadata": {},
          "execution_count": 24
        },
        {
          "output_type": "display_data",
          "data": {
            "text/plain": [
              "<Figure size 640x480 with 1 Axes>"
            ],
            "image/png": "[encoded data removed]"
          },
          "metadata": {}
        }
      ]
    },
    {
      "cell_type": "code",
      "source": [
        "resized_image_Tensor=convert_to_Tensor(resized_image)\n",
        "print(resized_image_Tensor)"
      ],
      "metadata": {
        "id": "KcsfafGcscmr",
        "colab": {
          "base_uri": "https://localhost:8080/"
        },
        "outputId": "24094d5d-8aa8-4929-f1d2-777eaae45ce2"
      },
      "execution_count": 25,
      "outputs": [
        {
          "output_type": "stream",
          "name": "stdout",
          "text": [
            "tensor([[[1.0000, 1.0000, 0.8078,  ..., 0.9882, 1.0000, 1.0000],\n",
            "         [1.0000, 1.0000, 0.6745,  ..., 1.0000, 0.9804, 1.0000],\n",
            "         [1.0000, 0.9686, 1.0000,  ..., 0.6353, 0.6549, 1.0000],\n",
            "         ...,\n",
            "         [1.0000, 1.0000, 1.0000,  ..., 0.9961, 0.6902, 1.0000],\n",
            "         [0.9961, 0.9961, 0.9961,  ..., 0.6667, 0.9961, 0.6431],\n",
            "         [1.0000, 1.0000, 1.0000,  ..., 0.6353, 1.0000, 0.7765]],\n",
            "\n",
            "        [[1.0000, 1.0000, 0.8078,  ..., 0.9882, 1.0000, 1.0000],\n",
            "         [1.0000, 1.0000, 0.5412,  ..., 1.0000, 0.9804, 1.0000],\n",
            "         [1.0000, 0.9686, 0.8000,  ..., 0.6353, 0.6588, 1.0000],\n",
            "         ...,\n",
            "         [1.0000, 1.0000, 0.8000,  ..., 0.9961, 0.6902, 1.0000],\n",
            "         [1.0000, 1.0000, 0.8000,  ..., 0.6706, 0.9961, 0.6431],\n",
            "         [1.0000, 1.0000, 0.8078,  ..., 0.6353, 1.0000, 0.7765]],\n",
            "\n",
            "        [[1.0000, 1.0000, 0.8078,  ..., 0.9882, 1.0000, 1.0000],\n",
            "         [1.0000, 1.0000, 0.5451,  ..., 1.0000, 0.9804, 1.0000],\n",
            "         [1.0000, 0.9686, 0.7961,  ..., 0.6392, 0.6588, 1.0000],\n",
            "         ...,\n",
            "         [1.0000, 1.0000, 0.7961,  ..., 0.9961, 0.6941, 1.0000],\n",
            "         [0.9961, 0.9961, 0.7961,  ..., 0.6745, 0.9961, 0.6431],\n",
            "         [1.0000, 1.0000, 0.7922,  ..., 0.6471, 1.0000, 0.7804]]])\n"
          ]
        }
      ]
    },
    {
      "cell_type": "code",
      "source": [
        "resized_image_Tensor.size()"
      ],
      "metadata": {
        "colab": {
          "base_uri": "https://localhost:8080/"
        },
        "id": "4E4UOL1u8ep3",
        "outputId": "5662bb9e-8fc5-4829-ef2d-95280c5497af"
      },
      "execution_count": 26,
      "outputs": [
        {
          "output_type": "execute_result",
          "data": {
            "text/plain": [
              "torch.Size([3, 28, 28])"
            ]
          },
          "metadata": {},
          "execution_count": 26
        }
      ]
    },
    {
      "cell_type": "markdown",
      "source": [
        "I have performed rotation of image next. I have defined a function for the same. My roll number is 20QM30001. So, the last 2 digits means 1. Hence, I have done random rotations between [-1,1] degrees(for image augmentation)."
      ],
      "metadata": {
        "id": "ZDcCf_Rs9n0z"
      }
    },
    {
      "cell_type": "code",
      "source": [
        "'''\n",
        "I have created a folder named \"ROTATED_IMAGE_FOLDER\" in the current working directory and saved the\n",
        "Rotated Image in the folder.\n",
        "'''\n",
        "!mkdir ROTATED_IMAGE_FOLDER\n",
        "def random_rotation_augmentation(input_image_path,output_image_path,angle_range=(-1, 1)):\n",
        "    image = Image.open(input_image_path)\n",
        "\n",
        "    rotation_angle = random.uniform(angle_range[0], angle_range[1])\n",
        "\n",
        "    rotated_image = image.rotate(rotation_angle)\n",
        "\n",
        "    rotated_image.save(output_image_path)\n",
        "\n"
      ],
      "metadata": {
        "id": "c9g9iJ-CTe8C"
      },
      "execution_count": 27,
      "outputs": []
    },
    {
      "cell_type": "code",
      "source": [
        "'''\n",
        "The above function saves the Output Image(obtained after random rotation) in a certain specified directory which\n",
        "I created. The name of the directory is \"OUTPUT_IMAGE_FOLDER\"\n",
        "'''\n",
        "\n",
        "resized_image_path = \"/content/RESIZED_IMAGE_FOLDER/resized_image.png\"\n",
        "\n",
        "\n",
        "random_rotation_augmentation(resized_image_path,'/content/ROTATED_IMAGE_FOLDER/Rotated_Image.png')\n"
      ],
      "metadata": {
        "id": "7GOMeDSeTuy3"
      },
      "execution_count": 28,
      "outputs": []
    },
    {
      "cell_type": "markdown",
      "source": [
        "I defined a function to read Image from a directory using cv2 and read it in the order of \"R,G,B\"."
      ],
      "metadata": {
        "id": "Mzy5PnVzwsLL"
      }
    },
    {
      "cell_type": "code",
      "source": [
        "def read_image(image_path):\n",
        "  image=cv2.imread(image_path)\n",
        "  #RGB_image = cv2.cvtColor(image, cv2.COLOR_BGR2RGB)\n",
        "  return image\n"
      ],
      "metadata": {
        "id": "COZ_-tVnCQr_"
      },
      "execution_count": 29,
      "outputs": []
    },
    {
      "cell_type": "code",
      "source": [
        "#This cell shows the Output Image(which is randomly rotated in the range(-1,1))\n",
        "img_resized_rotated=cv2.imread('/content/ROTATED_IMAGE_FOLDER/Rotated_Image.png')\n",
        "plt.imshow(img_resized_rotated)"
      ],
      "metadata": {
        "colab": {
          "base_uri": "https://localhost:8080/",
          "height": 447
        },
        "id": "zW4Tu_o4uYdk",
        "outputId": "cddda3ed-f4c8-4916-aa83-03b2495ed3d6"
      },
      "execution_count": 30,
      "outputs": [
        {
          "output_type": "execute_result",
          "data": {
            "text/plain": [
              "<matplotlib.image.AxesImage at 0x78a25e281d20>"
            ]
          },
          "metadata": {},
          "execution_count": 30
        },
        {
          "output_type": "display_data",
          "data": {
            "text/plain": [
              "<Figure size 640x480 with 1 Axes>"
            ],
            "image/png": "[encoded data removed]"
          },
          "metadata": {}
        }
      ]
    },
    {
      "cell_type": "markdown",
      "source": [
        "Next, I have performed Random Horizontal Flipping with probability value of 1/100=0.01.(as the last 2 digits of my roll no. is 01)"
      ],
      "metadata": {
        "id": "eDWwMyg9491S"
      }
    },
    {
      "cell_type": "code",
      "source": [
        "def random_horizontal_flipping(image,probability=0.01):\n",
        "  if np.random.rand() < probability: #To randomly flip the image\n",
        "    image = cv2.flip(image, 1)\n",
        "  return image\n"
      ],
      "metadata": {
        "id": "eXMDXvZgxdMM"
      },
      "execution_count": 31,
      "outputs": []
    },
    {
      "cell_type": "code",
      "source": [
        "H_flipped_image=random_horizontal_flipping(img_resized_rotated)\n",
        "#RGB_H_flipped_image=cv2.cvtColor(H_flipped_image,cv2.COLOR_BGR2RGB)\n",
        "plt.imshow(H_flipped_image)"
      ],
      "metadata": {
        "colab": {
          "base_uri": "https://localhost:8080/",
          "height": 447
        },
        "id": "Z67w0kWH88Ga",
        "outputId": "d7f2282b-08bb-432a-9fc4-d5c8b5c73c4b"
      },
      "execution_count": 32,
      "outputs": [
        {
          "output_type": "execute_result",
          "data": {
            "text/plain": [
              "<matplotlib.image.AxesImage at 0x78a2472692d0>"
            ]
          },
          "metadata": {},
          "execution_count": 32
        },
        {
          "output_type": "display_data",
          "data": {
            "text/plain": [
              "<Figure size 640x480 with 1 Axes>"
            ],
            "image/png": "[encoded data removed]"
          },
          "metadata": {}
        }
      ]
    },
    {
      "cell_type": "code",
      "source": [
        "H_flipped_image_Tensor=convert_to_Tensor(H_flipped_image)\n",
        "print(H_flipped_image_Tensor)"
      ],
      "metadata": {
        "colab": {
          "base_uri": "https://localhost:8080/"
        },
        "id": "48rojYWo-1PD",
        "outputId": "a2e7a779-df90-4829-9fce-15e7301579c1"
      },
      "execution_count": 33,
      "outputs": [
        {
          "output_type": "stream",
          "name": "stdout",
          "text": [
            "tensor([[[1.0000, 1.0000, 0.8078,  ..., 0.9882, 1.0000, 1.0000],\n",
            "         [1.0000, 1.0000, 0.6745,  ..., 1.0000, 0.9804, 1.0000],\n",
            "         [1.0000, 0.9686, 1.0000,  ..., 0.6353, 0.6549, 1.0000],\n",
            "         ...,\n",
            "         [1.0000, 1.0000, 1.0000,  ..., 0.9961, 0.6902, 1.0000],\n",
            "         [0.9961, 0.9961, 0.9961,  ..., 0.6667, 0.9961, 0.6431],\n",
            "         [1.0000, 1.0000, 1.0000,  ..., 0.6353, 1.0000, 0.7765]],\n",
            "\n",
            "        [[1.0000, 1.0000, 0.8078,  ..., 0.9882, 1.0000, 1.0000],\n",
            "         [1.0000, 1.0000, 0.5412,  ..., 1.0000, 0.9804, 1.0000],\n",
            "         [1.0000, 0.9686, 0.8000,  ..., 0.6353, 0.6588, 1.0000],\n",
            "         ...,\n",
            "         [1.0000, 1.0000, 0.8000,  ..., 0.9961, 0.6902, 1.0000],\n",
            "         [1.0000, 1.0000, 0.8000,  ..., 0.6706, 0.9961, 0.6431],\n",
            "         [1.0000, 1.0000, 0.8078,  ..., 0.6353, 1.0000, 0.7765]],\n",
            "\n",
            "        [[1.0000, 1.0000, 0.8078,  ..., 0.9882, 1.0000, 1.0000],\n",
            "         [1.0000, 1.0000, 0.5451,  ..., 1.0000, 0.9804, 1.0000],\n",
            "         [1.0000, 0.9686, 0.7961,  ..., 0.6392, 0.6588, 1.0000],\n",
            "         ...,\n",
            "         [1.0000, 1.0000, 0.7961,  ..., 0.9961, 0.6941, 1.0000],\n",
            "         [0.9961, 0.9961, 0.7961,  ..., 0.6745, 0.9961, 0.6431],\n",
            "         [1.0000, 1.0000, 0.7922,  ..., 0.6471, 1.0000, 0.7804]]])\n"
          ]
        }
      ]
    },
    {
      "cell_type": "markdown",
      "source": [
        "For Normalizing each channel of the image, 1st I need to convert the img_tensor(Tensor form of the Image) to a Numpy array and then compute the mean and standard deviation."
      ],
      "metadata": {
        "id": "fHDKWuhIAvjH"
      }
    },
    {
      "cell_type": "code",
      "source": [
        "numpy_img=H_flipped_image_Tensor.numpy()\n",
        "numpy_img.shape"
      ],
      "metadata": {
        "colab": {
          "base_uri": "https://localhost:8080/"
        },
        "id": "fCAZkgx7AkKn",
        "outputId": "1ed06656-8ae3-4ef1-8f05-9f2072010980"
      },
      "execution_count": 34,
      "outputs": [
        {
          "output_type": "execute_result",
          "data": {
            "text/plain": [
              "(3, 28, 28)"
            ]
          },
          "metadata": {},
          "execution_count": 34
        }
      ]
    },
    {
      "cell_type": "markdown",
      "source": [
        "The cell below takes in an input array(2-D array),creates a duplicate array of it, computes the mean and standard deviation, normalizes each element of the duplicated array and gives as output the duplicated array"
      ],
      "metadata": {
        "id": "-Z8VY7B7IpbF"
      }
    },
    {
      "cell_type": "code",
      "source": [
        "'''\n",
        "numpy_img[0] : This would denote a (256,256) dimensional array corresponding to the R channel\n",
        "numpy_img[1] : This would denote a (256,256) dimensional array corresponding to the G channel\n",
        "numpy_img[2] : This would denote a (256,256) dimensional array corresponding to the B channel\n",
        "'''\n",
        "import math\n",
        "\n",
        "def Normalize_matrix(input_arr):\n",
        "  r=input_arr.shape[0]\n",
        "  c=input_arr.shape[1]\n",
        "  output_arr=np.zeros((r,c))\n",
        "  for i in range(r):\n",
        "    for j in range(c):\n",
        "      output_arr[i][j]=input_arr[i][j]\n",
        "  sum=0\n",
        "  for i in range(r):\n",
        "    for j in range(c):\n",
        "      sum=sum+output_arr[i][j]\n",
        "  mean=sum/(r*c)\n",
        "  output_arr=output_arr-mean\n",
        "  sq_sum=0\n",
        "  for i in range(r):\n",
        "    for j in range(c):\n",
        "      sq_sum=sq_sum+(output_arr[i][j])**2\n",
        "  tot_nums=(r*c)\n",
        "  variance=sq_sum/(tot_nums-1)\n",
        "  st_dev=math.sqrt(variance)\n",
        "  for i in range(r):\n",
        "    for j in range(c):\n",
        "      output_arr[i][j]=output_arr[i][j]/st_dev\n",
        "\n",
        "  return output_arr\n"
      ],
      "metadata": {
        "id": "3Rh4TC7zBQbq"
      },
      "execution_count": 35,
      "outputs": []
    },
    {
      "cell_type": "code",
      "source": [
        "R_channel_normalized_output=Normalize_matrix(numpy_img[0])\n",
        "G_channel_normalized_output=Normalize_matrix(numpy_img[1])\n",
        "B_channel_normalized_output=Normalize_matrix(numpy_img[2])"
      ],
      "metadata": {
        "id": "1-bQTGCRBipe"
      },
      "execution_count": 36,
      "outputs": []
    },
    {
      "cell_type": "code",
      "source": [
        "R_channel_normalized_output"
      ],
      "metadata": {
        "colab": {
          "base_uri": "https://localhost:8080/"
        },
        "id": "cKC-QhbPKape",
        "outputId": "dd53e1ea-fee0-4a38-fd49-49893cd99cb1"
      },
      "execution_count": 37,
      "outputs": [
        {
          "output_type": "execute_result",
          "data": {
            "text/plain": [
              "array([[ 0.70277902,  0.70277902, -0.7597323 ,  0.70277902, -0.64034362,\n",
              "         0.70277902, -1.95361909,  0.70277902,  0.70277902,  0.70277902,\n",
              "         0.67293186,  0.67293186, -0.1627889 ,  0.70277902,  0.70277902,\n",
              "         0.70277902,  0.70277902,  0.70277902, -0.78957947, -1.98346626,\n",
              "        -2.3416323 ,  0.70277902,  0.04614129,  0.67293186,  0.70277902,\n",
              "         0.61323752,  0.70277902,  0.70277902],\n",
              "       [ 0.70277902,  0.70277902, -1.77453607,  0.01629412,  0.70277902,\n",
              "         0.64308469,  0.67293186, -1.71484173,  0.70277902,  0.70277902,\n",
              "         0.70277902, -1.47606437,  0.70277902,  0.25507148,  0.70277902,\n",
              "         0.70277902,  0.70277902,  0.70277902,  0.70277902, -2.61025683,\n",
              "        -0.52095494, -2.16254928,  0.67293186,  0.70277902, -2.31178513,\n",
              "         0.70277902,  0.55354318,  0.70277902],\n",
              "       [ 0.70277902,  0.46400167,  0.70277902, -1.68499456,  0.1356828 ,\n",
              "        -0.04340022,  0.49384884,  0.67293186,  0.70277902,  0.70277902,\n",
              "        -1.50591154,  0.70277902,  0.64308469,  0.70277902,  0.67293186,\n",
              "         0.16552997,  0.70277902,  0.70277902,  0.70277902,  0.64308469,\n",
              "        -1.7446889 , -2.25209079, -0.93881532, -2.10285494, -1.14774551,\n",
              "        -2.07300777, -1.92377192,  0.70277902],\n",
              "       [ 0.70277902, -0.78957947,  0.67293186, -0.52095494, -1.7446889 ,\n",
              "         0.67293186,  0.31476582,  0.67293186,  0.70277902,  0.70277902,\n",
              "        -1.56560588,  0.67293186, -1.14774551,  0.70277902,  0.70277902,\n",
              "        -0.58064928,  0.70277902,  0.70277902,  0.70277902,  0.67293186,\n",
              "         0.64308469, -2.0431606 , -2.52071532, -2.19239645, -2.640104  ,\n",
              "        -0.96866249, -1.23728702,  0.1356828 ],\n",
              "       [ 0.64308469,  0.64308469, -0.19263607, -2.37147947, -2.37147947,\n",
              "        -1.68499456, -1.80438324, -0.40156626,  0.64308469,  0.64308469,\n",
              "         0.64308469, -1.68499456, -1.4462172 ,  0.52369601, -0.84927381,\n",
              "         0.64308469, -0.40156626,  0.64308469,  0.64308469,  0.64308469,\n",
              "         0.64308469,  0.64308469,  0.61323752, -0.10309456, -1.50591154,\n",
              "        -1.20743985, -1.20743985, -1.53575871],\n",
              "       [ 0.70277902,  0.70277902, -1.7446889 , -1.23728702, -2.07300777,\n",
              "         0.70277902, -1.77453607, -0.90896815,  0.70277902,  0.70277902,\n",
              "         0.70277902,  0.67293186,  0.67293186, -1.68499456,  0.70277902,\n",
              "        -0.70003796,  0.67293186,  0.52369601,  0.70277902,  0.70277902,\n",
              "         0.07598846,  0.67293186,  0.70277902,  0.70277902,  0.70277902,\n",
              "         0.70277902,  0.4341545 ,  0.70277902],\n",
              "       [ 0.67293186,  0.67293186,  0.07598846, -0.99850966, -1.68499456,\n",
              "         0.67293186,  0.67293186,  0.67293186,  0.67293186,  0.67293186,\n",
              "         0.67293186, -1.98346626, -1.62530022,  0.67293186,  0.19537714,\n",
              "         0.67293186,  0.67293186, -0.4612606 ,  0.67293186,  0.67293186,\n",
              "         0.67293186,  0.67293186,  0.67293186,  0.67293186,  0.67293186,\n",
              "         0.67293186,  0.67293186,  0.67293186],\n",
              "       [ 0.70277902,  0.70277902,  0.70277902, -2.22224362, -0.13294173,\n",
              "         0.34461299,  0.70277902,  0.70277902,  0.70277902,  0.70277902,\n",
              "        -1.77453607,  0.70277902, -0.81942664, -0.93881532,  0.70277902,\n",
              "         0.70277902, -1.4462172 ,  0.70277902,  0.70277902,  0.70277902,\n",
              "         0.70277902,  0.70277902,  0.70277902,  0.70277902,  0.70277902,\n",
              "         0.70277902,  0.70277902,  0.70277902],\n",
              "       [-1.53575871, -1.53575871, -1.29698136, -1.53575871, -1.56560588,\n",
              "        -1.53575871, -1.53575871, -1.53575871, -1.53575871, -1.53575871,\n",
              "        -1.53575871, -1.89392475, -1.53575871, -1.53575871, -1.53575871,\n",
              "        -1.53575871, -1.53575871, -1.53575871, -1.53575871, -1.53575871,\n",
              "        -1.53575871, -1.53575871, -1.53575871, -1.53575871, -1.53575871,\n",
              "        -1.53575871, -1.53575871, -1.53575871],\n",
              "       [ 0.70277902, -0.07324739,  0.67293186, -1.92377192,  0.70277902,\n",
              "         0.64308469, -0.81942664, -0.40156626,  0.70277902,  0.70277902,\n",
              "        -0.22248324,  0.70277902,  0.70277902,  0.70277902,  0.70277902,\n",
              "         0.70277902,  0.70277902, -0.1627889 , -0.78957947,  0.70277902,\n",
              "         0.70277902,  0.70277902,  0.70277902,  0.70277902,  0.70277902,\n",
              "         0.70277902,  0.70277902,  0.70277902],\n",
              "       [-1.77453607,  0.52369601, -2.46102098, -0.58064928,  0.52369601,\n",
              "         0.52369601,  0.49384884, -0.19263607, -1.86407758, -0.90896815,\n",
              "         0.52369601,  0.52369601,  0.52369601,  0.52369601,  0.52369601,\n",
              "         0.52369601,  0.52369601, -1.50591154, -0.99850966,  0.40430733,\n",
              "         0.52369601,  0.52369601,  0.52369601,  0.52369601,  0.52369601,\n",
              "         0.52369601,  0.52369601,  0.52369601],\n",
              "       [ 0.70277902, -1.83423041, -0.87912098,  0.70277902,  0.67293186,\n",
              "         0.70277902,  0.70277902,  0.49384884, -1.4462172 ,  0.70277902,\n",
              "        -0.93881532,  0.70277902,  0.70277902,  0.70277902,  0.70277902,\n",
              "         0.49384884,  0.67293186,  0.70277902, -2.31178513, -0.70003796,\n",
              "         0.70277902,  0.70277902,  0.70277902,  0.70277902,  0.70277902,\n",
              "         0.70277902,  0.70277902,  0.70277902],\n",
              "       [ 0.46400167,  0.70277902,  0.52369601,  0.70277902, -1.26713419,\n",
              "         0.70277902,  0.70277902,  0.70277902,  0.70277902, -1.26713419,\n",
              "         0.67293186,  0.67293186, -1.20743985,  0.70277902, -1.17759268,\n",
              "         0.67293186, -0.58064928, -0.43141343,  0.67293186,  0.70277902,\n",
              "         0.58339035,  0.70277902,  0.70277902,  0.70277902,  0.70277902,\n",
              "         0.70277902,  0.70277902,  0.70277902],\n",
              "       [ 0.70277902,  0.70277902,  0.70277902,  0.19537714, -1.4462172 ,\n",
              "         0.70277902,  0.70277902,  0.70277902,  0.70277902,  0.70277902,\n",
              "         0.61323752, -1.77453607,  0.67293186, -2.3416323 ,  0.70277902,\n",
              "        -2.07300777,  0.70277902,  0.04614129,  0.70277902,  0.70277902,\n",
              "        -2.37147947,  0.70277902,  0.70277902,  0.70277902,  0.70277902,\n",
              "         0.70277902,  0.70277902,  0.70277902],\n",
              "       [ 0.70277902,  0.70277902,  0.70277902, -0.37171909,  0.70277902,\n",
              "         0.70277902,  0.70277902,  0.70277902,  0.70277902,  0.70277902,\n",
              "         0.70277902,  0.70277902,  0.67293186,  0.64308469, -2.31178513,\n",
              "        -1.38652286,  0.67293186,  0.70277902,  0.70277902, -0.31202475,\n",
              "         0.67293186,  0.64308469,  0.70277902,  0.70277902,  0.70277902,\n",
              "         0.70277902,  0.70277902,  0.70277902],\n",
              "       [-1.02835683, -1.02835683, -0.84927381, -1.02835683, -1.14774551,\n",
              "        -1.02835683, -1.02835683, -1.02835683, -1.02835683, -1.02835683,\n",
              "        -1.058204  , -1.02835683, -1.86407758, -1.02835683, -1.02835683,\n",
              "        -1.02835683, -1.02835683, -1.02835683, -1.02835683, -1.02835683,\n",
              "        -2.40132664, -1.11789834, -1.058204  , -1.02835683, -1.02835683,\n",
              "        -1.02835683, -1.02835683, -1.02835683],\n",
              "       [ 0.70277902,  0.70277902,  0.70277902,  0.70277902,  0.70277902,\n",
              "         0.70277902,  0.70277902,  0.70277902, -0.13294173, -2.01331343,\n",
              "         0.70277902, -0.93881532,  0.70277902,  0.64308469,  0.70277902,\n",
              "         0.70277902,  0.70277902,  0.61323752, -1.02835683, -0.49110777,\n",
              "        -0.4612606 , -1.26713419,  0.04614129,  0.70277902,  0.67293186,\n",
              "         0.16552997,  0.70277902,  0.70277902],\n",
              "       [ 0.61323752,  0.61323752,  0.61323752,  0.61323752,  0.61323752,\n",
              "         0.61323752, -0.81942664,  0.55354318,  0.61323752, -1.56560588,\n",
              "         0.61323752,  0.61323752,  0.61323752,  0.61323752,  0.61323752,\n",
              "         0.61323752,  0.61323752,  0.61323752,  0.61323752,  0.58339035,\n",
              "        -0.01355305, -1.32682853,  0.55354318,  0.58339035, -1.83423041,\n",
              "        -2.01331343,  0.61323752,  0.61323752],\n",
              "       [ 0.70277902,  0.70277902,  0.70277902,  0.70277902,  0.40430733,\n",
              "         0.67293186, -1.47606437, -0.43141343, -0.25233041,  0.70277902,\n",
              "        -0.25233041, -0.07324739, -0.31202475,  0.70277902,  0.70277902,\n",
              "         0.70277902,  0.70277902,  0.70277902,  0.70277902,  0.70277902,\n",
              "         0.70277902,  0.70277902, -1.98346626,  0.70277902, -1.23728702,\n",
              "        -0.93881532,  0.70277902,  0.70277902],\n",
              "       [ 0.70277902,  0.70277902,  0.70277902,  0.70277902,  0.70277902,\n",
              "         0.70277902, -1.80438324,  0.64308469,  0.70277902,  0.70277902,\n",
              "         0.70277902,  0.67293186, -1.23728702, -0.22248324,  0.70277902,\n",
              "        -0.55080211, -1.50591154, -0.70003796,  0.64308469,  0.70277902,\n",
              "         0.70277902,  0.70277902,  0.07598846,  0.67293186, -2.28193796,\n",
              "         0.16552997,  0.70277902,  0.70277902],\n",
              "       [ 0.67293186,  0.67293186,  0.67293186, -1.83423041,  0.67293186,\n",
              "         0.61323752,  0.67293186,  0.40430733,  0.67293186,  0.67293186,\n",
              "         0.67293186,  0.67293186,  0.67293186,  0.67293186,  0.67293186,\n",
              "        -2.66995117, -1.08805117, -1.59545305,  0.58339035,  0.67293186,\n",
              "         0.67293186,  0.67293186,  0.67293186, -0.43141343, -2.28193796,\n",
              "         0.64308469, -1.80438324,  0.67293186],\n",
              "       [-0.52095494, -2.40132664, -2.640104  ,  0.46400167, -0.13294173,\n",
              "         0.55354318,  0.70277902,  0.70277902,  0.70277902,  0.70277902,\n",
              "         0.70277902,  0.70277902,  0.70277902,  0.70277902, -2.3416323 ,\n",
              "         0.70277902, -1.80438324,  0.70277902,  0.70277902,  0.70277902,\n",
              "        -2.43117381,  0.58339035,  0.70277902,  0.67293186, -2.22224362,\n",
              "         0.70277902, -1.80438324,  0.61323752],\n",
              "       [-0.84927381, -0.96866249, -1.77453607, -2.66995117, -0.28217758,\n",
              "        -0.28217758, -0.28217758, -0.28217758, -0.28217758, -0.28217758,\n",
              "        -0.28217758, -0.28217758, -0.28217758, -0.28217758, -0.28217758,\n",
              "        -1.47606437, -0.28217758, -1.3566757 , -0.34187192, -1.92377192,\n",
              "        -2.25209079, -0.61049645, -0.61049645, -0.28217758, -2.22224362,\n",
              "        -0.31202475, -0.28217758, -0.28217758],\n",
              "       [ 0.70277902, -1.058204  ,  0.67293186,  0.70277902,  0.70277902,\n",
              "         0.70277902,  0.70277902,  0.70277902,  0.70277902,  0.70277902,\n",
              "         0.70277902,  0.70277902,  0.70277902,  0.70277902,  0.70277902,\n",
              "         0.70277902, -0.04340022,  0.67293186, -0.1627889 , -0.1627889 ,\n",
              "         0.70277902, -2.55056249,  0.61323752, -1.62530022, -1.56560588,\n",
              "         0.67293186, -0.72988513,  0.70277902],\n",
              "       [ 0.31476582,  0.67293186,  0.67293186,  0.67293186,  0.67293186,\n",
              "         0.67293186,  0.67293186,  0.67293186,  0.67293186,  0.67293186,\n",
              "         0.67293186,  0.67293186,  0.64308469,  0.37446016,  0.67293186,\n",
              "         0.67293186,  0.67293186,  0.67293186,  0.67293186,  0.55354318,\n",
              "         0.64308469, -2.01331343, -2.3416323 ,  0.31476582, -2.37147947,\n",
              "        -0.19263607, -0.96866249, -2.01331343],\n",
              "       [ 0.70277902,  0.70277902,  0.70277902,  0.70277902,  0.70277902,\n",
              "         0.70277902,  0.70277902,  0.70277902,  0.70277902,  0.70277902,\n",
              "         0.70277902,  0.67293186,  0.70277902, -2.07300777,  0.70277902,\n",
              "         0.70277902,  0.70277902,  0.70277902,  0.70277902, -2.07300777,\n",
              "         0.70277902,  0.70277902,  0.70277902,  0.46400167, -1.17759268,\n",
              "         0.67293186, -1.65514739,  0.70277902],\n",
              "       [ 0.67293186,  0.67293186,  0.67293186,  0.67293186,  0.67293186,\n",
              "         0.67293186,  0.67293186,  0.67293186,  0.67293186,  0.67293186,\n",
              "         0.67293186,  0.67293186, -1.92377192,  0.67293186, -1.77453607,\n",
              "         0.67293186,  0.67293186, -1.71484173,  0.64308469, -0.28217758,\n",
              "         0.67293186,  0.67293186,  0.67293186,  0.67293186, -1.17759268,\n",
              "        -1.83423041,  0.67293186, -2.01331343],\n",
              "       [ 0.70277902,  0.70277902,  0.70277902,  0.70277902,  0.70277902,\n",
              "         0.70277902,  0.70277902,  0.70277902,  0.70277902,  0.70277902,\n",
              "         0.70277902,  0.70277902,  0.70277902, -0.28217758,  0.37446016,\n",
              "        -1.14774551,  0.67293186, -1.32682853,  0.70277902, -2.22224362,\n",
              "         0.67293186,  0.70277902,  0.70277902,  0.70277902, -0.72988513,\n",
              "        -2.07300777,  0.70277902, -0.99850966]])"
            ]
          },
          "metadata": {},
          "execution_count": 37
        }
      ]
    },
    {
      "cell_type": "markdown",
      "source": [
        "In the next cell, I have stacked all the 3 channels(R,G,B) together into 1 numpy array\n"
      ],
      "metadata": {
        "id": "h6IA76Z-0KF_"
      }
    },
    {
      "cell_type": "code",
      "source": [
        "transformed_image=np.zeros((3,28,28))\n",
        "for i in range(3):\n",
        "  if(i==0):\n",
        "    for j in range(28):\n",
        "      for k in range(28):\n",
        "        transformed_image[i][j][k]=R_channel_normalized_output[j][k]\n",
        "  elif(i==1):\n",
        "    for j in range(28):\n",
        "      for k in range(28):\n",
        "        transformed_image[i][j][k]=G_channel_normalized_output[j][k]\n",
        "  elif(i==2):\n",
        "    for j in range(28):\n",
        "      for k in range(28):\n",
        "        transformed_image[i][j][k]=B_channel_normalized_output[j][k]\n",
        "\n",
        "transformed_image.shape\n"
      ],
      "metadata": {
        "colab": {
          "base_uri": "https://localhost:8080/"
        },
        "id": "0aoib1i2Kg3H",
        "outputId": "de2b7a68-0509-4df9-eb3f-cf7eddc784f3"
      },
      "execution_count": 38,
      "outputs": [
        {
          "output_type": "execute_result",
          "data": {
            "text/plain": [
              "(3, 28, 28)"
            ]
          },
          "metadata": {},
          "execution_count": 38
        }
      ]
    },
    {
      "cell_type": "markdown",
      "source": [
        "In the next cell, I have converted the transformed_image(a numpy array) into a Tensor"
      ],
      "metadata": {
        "id": "H31fWYFgxw2N"
      }
    },
    {
      "cell_type": "code",
      "source": [
        "transformed_image_tensor=torch.tensor(transformed_image, dtype=torch.float32)\n",
        "transformed_image_tensor"
      ],
      "metadata": {
        "colab": {
          "base_uri": "https://localhost:8080/"
        },
        "id": "thhpHPRrwW8_",
        "outputId": "c997b030-1343-45b7-f8da-e77bc55849c6"
      },
      "execution_count": 39,
      "outputs": [
        {
          "output_type": "execute_result",
          "data": {
            "text/plain": [
              "tensor([[[ 0.7028,  0.7028, -0.7597,  ...,  0.6132,  0.7028,  0.7028],\n",
              "         [ 0.7028,  0.7028, -1.7745,  ...,  0.7028,  0.5535,  0.7028],\n",
              "         [ 0.7028,  0.4640,  0.7028,  ..., -2.0730, -1.9238,  0.7028],\n",
              "         ...,\n",
              "         [ 0.7028,  0.7028,  0.7028,  ...,  0.6729, -1.6551,  0.7028],\n",
              "         [ 0.6729,  0.6729,  0.6729,  ..., -1.8342,  0.6729, -2.0133],\n",
              "         [ 0.7028,  0.7028,  0.7028,  ..., -2.0730,  0.7028, -0.9985]],\n",
              "\n",
              "        [[ 0.7103,  0.7103, -0.7988,  ...,  0.6179,  0.7103,  0.7103],\n",
              "         [ 0.7103,  0.7103, -2.8930,  ...,  0.7103,  0.5563,  0.7103],\n",
              "         [ 0.7103,  0.4639, -0.8604,  ..., -2.1539, -1.9691,  0.7103],\n",
              "         ...,\n",
              "         [ 0.7103,  0.7103, -0.8604,  ...,  0.6795, -1.7227,  0.7103],\n",
              "         [ 0.7103,  0.7103, -0.8604,  ..., -1.8767,  0.6795, -2.0923],\n",
              "         [ 0.7103,  0.7103, -0.7988,  ..., -2.1539,  0.7103, -1.0452]],\n",
              "\n",
              "        [[ 0.6112,  0.6112, -0.9485,  ...,  0.5157,  0.6112,  0.6112],\n",
              "         [ 0.6112,  0.6112, -3.0812,  ...,  0.6112,  0.4521,  0.6112],\n",
              "         [ 0.6112,  0.3566, -1.0440,  ..., -2.3173, -2.1581,  0.6112],\n",
              "         ...,\n",
              "         [ 0.6112,  0.6112, -1.0440,  ...,  0.5794, -1.8716,  0.6112],\n",
              "         [ 0.5794,  0.5794, -1.0440,  ..., -2.0308,  0.5794, -2.2854],\n",
              "         [ 0.6112,  0.6112, -1.0758,  ..., -2.2536,  0.6112, -1.1713]]])"
            ]
          },
          "metadata": {},
          "execution_count": 39
        }
      ]
    },
    {
      "cell_type": "markdown",
      "source": [
        "Converting the 3D transformed_image_tensor into a 1D Tensor"
      ],
      "metadata": {
        "id": "-FhFKmWy0WFu"
      }
    },
    {
      "cell_type": "code",
      "source": [
        "Flattened_transformed_image_Tensor=transformed_image_tensor.view(-1)\n",
        "Flattened_transformed_image_Tensor"
      ],
      "metadata": {
        "colab": {
          "base_uri": "https://localhost:8080/"
        },
        "id": "tksxzgAbxqd2",
        "outputId": "af81c70f-9ea0-4993-93a0-a6161995388e"
      },
      "execution_count": 40,
      "outputs": [
        {
          "output_type": "execute_result",
          "data": {
            "text/plain": [
              "tensor([ 0.7028,  0.7028, -0.7597,  ..., -2.2536,  0.6112, -1.1713])"
            ]
          },
          "metadata": {},
          "execution_count": 40
        }
      ]
    },
    {
      "cell_type": "markdown",
      "source": [
        "I have returned the Image_ID,1D Transformed_Tensor and image_label(clip count) in the form of a dictionary named Final_image_dict"
      ],
      "metadata": {
        "id": "FVCzQ8TG74Vy"
      }
    },
    {
      "cell_type": "code",
      "source": [
        "Final_image_dict={}\n",
        "Final_image_dict['Image_ID']=image_id\n",
        "Final_image_dict['1D Transformed_Tensor']=Flattened_transformed_image_Tensor\n",
        "Final_image_dict['image_label(clip count)']=training_label\n",
        "\n",
        "Final_image_dict"
      ],
      "metadata": {
        "colab": {
          "base_uri": "https://localhost:8080/"
        },
        "id": "X1Y2xaAc0FwX",
        "outputId": "3bba29fb-dd64-475b-a760-4ace4a687098"
      },
      "execution_count": 41,
      "outputs": [
        {
          "output_type": "execute_result",
          "data": {
            "text/plain": [
              "{'Image_ID': 38254,\n",
              " '1D Transformed_Tensor': tensor([ 0.7028,  0.7028, -0.7597,  ..., -2.2536,  0.6112, -1.1713]),\n",
              " 'image_label(clip count)': 44}"
            ]
          },
          "metadata": {},
          "execution_count": 41
        }
      ]
    },
    {
      "cell_type": "markdown",
      "source": [
        "**QUESTION:2**"
      ],
      "metadata": {
        "id": "L0mWekpK8PBS"
      }
    },
    {
      "cell_type": "markdown",
      "source": [
        "As given in the question, I have designed the MLP model in such a manner that the number of Neurons in the next layer is [1/(8^n)] times the current layer for n=1,2,3,...\n",
        "I have defined a separate function for that (count_n_layers)"
      ],
      "metadata": {
        "id": "ePYrZ0mt3eJ9"
      }
    },
    {
      "cell_type": "code",
      "source": [
        "#The Input Dimension should be (3,28,28)\n",
        "\n",
        "def count_n_layers(input_dimension):\n",
        "  c=0\n",
        "  layers_list=[]\n",
        "  while(input_dimension!=0):\n",
        "    c=c+1\n",
        "    input_dimension=math.floor(input_dimension/math.pow(8,c))\n",
        "    layers_list.append(input_dimension)\n",
        "  layers_list.remove(layers_list[-1])\n",
        "  #layers_list.append(1)\n",
        "  return layers_list\n"
      ],
      "metadata": {
        "id": "nxxziPUe7GcC"
      },
      "execution_count": 80,
      "outputs": []
    },
    {
      "cell_type": "code",
      "source": [
        "import torch.nn as nn\n",
        "\n",
        "\n",
        "class image_clip_counter(nn.Module):\n",
        "  def __init__(self, input_layer_size, hidden_layer_dims_list, output_size=1):\n",
        "    '''\n",
        "    input_layer_size=(3*28*28); which is equal to the size of the flattened 1-D image tensor(original image) after it is resized.\n",
        "    hidden_layer_dims_list:list containing the number of neurons in each hidden layer\n",
        "    output_size:This is equal to 1(as there is only 1 neuron in the output layer corresponding to the no.of clips)\n",
        "    '''\n",
        "    super(image_clip_counter, self).__init__()\n",
        "    layers_list=[]\n",
        "    layers_list.append(nn.Linear(input_layer_size, hidden_layer_dims_list[0]))\n",
        "    layers_list.append(nn.ReLU())\n",
        "    for i in range(1,len(hidden_layer_dims_list)):\n",
        "      layers_list.append(nn.Linear(hidden_layer_dims_list[i-1], hidden_layer_dims_list[i]))\n",
        "      layers_list.append(nn.ReLU())\n",
        "\n",
        "    layers_list.append(nn.Linear(hidden_layer_dims_list[-1],output_size))\n",
        "    layers_list.append(nn.SELU()) #I have used Scaled Exponential Linear Unit (SELU) activation function for output layer\n",
        "\n",
        "    self.model = nn.Sequential(*layers_list)\n",
        "\n",
        "  def forward(self, x):\n",
        "    return self.model(x)\n",
        "\n"
      ],
      "metadata": {
        "id": "Vbsi8UhVm0mG"
      },
      "execution_count": 81,
      "outputs": []
    },
    {
      "cell_type": "markdown",
      "source": [
        "I have used the SELU(Scaled Exponential Linear Unit) Activation function. After testing with ReLU, LeakyReLU and SELU, this seemed to be the most suitable activation function as the training error was decreasing in a well-behaved manner using this."
      ],
      "metadata": {
        "id": "1Ld0XNiz8YG0"
      }
    },
    {
      "cell_type": "code",
      "source": [
        "input_layer_size = (3*28*28)\n",
        "hidden_layer_dims_list=count_n_layers(input_layer_size)\n",
        "print(hidden_layer_dims_list) #This list gives us information about the number of layers and no.of Neurons in each layer\n"
      ],
      "metadata": {
        "colab": {
          "base_uri": "https://localhost:8080/"
        },
        "id": "7ApAu88HlKRS",
        "outputId": "418a5a2d-ee9f-4254-abad-98abaa834746"
      },
      "execution_count": 82,
      "outputs": [
        {
          "output_type": "stream",
          "name": "stdout",
          "text": [
            "[294, 4]\n"
          ]
        }
      ]
    },
    {
      "cell_type": "code",
      "source": [
        "MLP_model = image_clip_counter(input_layer_size, hidden_layer_dims_list)\n",
        "print(MLP_model)"
      ],
      "metadata": {
        "id": "_N225LjJpRl5",
        "colab": {
          "base_uri": "https://localhost:8080/"
        },
        "outputId": "a0ad5f35-e821-42fa-c519-44a34645b816"
      },
      "execution_count": 83,
      "outputs": [
        {
          "output_type": "stream",
          "name": "stdout",
          "text": [
            "image_clip_counter(\n",
            "  (model): Sequential(\n",
            "    (0): Linear(in_features=2352, out_features=294, bias=True)\n",
            "    (1): ReLU()\n",
            "    (2): Linear(in_features=294, out_features=4, bias=True)\n",
            "    (3): ReLU()\n",
            "    (4): Linear(in_features=4, out_features=1, bias=True)\n",
            "    (5): SELU()\n",
            "  )\n",
            ")\n"
          ]
        }
      ]
    },
    {
      "cell_type": "markdown",
      "source": [
        "**QUESTION 3:**\n",
        "I have created train and validation Dataloader objects to accept images and their labels(here no.of clips) with a specified batch size(here it would be 8)"
      ],
      "metadata": {
        "id": "Nvloyca-eMu1"
      }
    },
    {
      "cell_type": "code",
      "source": [
        "from torch.utils.data import DataLoader, Dataset\n",
        "#from torchvision import transforms\n",
        "\n",
        "class clip_count_data(Dataset):\n",
        "    def __init__(self, data, labels):\n",
        "        self.data = data\n",
        "        self.labels = labels\n",
        "\n",
        "    def __len__(self):\n",
        "        return len(self.data)\n",
        "\n",
        "    def __getitem__(self, idx):\n",
        "        random_sample = {'data': self.data[idx], 'label': self.labels[idx]}\n",
        "        return random_sample\n",
        "\n",
        "first_5_images=[]\n",
        "first_5_training_labels=[]\n",
        "'''\n",
        "In the function next, I have defined a function to read images from a specified path, convert it to a Tensor\n",
        "and finally into a numpy array\n",
        "'''\n",
        "def convert_to_numpy_from_image_path(image_path):\n",
        "  image=cv2.imread(image_path)\n",
        "  RGB_image=cv2.cvtColor(image, cv2.COLOR_BGR2RGB)\n",
        "  image_tensor=convert_to_Tensor(RGB_image)\n",
        "  image_numpy=image_tensor.numpy()\n",
        "  return image_numpy\n",
        "\n",
        "'''\n",
        "I have created first a numpy array and then converted it into a Tensor for the 1st 5 training images(in the training set)\n",
        "and their corresponding training labels.\n",
        "'''\n",
        "for i in range(5):\n",
        "  numpy_img_path='/content/count the paperclips/clips-data-2020/clips/clips-'+str(30001+i)+'.png'\n",
        "  numpy_img=convert_to_numpy_from_image_path(numpy_img_path)\n",
        "  first_5_images.append(numpy_img)\n",
        "  first_5_training_labels.append(train_img_ids_list[i])\n",
        "\n",
        "first_5_images=np.array(first_5_images)\n",
        "first_5_images=torch.tensor(first_5_images)\n",
        "first_5_training_labels=np.array(first_5_training_labels)\n",
        "first_5_training_labels=torch.tensor(first_5_training_labels)\n",
        "\n",
        "#As given in the question, I have visualized the first 5 input original images along with their groundtruth labels\n",
        "\n",
        "visualizing_dataset = clip_count_data(first_5_images,first_5_training_labels)\n",
        "\n",
        "batch_size=8  #As given in question\n",
        "visualization_data_loader = DataLoader(dataset=visualizing_dataset, batch_size=batch_size, shuffle=True)\n",
        "\n",
        "num_epochs=5\n",
        "for epoch in range(num_epochs):\n",
        "    for batch in visualization_data_loader:\n",
        "        data, labels = batch['data'], batch['label']\n"
      ],
      "metadata": {
        "id": "WDRx_8IQqMGn"
      },
      "execution_count": 84,
      "outputs": []
    },
    {
      "cell_type": "markdown",
      "source": [
        "**QUESTION:4**"
      ],
      "metadata": {
        "id": "avnKVbl1YOZU"
      }
    },
    {
      "cell_type": "code",
      "source": [
        "training_labels_tensor=torch.tensor(train_img_ids_list)\n",
        "print(training_labels_tensor)"
      ],
      "metadata": {
        "colab": {
          "base_uri": "https://localhost:8080/"
        },
        "id": "SsNeBRI9H2aG",
        "outputId": "82fc90e1-8f87-4db8-9b18-1a41d0490f61"
      },
      "execution_count": 85,
      "outputs": [
        {
          "output_type": "stream",
          "name": "stdout",
          "text": [
            "tensor([30001, 30002, 30003,  ..., 49998, 49999, 50000])\n"
          ]
        }
      ]
    },
    {
      "cell_type": "markdown",
      "source": [
        "Next I will randomly sample 2500 elements(or images) from the above training_labels_tensor.\n",
        "Also, as my Roll No is **20**QM300**01**, I will be using a seed value **2001** everywhere"
      ],
      "metadata": {
        "id": "s95zROZJUq4C"
      }
    },
    {
      "cell_type": "code",
      "source": [
        "torch.manual_seed(2001)\n",
        "num_elements=2500\n",
        "random_sampled_indexes=torch.randperm(training_labels_tensor.size(0))[:num_elements]\n",
        "random_sampled_elements = training_labels_tensor[random_sampled_indexes]\n",
        "print(random_sampled_elements)"
      ],
      "metadata": {
        "colab": {
          "base_uri": "https://localhost:8080/"
        },
        "id": "I3ijEMg-I9Y2",
        "outputId": "27b5d8b6-8e2c-4cea-a141-ce8f6f74eb72"
      },
      "execution_count": 86,
      "outputs": [
        {
          "output_type": "stream",
          "name": "stdout",
          "text": [
            "tensor([49169, 31221, 48703,  ..., 31044, 47380, 34574])\n"
          ]
        }
      ]
    },
    {
      "cell_type": "code",
      "source": [
        "len(random_sampled_elements)"
      ],
      "metadata": {
        "colab": {
          "base_uri": "https://localhost:8080/"
        },
        "id": "HQy_1mu8X8H_",
        "outputId": "b6b01dde-b0d1-4e70-f28e-104f1347989e"
      },
      "execution_count": 87,
      "outputs": [
        {
          "output_type": "execute_result",
          "data": {
            "text/plain": [
              "2500"
            ]
          },
          "metadata": {},
          "execution_count": 87
        }
      ]
    },
    {
      "cell_type": "code",
      "source": [
        "#Randomly sampling 500 elements from the above 2500 elements for creating the Validation and Test sets together\n",
        "\n",
        "torch.manual_seed(2001)\n",
        "num_elements_val_test=500\n",
        "random_indexes_val_test=torch.randperm(random_sampled_elements.size(0))[:num_elements_val_test]\n",
        "random_val_test_elements=random_sampled_elements[random_indexes_val_test]\n",
        "random_indexes_val_test=random_indexes_val_test.numpy()\n",
        "random_sampled_elements.numpy()\n",
        "random_sampled_elements = [item for index, item in enumerate(random_sampled_elements) if index not in random_indexes_val_test]\n",
        "random_sampled_elements=torch.tensor(random_sampled_elements)\n",
        "random_indexes_val_test=torch.tensor(random_indexes_val_test)\n",
        "print(random_val_test_elements)"
      ],
      "metadata": {
        "colab": {
          "base_uri": "https://localhost:8080/"
        },
        "id": "iv7F0RVHYCB9",
        "outputId": "f3f91d2a-efef-4ac3-8254-054fbe9bb8db"
      },
      "execution_count": 88,
      "outputs": [
        {
          "output_type": "stream",
          "name": "stdout",
          "text": [
            "tensor([40754, 40040, 40435, 35193, 48574, 38385, 48599, 38869, 47613, 35732,\n",
            "        34119, 48588, 36221, 35893, 30882, 44101, 31488, 45920, 32453, 39514,\n",
            "        37374, 35311, 35605, 37703, 34335, 44591, 47512, 32319, 38103, 39301,\n",
            "        45584, 40685, 31007, 34984, 32668, 40185, 45547, 46077, 34068, 38998,\n",
            "        35010, 35488, 47580, 44920, 41245, 41359, 37689, 43305, 46018, 32210,\n",
            "        31200, 43238, 32388, 30471, 36712, 39388, 35961, 34530, 38170, 37798,\n",
            "        49023, 43620, 36380, 34651, 41031, 40594, 37693, 33488, 48619, 45882,\n",
            "        36324, 42880, 39376, 46163, 30794, 49418, 33714, 48037, 47639, 48971,\n",
            "        38036, 44523, 48313, 36207, 40530, 33872, 34363, 31266, 30681, 37027,\n",
            "        31333, 35194, 37533, 47079, 44426, 48395, 35279, 44493, 38577, 33095,\n",
            "        49647, 49094, 46860, 45031, 31637, 42134, 36764, 34331, 47351, 46210,\n",
            "        36286, 31036, 30175, 34894, 32311, 34579, 34217, 38567, 46949, 43802,\n",
            "        36162, 44479, 30652, 40960, 48526, 48545, 31507, 43920, 41316, 42314,\n",
            "        36696, 44217, 31381, 32966, 39630, 49692, 32733, 31135, 40493, 36973,\n",
            "        34202, 32229, 46608, 44423, 45971, 38122, 33888, 45961, 43021, 34325,\n",
            "        46306, 35119, 36141, 47438, 33757, 42114, 38243, 32808, 39428, 48003,\n",
            "        38246, 35270, 34652, 36852, 48646, 32155, 42619, 47259, 36297, 36756,\n",
            "        42980, 41380, 40660, 46408, 48147, 49397, 32215, 43661, 44636, 32411,\n",
            "        35681, 39286, 42420, 47028, 32522, 38984, 41695, 43567, 46862, 38181,\n",
            "        44058, 44874, 38586, 31987, 34929, 45220, 38925, 31353, 32943, 31021,\n",
            "        43115, 43447, 35823, 31807, 41670, 30131, 30402, 39080, 47502, 31088,\n",
            "        41182, 36931, 30149, 38559, 45789, 31144, 30376, 35068, 48057, 34800,\n",
            "        47446, 32874, 49522, 34595, 42953, 33137, 33746, 46591, 47179, 33276,\n",
            "        40715, 32257, 38085, 33743, 46186, 30598, 45993, 35356, 39051, 44911,\n",
            "        33531, 45333, 43068, 32857, 43627, 48687, 38969, 41277, 49931, 30854,\n",
            "        35485, 31921, 48180, 39843, 42230, 31043, 49450, 31496, 45001, 34537,\n",
            "        40322, 30330, 39811, 40362, 37148, 43261, 35813, 38260, 45317, 30456,\n",
            "        37067, 44781, 36372, 36425, 46735, 35233, 47744, 43131, 44692, 37893,\n",
            "        37490, 30821, 34469, 46488, 40878, 47188, 36093, 34458, 47733, 31548,\n",
            "        41324, 39867, 41063, 47372, 37750, 34667, 32498, 47431, 39864, 33333,\n",
            "        45090, 33816, 33523, 48820, 46324, 49960, 38056, 38846, 33724, 42364,\n",
            "        45522, 35911, 47071, 39708, 31221, 49506, 41861, 48666, 39851, 37922,\n",
            "        37119, 47513, 45645, 48932, 48494, 38498, 48693, 39448, 38393, 49628,\n",
            "        36396, 36430, 36721, 49379, 40657, 48627, 30570, 40141, 49038, 42612,\n",
            "        32810, 37495, 31828, 34039, 40353, 43449, 47568, 34005, 33871, 33262,\n",
            "        36883, 39109, 38265, 36565, 37548, 47353, 33486, 40792, 38353, 44614,\n",
            "        39159, 36519, 31584, 30803, 32724, 34693, 45337, 34727, 33868, 33688,\n",
            "        43011, 30853, 36757, 39928, 43025, 31411, 38819, 48586, 31628, 46937,\n",
            "        40154, 38306, 30777, 34509, 36925, 31046, 33790, 49567, 31900, 39090,\n",
            "        48277, 46112, 33949, 48047, 44375, 30370, 35216, 49020, 43063, 38315,\n",
            "        44934, 35876, 41146, 40748, 37802, 49537, 44411, 32084, 47301, 49667,\n",
            "        45856, 36661, 36494, 39564, 36196, 47385, 46619, 36643, 39251, 39019,\n",
            "        48935, 34073, 40218, 38421, 41167, 36718, 36107, 31989, 35668, 39024,\n",
            "        42939, 33350, 44891, 33405, 47727, 32948, 40342, 30660, 39522, 49967,\n",
            "        33570, 32645, 35055, 36010, 41174, 39540, 44061, 42251, 38890, 47838,\n",
            "        48568, 47649, 36121, 37552, 42719, 34906, 38041, 44318, 35012, 49596,\n",
            "        49268, 41000, 33117, 38820, 36892, 39188, 31131, 30384, 30976, 35991,\n",
            "        38151, 35644, 30883, 46897, 48051, 45319, 36400, 48732, 33258, 30511,\n",
            "        49203, 49225, 32646, 32103, 30612, 31658, 39171, 46763, 40607, 46247,\n",
            "        47109, 33792, 34457, 49428, 42324, 31484, 34470, 30061, 30395, 49561])\n"
          ]
        }
      ]
    },
    {
      "cell_type": "code",
      "source": [
        "len(random_val_test_elements)"
      ],
      "metadata": {
        "colab": {
          "base_uri": "https://localhost:8080/"
        },
        "id": "Wu5BgVfedfIB",
        "outputId": "a9584fbb-d023-4176-a8ae-ca2fdf8157c6"
      },
      "execution_count": 89,
      "outputs": [
        {
          "output_type": "execute_result",
          "data": {
            "text/plain": [
              "500"
            ]
          },
          "metadata": {},
          "execution_count": 89
        }
      ]
    },
    {
      "cell_type": "code",
      "source": [
        "#Leftover elements after the 500(validation + test) elements are removed from the 2500 elements\n",
        "len(random_sampled_elements) #This represents the final training set"
      ],
      "metadata": {
        "colab": {
          "base_uri": "https://localhost:8080/"
        },
        "id": "yYNTT05edm-o",
        "outputId": "a2dba2b7-b78e-4e6f-f602-5fad1b7406d4"
      },
      "execution_count": 90,
      "outputs": [
        {
          "output_type": "execute_result",
          "data": {
            "text/plain": [
              "2000"
            ]
          },
          "metadata": {},
          "execution_count": 90
        }
      ]
    },
    {
      "cell_type": "code",
      "source": [
        "'''\n",
        "Randomly sampling 250 Image ID's(for Test Set) from the Validation+Test(500 image ID's)\n",
        "'''\n",
        "torch.manual_seed(2001)\n",
        "num_elements_test_set=250\n",
        "test_set_indexes=torch.randperm(random_val_test_elements.size(0))[:num_elements_test_set]\n",
        "test_set_elements=random_val_test_elements[test_set_indexes]\n",
        "test_set_indexes=test_set_indexes.numpy()\n",
        "random_val_test_elements=random_val_test_elements.numpy()\n",
        "random_val_test_elements = [item for index, item in enumerate(random_val_test_elements) if index not in test_set_indexes]\n",
        "random_val_test_elements=torch.tensor(random_val_test_elements)\n",
        "test_set_indexes=torch.tensor(test_set_indexes)\n",
        "print(test_set_elements)"
      ],
      "metadata": {
        "colab": {
          "base_uri": "https://localhost:8080/"
        },
        "id": "5c-bZxPIIFcU",
        "outputId": "c79fc07c-edc2-4e62-ed76-09359c2c8bb4"
      },
      "execution_count": 91,
      "outputs": [
        {
          "output_type": "stream",
          "name": "stdout",
          "text": [
            "tensor([36297, 47502, 45547, 33757, 36883, 37533, 49667, 36372, 31548, 44061,\n",
            "        47639, 41324, 31036, 31507, 40493, 33872, 46860, 47372, 49268, 32155,\n",
            "        47259, 31484, 35193, 35068, 37495, 31333, 34509, 48666, 32411, 30149,\n",
            "        49522, 46210, 40154, 32810, 48494, 47838, 39171, 32319, 44692, 35644,\n",
            "        34537, 34470, 39514, 45090, 34457, 47071, 39080, 44523, 46408, 43661,\n",
            "        39564, 39540, 48693, 38820, 32948, 36207, 45337, 41000, 39851, 33531,\n",
            "        39024, 32733, 43449, 36396, 36643, 35893, 30384, 32103, 31043, 39109,\n",
            "        36324, 38998, 34119, 39159, 34579, 45882, 35485, 31144, 43131, 47744,\n",
            "        46306, 33262, 40715, 30883, 48545, 31488, 42251, 45856, 31221, 30821,\n",
            "        32668, 46897, 43627, 47613, 42230, 33888, 36196, 48687, 41182, 45220,\n",
            "        32522, 35876, 34039, 37148, 33949, 41861, 47438, 46735, 39630, 38103,\n",
            "        42324, 48147, 32645, 40040, 34073, 30511, 33868, 45319, 35270, 47109,\n",
            "        31046, 47649, 48003, 49596, 46488, 42953, 32808, 49203, 40660, 35055,\n",
            "        33405, 37374, 38315, 38036, 34984, 30777, 40792, 46937, 40607, 49428,\n",
            "        49692, 40594, 30471, 49567, 38925, 46591, 44058, 34458, 43025, 47580,\n",
            "        31381, 41063, 30456, 33743, 45971, 43920, 49931, 44636, 43567, 36757,\n",
            "        32498, 47353, 36764, 44891, 35732, 34595, 40218, 30612, 31200, 49418,\n",
            "        37703, 44375, 36121, 47188, 36286, 38181, 46608, 33523, 48057, 37893,\n",
            "        44423, 33350, 32257, 31628, 44479, 33790, 34667, 36756, 37119, 38243,\n",
            "        31411, 41146, 31807, 37802, 48588, 31989, 49094, 39051, 38393, 36093,\n",
            "        43021, 44426, 49537, 40748, 45001, 47513, 36852, 32874, 48820, 48047,\n",
            "        43011, 49225, 43447, 33095, 32210, 30652, 35605, 48574, 41359, 49960,\n",
            "        32311, 34335, 37693, 48971, 34068, 35194, 34652, 49020, 38559, 33137,\n",
            "        35119, 47568, 39708, 36925, 47179, 35668, 30854, 33688, 36718, 42314,\n",
            "        30131, 46619, 42939, 39376, 36565, 43238, 47079, 31007, 31637, 33276])\n"
          ]
        }
      ]
    },
    {
      "cell_type": "code",
      "source": [
        "len(test_set_elements)"
      ],
      "metadata": {
        "colab": {
          "base_uri": "https://localhost:8080/"
        },
        "id": "-Zcpv1wQP67Z",
        "outputId": "a2a6759d-a085-48a5-9579-8b16eafa85f9"
      },
      "execution_count": 92,
      "outputs": [
        {
          "output_type": "execute_result",
          "data": {
            "text/plain": [
              "250"
            ]
          },
          "metadata": {},
          "execution_count": 92
        }
      ]
    },
    {
      "cell_type": "code",
      "source": [
        "print(random_val_test_elements) #This represents the final \"Validation Set\" Image ID's"
      ],
      "metadata": {
        "colab": {
          "base_uri": "https://localhost:8080/"
        },
        "id": "23QFrCm_Xg-_",
        "outputId": "50b3e00d-eec4-4f95-a8ab-851715161252"
      },
      "execution_count": 93,
      "outputs": [
        {
          "output_type": "stream",
          "name": "stdout",
          "text": [
            "tensor([40754, 40435, 38385, 48599, 38869, 36221, 30882, 44101, 45920, 32453,\n",
            "        35311, 44591, 47512, 39301, 45584, 40685, 40185, 46077, 35010, 35488,\n",
            "        44920, 41245, 37689, 43305, 46018, 32388, 36712, 39388, 35961, 34530,\n",
            "        38170, 37798, 49023, 43620, 36380, 34651, 41031, 33488, 48619, 42880,\n",
            "        46163, 30794, 33714, 48037, 48313, 40530, 34363, 31266, 30681, 37027,\n",
            "        48395, 35279, 44493, 38577, 49647, 45031, 42134, 34331, 47351, 30175,\n",
            "        34894, 34217, 38567, 46949, 43802, 36162, 40960, 48526, 41316, 36696,\n",
            "        44217, 32966, 31135, 36973, 34202, 32229, 38122, 45961, 34325, 36141,\n",
            "        42114, 39428, 38246, 48646, 42619, 42980, 41380, 49397, 32215, 35681,\n",
            "        39286, 42420, 47028, 38984, 41695, 46862, 44874, 38586, 31987, 34929,\n",
            "        31353, 32943, 31021, 43115, 35823, 41670, 30402, 31088, 36931, 45789,\n",
            "        30376, 34800, 47446, 33746, 38085, 46186, 30598, 45993, 35356, 44911,\n",
            "        45333, 43068, 32857, 38969, 41277, 31921, 48180, 39843, 49450, 31496,\n",
            "        40322, 30330, 39811, 40362, 43261, 35813, 38260, 45317, 37067, 44781,\n",
            "        36425, 35233, 37490, 34469, 40878, 47733, 39867, 37750, 47431, 39864,\n",
            "        33333, 33816, 46324, 38056, 38846, 33724, 42364, 45522, 35911, 49506,\n",
            "        37922, 45645, 48932, 38498, 39448, 49628, 36430, 36721, 49379, 40657,\n",
            "        48627, 30570, 40141, 49038, 42612, 31828, 40353, 34005, 33871, 38265,\n",
            "        37548, 33486, 38353, 44614, 36519, 31584, 30803, 32724, 34693, 34727,\n",
            "        30853, 39928, 38819, 48586, 38306, 31900, 39090, 48277, 46112, 30370,\n",
            "        35216, 43063, 44934, 44411, 32084, 47301, 36661, 36494, 47385, 39251,\n",
            "        39019, 48935, 38421, 41167, 36107, 47727, 40342, 30660, 39522, 49967,\n",
            "        33570, 36010, 41174, 38890, 48568, 37552, 42719, 34906, 38041, 44318,\n",
            "        35012, 33117, 36892, 39188, 31131, 30976, 35991, 38151, 48051, 36400,\n",
            "        48732, 33258, 32646, 31658, 46763, 46247, 33792, 30061, 30395, 49561])\n"
          ]
        }
      ]
    },
    {
      "cell_type": "markdown",
      "source": [
        "In the cells below, I will form the training set, training labels, validation set, validation labels using the above Image ID's I have obtained for all of them separately.\n",
        "**\"random_sampled_elements\"** is the Tensor containing ID's of the Training Set, **\"random_val_test_elements\"** is the Tensor containing ID's of the Validation Set, **\"test_set_elements\"** contains the ID's of the Test Set"
      ],
      "metadata": {
        "id": "3WYA03Wi6EEr"
      }
    },
    {
      "cell_type": "markdown",
      "source": [
        "In the complete next cell, I have used the Training, Validation and Testing Image ID's obtained before to get the corresponding images and their training labels. I have resized those images and converted them to 1-D Tensor and finally appended them in separate lists.\n",
        "Finally, I have converted those lists into Tensors and made all them ready for feeding into my MLP_model and start training"
      ],
      "metadata": {
        "id": "M01sEmkd88dk"
      }
    },
    {
      "cell_type": "code",
      "source": [
        "'''\n",
        "First, I am converting the tensors into numpy arrays for easily accessing the elements and/or indexes\n",
        "'''\n",
        "#The function below first resizes the (3,256,256) image numpy array to (3,28,28) and then converts it to 1-D\n",
        "def convert_to_one_dimension(image):\n",
        "  #image=torch.tensor(image)\n",
        "  resized_image=cv2.resize(image,(28,28))\n",
        "  resized_image=convert_to_Tensor(resized_image)\n",
        "  resized_image=resized_image.view(-1)\n",
        "  resized_image=resized_image.numpy()\n",
        "  return resized_image\n",
        "\n",
        "\n",
        "random_sampled_elements_numpy=random_sampled_elements.numpy()\n",
        "random_val_test_elements_numpy=random_val_test_elements.numpy()\n",
        "test_set_elements_numpy=test_set_elements.numpy()\n",
        "final_training_set=[]\n",
        "final_training_labels=[]\n",
        "final_validation_set=[]\n",
        "final_validation_labels=[]\n",
        "final_test_set=[]\n",
        "test_labels=[]\n",
        "for val in random_sampled_elements_numpy:\n",
        "  A=cv2.imread('/content/count the paperclips/clips-data-2020/clips/clips-'+str(val)+'.png')\n",
        "  A=cv2.cvtColor(A, cv2.COLOR_BGR2RGB)\n",
        "  resized_image=convert_to_one_dimension(A)\n",
        "  final_training_set.append(resized_image)\n",
        "  final_training_labels.append(training_dict[val])\n",
        "\n",
        "for val in random_val_test_elements_numpy:\n",
        "  B=cv2.imread('/content/count the paperclips/clips-data-2020/clips/clips-'+str(val)+'.png')\n",
        "  B=cv2.cvtColor(B, cv2.COLOR_BGR2RGB)\n",
        "  resized_image_1=convert_to_one_dimension(B)\n",
        "  final_validation_set.append(resized_image)\n",
        "  final_validation_labels.append(training_dict[val])\n",
        "\n",
        "for val in test_set_elements_numpy:\n",
        "  C=cv2.imread('/content/count the paperclips/clips-data-2020/clips/clips-'+str(val)+'.png')\n",
        "  C=cv2.cvtColor(C, cv2.COLOR_BGR2RGB)\n",
        "  resized_image_2=convert_to_one_dimension(C)\n",
        "  final_test_set.append(resized_image_2)\n",
        "  test_labels.append(training_dict[val])\n",
        "\n",
        "final_training_set=np.array(final_training_set)\n",
        "final_validation_set=np.array(final_validation_set)\n",
        "final_test_set=np.array(final_test_set)\n",
        "final_training_set=torch.tensor(final_training_set,dtype=torch.float32) #(2000,(28*28)) dimensional Tensor of Training Set\n",
        "final_validation_set=torch.tensor(final_validation_set,dtype=torch.float32)  #(250,(28*28)) dimensional Tensor of Validation Set\n",
        "final_test_set=torch.tensor(final_test_set,dtype=torch.float32)  #(250,(28*28)) dimensional Tensor of Test Set\n",
        "final_training_labels=np.array(final_training_labels)\n",
        "final_validation_labels=np.array(final_validation_labels)\n",
        "test_labels=np.array(test_labels)\n",
        "final_training_labels=torch.tensor(final_training_labels,dtype=torch.float32)  #Training Labels(Tensor)\n",
        "final_validation_labels=torch.tensor(final_validation_labels,dtype=torch.float32) #Validation Labels(Tensor)\n",
        "test_labels=torch.tensor(test_labels,dtype=torch.float32)  #Test_Labels(Tensor)"
      ],
      "metadata": {
        "id": "1epwu999XlVf"
      },
      "execution_count": 94,
      "outputs": []
    },
    {
      "cell_type": "code",
      "source": [
        "\n",
        "import torch.nn as nn\n",
        "import torch.optim as optim\n",
        "\n",
        "criterion = nn.MSELoss()\n",
        "optimizer = optim.Adam(MLP_model.parameters(), lr=0.001)\n",
        "num_epochs = 20\n",
        "training_losses_list=[]\n",
        "validation_losses_list=[]\n",
        "lowest_val_loss = float('inf')\n",
        "\n",
        "for epoch in range(num_epochs):\n",
        "    # Forward Propagation\n",
        "    outputs = MLP_model(final_training_set)\n",
        "\n",
        "    # Computing loss\n",
        "    training_loss = criterion(outputs,final_training_labels)\n",
        "\n",
        "    # Backpropagation\n",
        "    optimizer.zero_grad()\n",
        "    training_loss.backward()\n",
        "    optimizer.step()\n",
        "    #print(f'Epoch [{epoch+1}/{num_epochs}], Loss: {loss.item():.4f}')\n",
        "    with torch.no_grad():\n",
        "      valid_outputs = MLP_model(final_validation_set)\n",
        "      val_loss = criterion(valid_outputs,final_validation_labels)\n",
        "\n",
        "    training_losses_list.append(training_loss.item())\n",
        "    validation_losses_list.append(val_loss.item())\n",
        "#Saving the best checkpoint path\n",
        "    if val_loss < lowest_val_loss:\n",
        "        lowest_val_loss = val_loss\n",
        "        best_epoch = epoch\n",
        "        torch.save(MLP_model.state_dict(), 'MLP_model_checkpoint.pth')\n",
        "\n",
        "plt.plot(range(1, num_epochs+1), training_losses_list, label='Training Loss')\n",
        "plt.plot(range(1, num_epochs+1), validation_losses_list, label='Validation Loss')\n",
        "plt.xlabel('Epoch')\n",
        "plt.ylabel('Loss')\n",
        "plt.legend()\n",
        "plt.show()"
      ],
      "metadata": {
        "colab": {
          "base_uri": "https://localhost:8080/",
          "height": 449
        },
        "id": "rypUaTc3B34V",
        "outputId": "544db420-2513-4334-fb85-6f92918e7e94"
      },
      "execution_count": 95,
      "outputs": [
        {
          "output_type": "display_data",
          "data": {
            "text/plain": [
              "<Figure size 640x480 with 1 Axes>"
            ],
            "image/png": "[encoded data removed]"
          },
          "metadata": {}
        }
      ]
    },
    {
      "cell_type": "code",
      "source": [
        "#I have loaded the model checkpoint path and saved it in the working directory\n",
        "MLP_model.load_state_dict(torch.load('MLP_model_checkpoint.pth'))\n"
      ],
      "metadata": {
        "colab": {
          "base_uri": "https://localhost:8080/"
        },
        "id": "CHqVHsdcPX3n",
        "outputId": "9d7706b4-408d-4261-d194-5cc4098c63d0"
      },
      "execution_count": 96,
      "outputs": [
        {
          "output_type": "execute_result",
          "data": {
            "text/plain": [
              "<All keys matched successfully>"
            ]
          },
          "metadata": {},
          "execution_count": 96
        }
      ]
    },
    {
      "cell_type": "code",
      "source": [
        "'''\n",
        "Evaluating my trained model on the Test Set\n",
        "'''\n",
        "with torch.no_grad():\n",
        "    test_outputs = MLP_model(final_test_set)\n",
        "    test_loss = criterion(test_outputs, test_labels)\n",
        "    rmse_test_loss = torch.sqrt(test_loss)\n",
        "\n",
        "print(rmse_test_loss)"
      ],
      "metadata": {
        "id": "w-a3LMZeXfMm",
        "colab": {
          "base_uri": "https://localhost:8080/"
        },
        "outputId": "8d4dc2e2-aa90-46ab-94cb-16eeee0c59d0"
      },
      "execution_count": 100,
      "outputs": [
        {
          "output_type": "stream",
          "name": "stdout",
          "text": [
            "tensor(22.7192)\n"
          ]
        },
        {
          "output_type": "stream",
          "name": "stderr",
          "text": [
            "/usr/local/lib/python3.10/dist-packages/torch/nn/modules/loss.py:535: UserWarning: Using a target size (torch.Size([250])) that is different to the input size (torch.Size([250, 1])). This will likely lead to incorrect results due to broadcasting. Please ensure they have the same size.\n",
            "  return F.mse_loss(input, target, reduction=self.reduction)\n"
          ]
        }
      ]
    },
    {
      "cell_type": "markdown",
      "source": [
        "Next, I have plotted the \"Predicted Value\" vs \"Ground Truth Value\" in the form of a scatter plot for the no.of clips using the Test Set data."
      ],
      "metadata": {
        "id": "Wvu3qPciBqnb"
      }
    },
    {
      "cell_type": "code",
      "source": [
        "plt.figure(figsize=(8, 8))\n",
        "plt.scatter(test_labels, test_outputs, c='green', label='Ground Truth vs Predicted')\n",
        "plt.xlabel('Ground Truth')\n",
        "plt.ylabel('Predicted')\n",
        "plt.title('Ground Truth vs Predicted Number of Clips(using Test Set)')\n",
        "plt.legend()\n",
        "plt.show()"
      ],
      "metadata": {
        "colab": {
          "base_uri": "https://localhost:8080/",
          "height": 718
        },
        "id": "r8BbI21CBpGJ",
        "outputId": "0ad5a736-7c2f-40b3-bb2f-4fe3642aeb08"
      },
      "execution_count": 102,
      "outputs": [
        {
          "output_type": "display_data",
          "data": {
            "text/plain": [
              "<Figure size 800x800 with 1 Axes>"
            ],
            "image/png": "[encoded data removed]"
          },
          "metadata": {}
        }
      ]
    },
    {
      "cell_type": "code",
      "source": [
        "print(f'Epoch with lowest MSE on validation set: {best_epoch + 1}')\n",
        "print(f'Average MSE on the test set: {test_loss.item():.4f}')\n",
        "print(f'RMSE on the test set: {rmse_test_loss.item():.4f}')"
      ],
      "metadata": {
        "colab": {
          "base_uri": "https://localhost:8080/"
        },
        "id": "PJlWFjbNWaT1",
        "outputId": "853085e8-9260-4e3d-82ea-6cd4f45bfb72"
      },
      "execution_count": 103,
      "outputs": [
        {
          "output_type": "stream",
          "name": "stdout",
          "text": [
            "Epoch with lowest MSE on validation set: 16\n",
            "Average MSE on the test set: 516.1622\n",
            "RMSE on the test set: 22.7192\n"
          ]
        }
      ]
    },
    {
      "cell_type": "code",
      "source": [],
      "metadata": {
        "id": "tUaSLBA7XtAU"
      },
      "execution_count": null,
      "outputs": []
    }
  ]
}